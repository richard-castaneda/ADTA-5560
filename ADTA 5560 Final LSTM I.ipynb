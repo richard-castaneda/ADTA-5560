{
 "cells": [
  {
   "cell_type": "markdown",
   "id": "7ba29008",
   "metadata": {},
   "source": [
    "### Richard Castaneda LSTM Midterm ###"
   ]
  },
  {
   "cell_type": "code",
   "execution_count": 38,
   "id": "c73039ad",
   "metadata": {},
   "outputs": [],
   "source": [
    "# IMPORT BASIC lIBRARIES\n",
    "\n",
    "import pandas as pd\n",
    "import numpy as np\n",
    "%matplotlib inline\n",
    "import matplotlib.pyplot as plt"
   ]
  },
  {
   "cell_type": "code",
   "execution_count": 39,
   "id": "9616d44f",
   "metadata": {},
   "outputs": [],
   "source": [
    "# For timeseries RNN LSTM neural network\n",
    "\n",
    "from tensorflow.keras.models import Sequential\n",
    "from tensorflow.keras.layers import LSTM\n",
    "from tensorflow.keras.layers import Dropout\n",
    "from tensorflow.keras.layers import Dense"
   ]
  },
  {
   "cell_type": "code",
   "execution_count": 40,
   "id": "c9132083",
   "metadata": {},
   "outputs": [],
   "source": [
    "# IMPORT KERAS: TimeseriesGenerator\n",
    "#This class produce time series batches use on training/testing the model\n",
    "from tensorflow.keras.preprocessing.sequence import TimeseriesGenerator\n",
    "\n",
    "# IMPORT KERAS: MinMaxScaler\n",
    "# This class is used to pre process (scale) the data\n",
    "from sklearn.preprocessing import MinMaxScaler"
   ]
  },
  {
   "cell_type": "code",
   "execution_count": 46,
   "id": "3cc52176",
   "metadata": {},
   "outputs": [],
   "source": [
    "dfTSLA = 'Downloads/TSLA.csv'"
   ]
  },
  {
   "cell_type": "code",
   "execution_count": 47,
   "id": "b7ffb234",
   "metadata": {},
   "outputs": [],
   "source": [
    "df_ALL = pd.read_csv(dfTSLA)"
   ]
  },
  {
   "cell_type": "code",
   "execution_count": 48,
   "id": "84cf3ed1",
   "metadata": {},
   "outputs": [
    {
     "data": {
      "text/html": [
       "<div>\n",
       "<style scoped>\n",
       "    .dataframe tbody tr th:only-of-type {\n",
       "        vertical-align: middle;\n",
       "    }\n",
       "\n",
       "    .dataframe tbody tr th {\n",
       "        vertical-align: top;\n",
       "    }\n",
       "\n",
       "    .dataframe thead th {\n",
       "        text-align: right;\n",
       "    }\n",
       "</style>\n",
       "<table border=\"1\" class=\"dataframe\">\n",
       "  <thead>\n",
       "    <tr style=\"text-align: right;\">\n",
       "      <th></th>\n",
       "      <th>Date</th>\n",
       "      <th>Open</th>\n",
       "      <th>High</th>\n",
       "      <th>Low</th>\n",
       "      <th>Close</th>\n",
       "      <th>Adj Close</th>\n",
       "      <th>Volume</th>\n",
       "    </tr>\n",
       "  </thead>\n",
       "  <tbody>\n",
       "    <tr>\n",
       "      <th>0</th>\n",
       "      <td>3/5/2018</td>\n",
       "      <td>22.159332</td>\n",
       "      <td>22.516666</td>\n",
       "      <td>21.952667</td>\n",
       "      <td>22.223333</td>\n",
       "      <td>22.223333</td>\n",
       "      <td>57357000</td>\n",
       "    </tr>\n",
       "    <tr>\n",
       "      <th>1</th>\n",
       "      <td>3/6/2018</td>\n",
       "      <td>22.250000</td>\n",
       "      <td>22.424667</td>\n",
       "      <td>21.802000</td>\n",
       "      <td>21.879999</td>\n",
       "      <td>21.879999</td>\n",
       "      <td>64285500</td>\n",
       "    </tr>\n",
       "    <tr>\n",
       "      <th>2</th>\n",
       "      <td>3/7/2018</td>\n",
       "      <td>21.695999</td>\n",
       "      <td>22.166668</td>\n",
       "      <td>21.449333</td>\n",
       "      <td>22.153334</td>\n",
       "      <td>22.153334</td>\n",
       "      <td>75109500</td>\n",
       "    </tr>\n",
       "    <tr>\n",
       "      <th>3</th>\n",
       "      <td>3/8/2018</td>\n",
       "      <td>22.190666</td>\n",
       "      <td>22.219999</td>\n",
       "      <td>21.751333</td>\n",
       "      <td>21.940001</td>\n",
       "      <td>21.940001</td>\n",
       "      <td>53493000</td>\n",
       "    </tr>\n",
       "    <tr>\n",
       "      <th>4</th>\n",
       "      <td>3/9/2018</td>\n",
       "      <td>21.606667</td>\n",
       "      <td>21.899332</td>\n",
       "      <td>21.491333</td>\n",
       "      <td>21.811333</td>\n",
       "      <td>21.811333</td>\n",
       "      <td>82602000</td>\n",
       "    </tr>\n",
       "  </tbody>\n",
       "</table>\n",
       "</div>"
      ],
      "text/plain": [
       "       Date       Open       High        Low      Close  Adj Close    Volume\n",
       "0  3/5/2018  22.159332  22.516666  21.952667  22.223333  22.223333  57357000\n",
       "1  3/6/2018  22.250000  22.424667  21.802000  21.879999  21.879999  64285500\n",
       "2  3/7/2018  21.695999  22.166668  21.449333  22.153334  22.153334  75109500\n",
       "3  3/8/2018  22.190666  22.219999  21.751333  21.940001  21.940001  53493000\n",
       "4  3/9/2018  21.606667  21.899332  21.491333  21.811333  21.811333  82602000"
      ]
     },
     "execution_count": 48,
     "metadata": {},
     "output_type": "execute_result"
    }
   ],
   "source": [
    "df_ALL.head()"
   ]
  },
  {
   "cell_type": "code",
   "execution_count": 49,
   "id": "0be33861",
   "metadata": {},
   "outputs": [
    {
     "data": {
      "text/html": [
       "<div>\n",
       "<style scoped>\n",
       "    .dataframe tbody tr th:only-of-type {\n",
       "        vertical-align: middle;\n",
       "    }\n",
       "\n",
       "    .dataframe tbody tr th {\n",
       "        vertical-align: top;\n",
       "    }\n",
       "\n",
       "    .dataframe thead th {\n",
       "        text-align: right;\n",
       "    }\n",
       "</style>\n",
       "<table border=\"1\" class=\"dataframe\">\n",
       "  <thead>\n",
       "    <tr style=\"text-align: right;\">\n",
       "      <th></th>\n",
       "      <th>Date</th>\n",
       "      <th>Open</th>\n",
       "      <th>High</th>\n",
       "      <th>Low</th>\n",
       "      <th>Close</th>\n",
       "      <th>Adj Close</th>\n",
       "      <th>Volume</th>\n",
       "    </tr>\n",
       "  </thead>\n",
       "  <tbody>\n",
       "    <tr>\n",
       "      <th>1136</th>\n",
       "      <td>9/7/2022</td>\n",
       "      <td>273.100006</td>\n",
       "      <td>283.839996</td>\n",
       "      <td>272.269989</td>\n",
       "      <td>283.700012</td>\n",
       "      <td>283.700012</td>\n",
       "      <td>50028900</td>\n",
       "    </tr>\n",
       "    <tr>\n",
       "      <th>1137</th>\n",
       "      <td>9/8/2022</td>\n",
       "      <td>281.299988</td>\n",
       "      <td>289.500000</td>\n",
       "      <td>279.760010</td>\n",
       "      <td>289.260010</td>\n",
       "      <td>289.260010</td>\n",
       "      <td>53713100</td>\n",
       "    </tr>\n",
       "    <tr>\n",
       "      <th>1138</th>\n",
       "      <td>9/9/2022</td>\n",
       "      <td>291.670013</td>\n",
       "      <td>299.850006</td>\n",
       "      <td>291.250000</td>\n",
       "      <td>299.679993</td>\n",
       "      <td>299.679993</td>\n",
       "      <td>54338100</td>\n",
       "    </tr>\n",
       "    <tr>\n",
       "      <th>1139</th>\n",
       "      <td>9/12/2022</td>\n",
       "      <td>300.720001</td>\n",
       "      <td>305.489990</td>\n",
       "      <td>300.399994</td>\n",
       "      <td>304.420013</td>\n",
       "      <td>304.420013</td>\n",
       "      <td>48674600</td>\n",
       "    </tr>\n",
       "    <tr>\n",
       "      <th>1140</th>\n",
       "      <td>9/13/2022</td>\n",
       "      <td>292.899994</td>\n",
       "      <td>297.399994</td>\n",
       "      <td>290.399994</td>\n",
       "      <td>292.130005</td>\n",
       "      <td>292.130005</td>\n",
       "      <td>68229600</td>\n",
       "    </tr>\n",
       "  </tbody>\n",
       "</table>\n",
       "</div>"
      ],
      "text/plain": [
       "           Date        Open        High         Low       Close   Adj Close  \\\n",
       "1136   9/7/2022  273.100006  283.839996  272.269989  283.700012  283.700012   \n",
       "1137   9/8/2022  281.299988  289.500000  279.760010  289.260010  289.260010   \n",
       "1138   9/9/2022  291.670013  299.850006  291.250000  299.679993  299.679993   \n",
       "1139  9/12/2022  300.720001  305.489990  300.399994  304.420013  304.420013   \n",
       "1140  9/13/2022  292.899994  297.399994  290.399994  292.130005  292.130005   \n",
       "\n",
       "        Volume  \n",
       "1136  50028900  \n",
       "1137  53713100  \n",
       "1138  54338100  \n",
       "1139  48674600  \n",
       "1140  68229600  "
      ]
     },
     "execution_count": 49,
     "metadata": {},
     "output_type": "execute_result"
    }
   ],
   "source": [
    "df_ALL.tail()"
   ]
  },
  {
   "cell_type": "markdown",
   "id": "90713857",
   "metadata": {},
   "source": [
    "### Brief Exploratory Data Analyis EDA ###"
   ]
  },
  {
   "cell_type": "code",
   "execution_count": 50,
   "id": "5a2d656d",
   "metadata": {},
   "outputs": [
    {
     "data": {
      "text/plain": [
       "(1141, 7)"
      ]
     },
     "execution_count": 50,
     "metadata": {},
     "output_type": "execute_result"
    }
   ],
   "source": [
    "df_ALL.shape"
   ]
  },
  {
   "cell_type": "code",
   "execution_count": 51,
   "id": "5ac545a1",
   "metadata": {},
   "outputs": [
    {
     "data": {
      "text/plain": [
       "Date          object\n",
       "Open         float64\n",
       "High         float64\n",
       "Low          float64\n",
       "Close        float64\n",
       "Adj Close    float64\n",
       "Volume         int64\n",
       "dtype: object"
      ]
     },
     "execution_count": 51,
     "metadata": {},
     "output_type": "execute_result"
    }
   ],
   "source": [
    "df_ALL.dtypes"
   ]
  },
  {
   "cell_type": "code",
   "execution_count": 52,
   "id": "3b998698",
   "metadata": {},
   "outputs": [
    {
     "data": {
      "text/html": [
       "<div>\n",
       "<style scoped>\n",
       "    .dataframe tbody tr th:only-of-type {\n",
       "        vertical-align: middle;\n",
       "    }\n",
       "\n",
       "    .dataframe tbody tr th {\n",
       "        vertical-align: top;\n",
       "    }\n",
       "\n",
       "    .dataframe thead th {\n",
       "        text-align: right;\n",
       "    }\n",
       "</style>\n",
       "<table border=\"1\" class=\"dataframe\">\n",
       "  <thead>\n",
       "    <tr style=\"text-align: right;\">\n",
       "      <th></th>\n",
       "      <th>Open</th>\n",
       "      <th>High</th>\n",
       "      <th>Low</th>\n",
       "      <th>Close</th>\n",
       "      <th>Adj Close</th>\n",
       "      <th>Volume</th>\n",
       "    </tr>\n",
       "  </thead>\n",
       "  <tbody>\n",
       "    <tr>\n",
       "      <th>count</th>\n",
       "      <td>1141.000000</td>\n",
       "      <td>1141.000000</td>\n",
       "      <td>1141.000000</td>\n",
       "      <td>1141.000000</td>\n",
       "      <td>1141.000000</td>\n",
       "      <td>1.141000e+03</td>\n",
       "    </tr>\n",
       "    <tr>\n",
       "      <th>mean</th>\n",
       "      <td>130.863064</td>\n",
       "      <td>133.897266</td>\n",
       "      <td>127.567752</td>\n",
       "      <td>130.826040</td>\n",
       "      <td>130.826040</td>\n",
       "      <td>1.363922e+08</td>\n",
       "    </tr>\n",
       "    <tr>\n",
       "      <th>std</th>\n",
       "      <td>119.920816</td>\n",
       "      <td>122.640329</td>\n",
       "      <td>116.838017</td>\n",
       "      <td>119.767818</td>\n",
       "      <td>119.767818</td>\n",
       "      <td>9.309932e+07</td>\n",
       "    </tr>\n",
       "    <tr>\n",
       "      <th>min</th>\n",
       "      <td>12.073333</td>\n",
       "      <td>12.445333</td>\n",
       "      <td>11.799333</td>\n",
       "      <td>11.931333</td>\n",
       "      <td>11.931333</td>\n",
       "      <td>2.940180e+07</td>\n",
       "    </tr>\n",
       "    <tr>\n",
       "      <th>25%</th>\n",
       "      <td>20.489332</td>\n",
       "      <td>20.966667</td>\n",
       "      <td>20.070000</td>\n",
       "      <td>20.582666</td>\n",
       "      <td>20.582666</td>\n",
       "      <td>7.689750e+07</td>\n",
       "    </tr>\n",
       "    <tr>\n",
       "      <th>50%</th>\n",
       "      <td>61.566666</td>\n",
       "      <td>64.599335</td>\n",
       "      <td>60.610668</td>\n",
       "      <td>62.711334</td>\n",
       "      <td>62.711334</td>\n",
       "      <td>1.044990e+08</td>\n",
       "    </tr>\n",
       "    <tr>\n",
       "      <th>75%</th>\n",
       "      <td>237.570007</td>\n",
       "      <td>243.576660</td>\n",
       "      <td>233.626663</td>\n",
       "      <td>237.919998</td>\n",
       "      <td>237.919998</td>\n",
       "      <td>1.627245e+08</td>\n",
       "    </tr>\n",
       "    <tr>\n",
       "      <th>max</th>\n",
       "      <td>411.470001</td>\n",
       "      <td>414.496674</td>\n",
       "      <td>405.666656</td>\n",
       "      <td>409.970001</td>\n",
       "      <td>409.970001</td>\n",
       "      <td>9.140820e+08</td>\n",
       "    </tr>\n",
       "  </tbody>\n",
       "</table>\n",
       "</div>"
      ],
      "text/plain": [
       "              Open         High          Low        Close    Adj Close  \\\n",
       "count  1141.000000  1141.000000  1141.000000  1141.000000  1141.000000   \n",
       "mean    130.863064   133.897266   127.567752   130.826040   130.826040   \n",
       "std     119.920816   122.640329   116.838017   119.767818   119.767818   \n",
       "min      12.073333    12.445333    11.799333    11.931333    11.931333   \n",
       "25%      20.489332    20.966667    20.070000    20.582666    20.582666   \n",
       "50%      61.566666    64.599335    60.610668    62.711334    62.711334   \n",
       "75%     237.570007   243.576660   233.626663   237.919998   237.919998   \n",
       "max     411.470001   414.496674   405.666656   409.970001   409.970001   \n",
       "\n",
       "             Volume  \n",
       "count  1.141000e+03  \n",
       "mean   1.363922e+08  \n",
       "std    9.309932e+07  \n",
       "min    2.940180e+07  \n",
       "25%    7.689750e+07  \n",
       "50%    1.044990e+08  \n",
       "75%    1.627245e+08  \n",
       "max    9.140820e+08  "
      ]
     },
     "execution_count": 52,
     "metadata": {},
     "output_type": "execute_result"
    }
   ],
   "source": [
    "# Statistics Summary\n",
    "df_ALL.describe()"
   ]
  },
  {
   "cell_type": "code",
   "execution_count": 53,
   "id": "736e6214",
   "metadata": {},
   "outputs": [],
   "source": [
    "df = df_ALL.iloc[:,4:5]"
   ]
  },
  {
   "cell_type": "code",
   "execution_count": 54,
   "id": "2885aac5",
   "metadata": {},
   "outputs": [
    {
     "data": {
      "text/html": [
       "<div>\n",
       "<style scoped>\n",
       "    .dataframe tbody tr th:only-of-type {\n",
       "        vertical-align: middle;\n",
       "    }\n",
       "\n",
       "    .dataframe tbody tr th {\n",
       "        vertical-align: top;\n",
       "    }\n",
       "\n",
       "    .dataframe thead th {\n",
       "        text-align: right;\n",
       "    }\n",
       "</style>\n",
       "<table border=\"1\" class=\"dataframe\">\n",
       "  <thead>\n",
       "    <tr style=\"text-align: right;\">\n",
       "      <th></th>\n",
       "      <th>Close</th>\n",
       "    </tr>\n",
       "  </thead>\n",
       "  <tbody>\n",
       "    <tr>\n",
       "      <th>0</th>\n",
       "      <td>22.223333</td>\n",
       "    </tr>\n",
       "    <tr>\n",
       "      <th>1</th>\n",
       "      <td>21.879999</td>\n",
       "    </tr>\n",
       "    <tr>\n",
       "      <th>2</th>\n",
       "      <td>22.153334</td>\n",
       "    </tr>\n",
       "    <tr>\n",
       "      <th>3</th>\n",
       "      <td>21.940001</td>\n",
       "    </tr>\n",
       "    <tr>\n",
       "      <th>4</th>\n",
       "      <td>21.811333</td>\n",
       "    </tr>\n",
       "  </tbody>\n",
       "</table>\n",
       "</div>"
      ],
      "text/plain": [
       "       Close\n",
       "0  22.223333\n",
       "1  21.879999\n",
       "2  22.153334\n",
       "3  21.940001\n",
       "4  21.811333"
      ]
     },
     "execution_count": 54,
     "metadata": {},
     "output_type": "execute_result"
    }
   ],
   "source": [
    "df.head()"
   ]
  },
  {
   "cell_type": "code",
   "execution_count": 55,
   "id": "ec6d9aae",
   "metadata": {},
   "outputs": [
    {
     "data": {
      "text/plain": [
       "<AxesSubplot: >"
      ]
     },
     "execution_count": 55,
     "metadata": {},
     "output_type": "execute_result"
    },
    {
     "data": {
      "image/png": "[encoded data removed]",
      "text/plain": [
       "<Figure size 1200x800 with 1 Axes>"
      ]
     },
     "metadata": {},
     "output_type": "display_data"
    }
   ],
   "source": [
    "df.plot(figsize=(12,8))"
   ]
  },
  {
   "cell_type": "markdown",
   "id": "2cc9e4a9",
   "metadata": {},
   "source": [
    "### Set length of the input sequence  ###"
   ]
  },
  {
   "cell_type": "code",
   "execution_count": 56,
   "id": "7859031d",
   "metadata": {},
   "outputs": [],
   "source": [
    "# Set length of the input sequence \n",
    "#i.e time series steps that are used for future predictions\n",
    "#Currently us 60 historical data points\n",
    "length60 = 60"
   ]
  },
  {
   "cell_type": "code",
   "execution_count": 57,
   "id": "49fc973c",
   "metadata": {},
   "outputs": [
    {
     "data": {
      "text/plain": [
       "60"
      ]
     },
     "execution_count": 57,
     "metadata": {},
     "output_type": "execute_result"
    }
   ],
   "source": [
    "length60"
   ]
  },
  {
   "cell_type": "code",
   "execution_count": 58,
   "id": "9e38d5ff",
   "metadata": {},
   "outputs": [
    {
     "data": {
      "text/plain": [
       "1141"
      ]
     },
     "execution_count": 58,
     "metadata": {},
     "output_type": "execute_result"
    }
   ],
   "source": [
    "len(df)"
   ]
  },
  {
   "cell_type": "code",
   "execution_count": 59,
   "id": "ef4886f3",
   "metadata": {},
   "outputs": [],
   "source": [
    "# Set percentage \n",
    "test_percent = 0.2"
   ]
  },
  {
   "cell_type": "code",
   "execution_count": 60,
   "id": "b0a8a951",
   "metadata": {},
   "outputs": [
    {
     "data": {
      "text/plain": [
       "228.20000000000002"
      ]
     },
     "execution_count": 60,
     "metadata": {},
     "output_type": "execute_result"
    }
   ],
   "source": [
    "#Number of data points reserved for testing \n",
    "# 20 percent\n",
    "len(df)*test_percent"
   ]
  },
  {
   "cell_type": "code",
   "execution_count": 61,
   "id": "6679f1b8",
   "metadata": {},
   "outputs": [
    {
     "data": {
      "text/plain": [
       "228.0"
      ]
     },
     "execution_count": 61,
     "metadata": {},
     "output_type": "execute_result"
    }
   ],
   "source": [
    "# Need to find the length of testing datasets\n",
    "test_length = np.round(len(df)*test_percent)\n",
    "\n",
    "test_length"
   ]
  },
  {
   "cell_type": "code",
   "execution_count": 62,
   "id": "75c11e65",
   "metadata": {},
   "outputs": [
    {
     "data": {
      "text/plain": [
       "913"
      ]
     },
     "execution_count": 62,
     "metadata": {},
     "output_type": "execute_result"
    }
   ],
   "source": [
    "# Testing data set starts at this index\n",
    "split_index = int(len(df) - test_length)\n",
    "\n",
    "split_index"
   ]
  },
  {
   "cell_type": "code",
   "execution_count": 63,
   "id": "a8a09fd6",
   "metadata": {},
   "outputs": [],
   "source": [
    "# The testing data set starts at this index\n",
    "data_train = df.iloc[: split_index]\n",
    "\n",
    "# Testing dataset\n",
    "data_test = df.iloc[split_index - length60 :]"
   ]
  },
  {
   "cell_type": "code",
   "execution_count": 64,
   "id": "46c788c7",
   "metadata": {},
   "outputs": [
    {
     "data": {
      "text/html": [
       "<div>\n",
       "<style scoped>\n",
       "    .dataframe tbody tr th:only-of-type {\n",
       "        vertical-align: middle;\n",
       "    }\n",
       "\n",
       "    .dataframe tbody tr th {\n",
       "        vertical-align: top;\n",
       "    }\n",
       "\n",
       "    .dataframe thead th {\n",
       "        text-align: right;\n",
       "    }\n",
       "</style>\n",
       "<table border=\"1\" class=\"dataframe\">\n",
       "  <thead>\n",
       "    <tr style=\"text-align: right;\">\n",
       "      <th></th>\n",
       "      <th>Close</th>\n",
       "    </tr>\n",
       "  </thead>\n",
       "  <tbody>\n",
       "    <tr>\n",
       "      <th>0</th>\n",
       "      <td>22.223333</td>\n",
       "    </tr>\n",
       "    <tr>\n",
       "      <th>1</th>\n",
       "      <td>21.879999</td>\n",
       "    </tr>\n",
       "    <tr>\n",
       "      <th>2</th>\n",
       "      <td>22.153334</td>\n",
       "    </tr>\n",
       "    <tr>\n",
       "      <th>3</th>\n",
       "      <td>21.940001</td>\n",
       "    </tr>\n",
       "    <tr>\n",
       "      <th>4</th>\n",
       "      <td>21.811333</td>\n",
       "    </tr>\n",
       "  </tbody>\n",
       "</table>\n",
       "</div>"
      ],
      "text/plain": [
       "       Close\n",
       "0  22.223333\n",
       "1  21.879999\n",
       "2  22.153334\n",
       "3  21.940001\n",
       "4  21.811333"
      ]
     },
     "execution_count": 64,
     "metadata": {},
     "output_type": "execute_result"
    }
   ],
   "source": [
    "data_train.head(5)"
   ]
  },
  {
   "cell_type": "code",
   "execution_count": 65,
   "id": "26cdab74",
   "metadata": {},
   "outputs": [
    {
     "data": {
      "text/html": [
       "<div>\n",
       "<style scoped>\n",
       "    .dataframe tbody tr th:only-of-type {\n",
       "        vertical-align: middle;\n",
       "    }\n",
       "\n",
       "    .dataframe tbody tr th {\n",
       "        vertical-align: top;\n",
       "    }\n",
       "\n",
       "    .dataframe thead th {\n",
       "        text-align: right;\n",
       "    }\n",
       "</style>\n",
       "<table border=\"1\" class=\"dataframe\">\n",
       "  <thead>\n",
       "    <tr style=\"text-align: right;\">\n",
       "      <th></th>\n",
       "      <th>Close</th>\n",
       "    </tr>\n",
       "  </thead>\n",
       "  <tbody>\n",
       "    <tr>\n",
       "      <th>908</th>\n",
       "      <td>263.980011</td>\n",
       "    </tr>\n",
       "    <tr>\n",
       "      <th>909</th>\n",
       "      <td>268.573334</td>\n",
       "    </tr>\n",
       "    <tr>\n",
       "      <th>910</th>\n",
       "      <td>270.359985</td>\n",
       "    </tr>\n",
       "    <tr>\n",
       "      <th>911</th>\n",
       "      <td>272.773346</td>\n",
       "    </tr>\n",
       "    <tr>\n",
       "      <th>912</th>\n",
       "      <td>281.010010</td>\n",
       "    </tr>\n",
       "  </tbody>\n",
       "</table>\n",
       "</div>"
      ],
      "text/plain": [
       "          Close\n",
       "908  263.980011\n",
       "909  268.573334\n",
       "910  270.359985\n",
       "911  272.773346\n",
       "912  281.010010"
      ]
     },
     "execution_count": 65,
     "metadata": {},
     "output_type": "execute_result"
    }
   ],
   "source": [
    "data_train.tail()"
   ]
  },
  {
   "cell_type": "code",
   "execution_count": 66,
   "id": "60f30c81",
   "metadata": {},
   "outputs": [
    {
     "data": {
      "text/html": [
       "<div>\n",
       "<style scoped>\n",
       "    .dataframe tbody tr th:only-of-type {\n",
       "        vertical-align: middle;\n",
       "    }\n",
       "\n",
       "    .dataframe tbody tr th {\n",
       "        vertical-align: top;\n",
       "    }\n",
       "\n",
       "    .dataframe thead th {\n",
       "        text-align: right;\n",
       "    }\n",
       "</style>\n",
       "<table border=\"1\" class=\"dataframe\">\n",
       "  <thead>\n",
       "    <tr style=\"text-align: right;\">\n",
       "      <th></th>\n",
       "      <th>Close</th>\n",
       "    </tr>\n",
       "  </thead>\n",
       "  <tbody>\n",
       "    <tr>\n",
       "      <th>853</th>\n",
       "      <td>214.460007</td>\n",
       "    </tr>\n",
       "    <tr>\n",
       "      <th>854</th>\n",
       "      <td>219.206665</td>\n",
       "    </tr>\n",
       "    <tr>\n",
       "      <th>855</th>\n",
       "      <td>214.926666</td>\n",
       "    </tr>\n",
       "    <tr>\n",
       "      <th>856</th>\n",
       "      <td>215.660004</td>\n",
       "    </tr>\n",
       "    <tr>\n",
       "      <th>857</th>\n",
       "      <td>225.783340</td>\n",
       "    </tr>\n",
       "  </tbody>\n",
       "</table>\n",
       "</div>"
      ],
      "text/plain": [
       "          Close\n",
       "853  214.460007\n",
       "854  219.206665\n",
       "855  214.926666\n",
       "856  215.660004\n",
       "857  225.783340"
      ]
     },
     "execution_count": 66,
     "metadata": {},
     "output_type": "execute_result"
    }
   ],
   "source": [
    "data_test.head(5)"
   ]
  },
  {
   "cell_type": "code",
   "execution_count": 67,
   "id": "b7a2aa90",
   "metadata": {},
   "outputs": [
    {
     "data": {
      "text/html": [
       "<div>\n",
       "<style scoped>\n",
       "    .dataframe tbody tr th:only-of-type {\n",
       "        vertical-align: middle;\n",
       "    }\n",
       "\n",
       "    .dataframe tbody tr th {\n",
       "        vertical-align: top;\n",
       "    }\n",
       "\n",
       "    .dataframe thead th {\n",
       "        text-align: right;\n",
       "    }\n",
       "</style>\n",
       "<table border=\"1\" class=\"dataframe\">\n",
       "  <thead>\n",
       "    <tr style=\"text-align: right;\">\n",
       "      <th></th>\n",
       "      <th>Close</th>\n",
       "    </tr>\n",
       "  </thead>\n",
       "  <tbody>\n",
       "    <tr>\n",
       "      <th>1136</th>\n",
       "      <td>283.700012</td>\n",
       "    </tr>\n",
       "    <tr>\n",
       "      <th>1137</th>\n",
       "      <td>289.260010</td>\n",
       "    </tr>\n",
       "    <tr>\n",
       "      <th>1138</th>\n",
       "      <td>299.679993</td>\n",
       "    </tr>\n",
       "    <tr>\n",
       "      <th>1139</th>\n",
       "      <td>304.420013</td>\n",
       "    </tr>\n",
       "    <tr>\n",
       "      <th>1140</th>\n",
       "      <td>292.130005</td>\n",
       "    </tr>\n",
       "  </tbody>\n",
       "</table>\n",
       "</div>"
      ],
      "text/plain": [
       "           Close\n",
       "1136  283.700012\n",
       "1137  289.260010\n",
       "1138  299.679993\n",
       "1139  304.420013\n",
       "1140  292.130005"
      ]
     },
     "execution_count": 67,
     "metadata": {},
     "output_type": "execute_result"
    }
   ],
   "source": [
    "data_test.tail()"
   ]
  },
  {
   "cell_type": "markdown",
   "id": "5a87890b",
   "metadata": {},
   "source": [
    "### Normalize Data (Scale it into the range [0,1]) ###"
   ]
  },
  {
   "cell_type": "code",
   "execution_count": 68,
   "id": "b262471b",
   "metadata": {},
   "outputs": [],
   "source": [
    "# Create a MinMaxScaler to normalize the data\n",
    "scaler = MinMaxScaler()"
   ]
  },
  {
   "cell_type": "code",
   "execution_count": 69,
   "id": "45c43971",
   "metadata": {},
   "outputs": [
    {
     "data": {
      "text/html": [
       "<style>#sk-container-id-2 {color: black;background-color: white;}#sk-container-id-2 pre{padding: 0;}#sk-container-id-2 div.sk-toggleable {background-color: white;}#sk-container-id-2 label.sk-toggleable__label {cursor: pointer;display: block;width: 100%;margin-bottom: 0;padding: 0.3em;box-sizing: border-box;text-align: center;}#sk-container-id-2 label.sk-toggleable__label-arrow:before {content: \"▸\";float: left;margin-right: 0.25em;color: #696969;}#sk-container-id-2 label.sk-toggleable__label-arrow:hover:before {color: black;}#sk-container-id-2 div.sk-estimator:hover label.sk-toggleable__label-arrow:before {color: black;}#sk-container-id-2 div.sk-toggleable__content {max-height: 0;max-width: 0;overflow: hidden;text-align: left;background-color: #f0f8ff;}#sk-container-id-2 div.sk-toggleable__content pre {margin: 0.2em;color: black;border-radius: 0.25em;background-color: #f0f8ff;}#sk-container-id-2 input.sk-toggleable__control:checked~div.sk-toggleable__content {max-height: 200px;max-width: 100%;overflow: auto;}#sk-container-id-2 input.sk-toggleable__control:checked~label.sk-toggleable__label-arrow:before {content: \"▾\";}#sk-container-id-2 div.sk-estimator input.sk-toggleable__control:checked~label.sk-toggleable__label {background-color: #d4ebff;}#sk-container-id-2 div.sk-label input.sk-toggleable__control:checked~label.sk-toggleable__label {background-color: #d4ebff;}#sk-container-id-2 input.sk-hidden--visually {border: 0;clip: rect(1px 1px 1px 1px);clip: rect(1px, 1px, 1px, 1px);height: 1px;margin: -1px;overflow: hidden;padding: 0;position: absolute;width: 1px;}#sk-container-id-2 div.sk-estimator {font-family: monospace;background-color: #f0f8ff;border: 1px dotted black;border-radius: 0.25em;box-sizing: border-box;margin-bottom: 0.5em;}#sk-container-id-2 div.sk-estimator:hover {background-color: #d4ebff;}#sk-container-id-2 div.sk-parallel-item::after {content: \"\";width: 100%;border-bottom: 1px solid gray;flex-grow: 1;}#sk-container-id-2 div.sk-label:hover label.sk-toggleable__label {background-color: #d4ebff;}#sk-container-id-2 div.sk-serial::before {content: \"\";position: absolute;border-left: 1px solid gray;box-sizing: border-box;top: 0;bottom: 0;left: 50%;z-index: 0;}#sk-container-id-2 div.sk-serial {display: flex;flex-direction: column;align-items: center;background-color: white;padding-right: 0.2em;padding-left: 0.2em;position: relative;}#sk-container-id-2 div.sk-item {position: relative;z-index: 1;}#sk-container-id-2 div.sk-parallel {display: flex;align-items: stretch;justify-content: center;background-color: white;position: relative;}#sk-container-id-2 div.sk-item::before, #sk-container-id-2 div.sk-parallel-item::before {content: \"\";position: absolute;border-left: 1px solid gray;box-sizing: border-box;top: 0;bottom: 0;left: 50%;z-index: -1;}#sk-container-id-2 div.sk-parallel-item {display: flex;flex-direction: column;z-index: 1;position: relative;background-color: white;}#sk-container-id-2 div.sk-parallel-item:first-child::after {align-self: flex-end;width: 50%;}#sk-container-id-2 div.sk-parallel-item:last-child::after {align-self: flex-start;width: 50%;}#sk-container-id-2 div.sk-parallel-item:only-child::after {width: 0;}#sk-container-id-2 div.sk-dashed-wrapped {border: 1px dashed gray;margin: 0 0.4em 0.5em 0.4em;box-sizing: border-box;padding-bottom: 0.4em;background-color: white;}#sk-container-id-2 div.sk-label label {font-family: monospace;font-weight: bold;display: inline-block;line-height: 1.2em;}#sk-container-id-2 div.sk-label-container {text-align: center;}#sk-container-id-2 div.sk-container {/* jupyter's `normalize.less` sets `[hidden] { display: none; }` but bootstrap.min.css set `[hidden] { display: none !important; }` so we also need the `!important` here to be able to override the default hidden behavior on the sphinx rendered scikit-learn.org. See: https://github.com/scikit-learn/scikit-learn/issues/21755 */display: inline-block !important;position: relative;}#sk-container-id-2 div.sk-text-repr-fallback {display: none;}</style><div id=\"sk-container-id-2\" class=\"sk-top-container\"><div class=\"sk-text-repr-fallback\"><pre>MinMaxScaler()</pre><b>In a Jupyter environment, please rerun this cell to show the HTML representation or trust the notebook. <br />On GitHub, the HTML representation is unable to render, please try loading this page with nbviewer.org.</b></div><div class=\"sk-container\" hidden><div class=\"sk-item\"><div class=\"sk-estimator sk-toggleable\"><input class=\"sk-toggleable__control sk-hidden--visually\" id=\"sk-estimator-id-2\" type=\"checkbox\" checked><label for=\"sk-estimator-id-2\" class=\"sk-toggleable__label sk-toggleable__label-arrow\">MinMaxScaler</label><div class=\"sk-toggleable__content\"><pre>MinMaxScaler()</pre></div></div></div></div></div>"
      ],
      "text/plain": [
       "MinMaxScaler()"
      ]
     },
     "execution_count": 69,
     "metadata": {},
     "output_type": "execute_result"
    }
   ],
   "source": [
    "# ONLY scale the traing data - Not scale the testing data\n",
    "\n",
    "scaler.fit(data_train)"
   ]
  },
  {
   "cell_type": "code",
   "execution_count": 70,
   "id": "e6199450",
   "metadata": {},
   "outputs": [],
   "source": [
    "normalized_train = scaler.transform(data_train)\n",
    "\n",
    "normalized_test = scaler.transform(data_test)"
   ]
  },
  {
   "cell_type": "markdown",
   "id": "8ca9c0e2",
   "metadata": {},
   "source": [
    "### Create TimeseriesGenerator for Training ###"
   ]
  },
  {
   "cell_type": "code",
   "execution_count": 71,
   "id": "e07bc4eb",
   "metadata": {},
   "outputs": [],
   "source": [
    "# TimeseriesGenerator : Generate time series batches for traing/testing\n",
    "#Set the length of the input sequence as above\n",
    "#length60\n",
    "batch_size32 = 32\n",
    "\n",
    "#Create a TimeSeriesGenerator for training: train_tsGenerator\n",
    "# TS (inputs, outpus, length, batch_size)\n",
    "train_tsGenerator60 = TimeseriesGenerator(normalized_train, normalized_train, length=length60, batch_size=batch_size32)"
   ]
  },
  {
   "cell_type": "code",
   "execution_count": 72,
   "id": "3703bd93",
   "metadata": {},
   "outputs": [
    {
     "data": {
      "text/plain": [
       "913"
      ]
     },
     "execution_count": 72,
     "metadata": {},
     "output_type": "execute_result"
    }
   ],
   "source": [
    "len(normalized_train)"
   ]
  },
  {
   "cell_type": "code",
   "execution_count": 73,
   "id": "1b05ea52",
   "metadata": {},
   "outputs": [
    {
     "data": {
      "text/plain": [
       "27"
      ]
     },
     "execution_count": 73,
     "metadata": {},
     "output_type": "execute_result"
    }
   ],
   "source": [
    "len(train_tsGenerator60)"
   ]
  },
  {
   "cell_type": "code",
   "execution_count": 31,
   "id": "e88a29c9",
   "metadata": {},
   "outputs": [],
   "source": [
    "#What does the first batch look like?\n",
    "X,y = train_tsGenerator60[0]"
   ]
  },
  {
   "cell_type": "code",
   "execution_count": 213,
   "id": "0b58a03c",
   "metadata": {},
   "outputs": [
    {
     "data": {
      "text/plain": [
       "array([[[0.02585678],\n",
       "        [0.02499422],\n",
       "        [0.02568092],\n",
       "        ...,\n",
       "        [0.01656121],\n",
       "        [0.01672869],\n",
       "        [0.01755106]],\n",
       "\n",
       "       [[0.02499422],\n",
       "        [0.02568092],\n",
       "        [0.02514496],\n",
       "        ...,\n",
       "        [0.01672869],\n",
       "        [0.01755106],\n",
       "        [0.01888426]],\n",
       "\n",
       "       [[0.02568092],\n",
       "        [0.02514496],\n",
       "        [0.02482171],\n",
       "        ...,\n",
       "        [0.01755106],\n",
       "        [0.01888426],\n",
       "        [0.01771352]],\n",
       "\n",
       "       ...,\n",
       "\n",
       "       [[0.01879884],\n",
       "        [0.01820929],\n",
       "        [0.01915727],\n",
       "        ...,\n",
       "        [0.0217617 ],\n",
       "        [0.02337126],\n",
       "        [0.02403451]],\n",
       "\n",
       "       [[0.01820929],\n",
       "        [0.01915727],\n",
       "        [0.02028446],\n",
       "        ...,\n",
       "        [0.02337126],\n",
       "        [0.02403451],\n",
       "        [0.02344663]],\n",
       "\n",
       "       [[0.01915727],\n",
       "        [0.02028446],\n",
       "        [0.01863638],\n",
       "        ...,\n",
       "        [0.02403451],\n",
       "        [0.02344663],\n",
       "        [0.02306979]]])"
      ]
     },
     "execution_count": 213,
     "metadata": {},
     "output_type": "execute_result"
    }
   ],
   "source": [
    "# print(X)\n",
    "\n",
    "X"
   ]
  },
  {
   "cell_type": "code",
   "execution_count": 214,
   "id": "5f15c92b",
   "metadata": {},
   "outputs": [
    {
     "data": {
      "text/plain": [
       "array([[0.01888426],\n",
       "       [0.01771352],\n",
       "       [0.01890101],\n",
       "       [0.01972505],\n",
       "       [0.01878545],\n",
       "       [0.02353708],\n",
       "       [0.02296594],\n",
       "       [0.0232289 ],\n",
       "       [0.02564742],\n",
       "       [0.02743452],\n",
       "       [0.02777117],\n",
       "       [0.02993847],\n",
       "       [0.03001384],\n",
       "       [0.03213423],\n",
       "       [0.02907255],\n",
       "       [0.03069216],\n",
       "       [0.02822842],\n",
       "       [0.02590368],\n",
       "       [0.02579984],\n",
       "       [0.02730555],\n",
       "       [0.02772428],\n",
       "       [0.02863374],\n",
       "       [0.02746467],\n",
       "       [0.02614486],\n",
       "       [0.02208998],\n",
       "       [0.02180525],\n",
       "       [0.0217617 ],\n",
       "       [0.02337126],\n",
       "       [0.02403451],\n",
       "       [0.02344663],\n",
       "       [0.02306979],\n",
       "       [0.02343156]])"
      ]
     },
     "execution_count": 214,
     "metadata": {},
     "output_type": "execute_result"
    }
   ],
   "source": [
    "# print(y)\n",
    "\n",
    "y"
   ]
  },
  {
   "cell_type": "markdown",
   "id": "bac21c05",
   "metadata": {},
   "source": [
    "# Build, Train, and Test Model #"
   ]
  },
  {
   "cell_type": "markdown",
   "id": "a346974a",
   "metadata": {},
   "source": [
    "### Build LTSM Model ###"
   ]
  },
  {
   "cell_type": "code",
   "execution_count": 76,
   "id": "a7880dcc",
   "metadata": {},
   "outputs": [],
   "source": [
    "# Set number of features\n",
    "\n",
    "# Only using one feature: Close price\n",
    "n_features = 1"
   ]
  },
  {
   "cell_type": "code",
   "execution_count": 77,
   "id": "054f0e6d",
   "metadata": {},
   "outputs": [],
   "source": [
    "# define model\n",
    "model = Sequential()\n",
    "\n",
    "# Add on LSTM layer\n",
    "# This layer has 50 LSTM cells\n",
    "# Activation fuctions: relu\n",
    "model.add(LSTM(50, activation='relu', return_sequences=True, input_shape=(length60, n_features)))\n",
    "\n",
    "# Dropout layer\n",
    "model.add(Dropout(0.2))\n",
    "\n",
    "model.add(LSTM(units=50, activation='relu', return_sequences=True))\n",
    "\n",
    "model.add(Dropout(0.2))\n",
    "\n",
    "model.add(LSTM(units=50, activation='relu'))\n",
    "\n",
    "model.add(Dense(1))"
   ]
  },
  {
   "cell_type": "markdown",
   "id": "6d77992a",
   "metadata": {},
   "source": [
    "### Compile Model ###"
   ]
  },
  {
   "cell_type": "code",
   "execution_count": 78,
   "id": "094f7e4f",
   "metadata": {},
   "outputs": [
    {
     "name": "stdout",
     "output_type": "stream",
     "text": [
      "Model: \"sequential_1\"\n",
      "_________________________________________________________________\n",
      " Layer (type)                Output Shape              Param #   \n",
      "=================================================================\n",
      " lstm_3 (LSTM)               (None, 60, 50)            10400     \n",
      "                                                                 \n",
      " dropout_2 (Dropout)         (None, 60, 50)            0         \n",
      "                                                                 \n",
      " lstm_4 (LSTM)               (None, 60, 50)            20200     \n",
      "                                                                 \n",
      " dropout_3 (Dropout)         (None, 60, 50)            0         \n",
      "                                                                 \n",
      " lstm_5 (LSTM)               (None, 50)                20200     \n",
      "                                                                 \n",
      " dense_1 (Dense)             (None, 1)                 51        \n",
      "                                                                 \n",
      "=================================================================\n",
      "Total params: 50,851\n",
      "Trainable params: 50,851\n",
      "Non-trainable params: 0\n",
      "_________________________________________________________________\n"
     ]
    }
   ],
   "source": [
    "model.compile(optimizer='adam', loss='mse')\n",
    "model.summary()"
   ]
  },
  {
   "cell_type": "code",
   "execution_count": 80,
   "id": "2f7b8b34",
   "metadata": {},
   "outputs": [
    {
     "name": "stdout",
     "output_type": "stream",
     "text": [
      "Epoch 1/100\n",
      "27/27 [==============================] - 3s 94ms/step - loss: 0.0038\n",
      "Epoch 2/100\n",
      "27/27 [==============================] - 3s 98ms/step - loss: 0.0044\n",
      "Epoch 3/100\n",
      "27/27 [==============================] - 3s 107ms/step - loss: 0.0042\n",
      "Epoch 4/100\n",
      "27/27 [==============================] - 2s 65ms/step - loss: 0.0034\n",
      "Epoch 5/100\n",
      "27/27 [==============================] - 1s 51ms/step - loss: 0.0035\n",
      "Epoch 6/100\n",
      "27/27 [==============================] - 2s 56ms/step - loss: 0.0039\n",
      "Epoch 7/100\n",
      "27/27 [==============================] - 2s 55ms/step - loss: 0.0040\n",
      "Epoch 8/100\n",
      "27/27 [==============================] - 2s 68ms/step - loss: 0.0037\n",
      "Epoch 9/100\n",
      "27/27 [==============================] - 2s 68ms/step - loss: 0.0048\n",
      "Epoch 10/100\n",
      "27/27 [==============================] - 2s 69ms/step - loss: 0.0053\n",
      "Epoch 11/100\n",
      "27/27 [==============================] - 2s 70ms/step - loss: 0.0029\n",
      "Epoch 12/100\n",
      "27/27 [==============================] - 2s 67ms/step - loss: 0.0034\n",
      "Epoch 13/100\n",
      "27/27 [==============================] - 2s 70ms/step - loss: 0.0048\n",
      "Epoch 14/100\n",
      "27/27 [==============================] - 2s 67ms/step - loss: 0.0039\n",
      "Epoch 15/100\n",
      "27/27 [==============================] - 2s 66ms/step - loss: 0.0041\n",
      "Epoch 16/100\n",
      "27/27 [==============================] - 2s 66ms/step - loss: 0.0059\n",
      "Epoch 17/100\n",
      "27/27 [==============================] - 2s 66ms/step - loss: 0.0044\n",
      "Epoch 18/100\n",
      "27/27 [==============================] - 2s 66ms/step - loss: 0.0048\n",
      "Epoch 19/100\n",
      "27/27 [==============================] - 2s 65ms/step - loss: 0.0050\n",
      "Epoch 20/100\n",
      "27/27 [==============================] - 2s 66ms/step - loss: 0.0033\n",
      "Epoch 21/100\n",
      "27/27 [==============================] - 2s 66ms/step - loss: 0.0022\n",
      "Epoch 22/100\n",
      "27/27 [==============================] - 2s 71ms/step - loss: 0.0038\n",
      "Epoch 23/100\n",
      "27/27 [==============================] - 2s 66ms/step - loss: 0.0027\n",
      "Epoch 24/100\n",
      "27/27 [==============================] - 2s 67ms/step - loss: 0.0028\n",
      "Epoch 25/100\n",
      "27/27 [==============================] - 2s 69ms/step - loss: 0.0028\n",
      "Epoch 26/100\n",
      "27/27 [==============================] - 2s 68ms/step - loss: 0.0027\n",
      "Epoch 27/100\n",
      "27/27 [==============================] - 2s 67ms/step - loss: 0.0031\n",
      "Epoch 28/100\n",
      "27/27 [==============================] - 2s 67ms/step - loss: 0.0031\n",
      "Epoch 29/100\n",
      "27/27 [==============================] - 2s 68ms/step - loss: 0.0024\n",
      "Epoch 30/100\n",
      "27/27 [==============================] - 2s 67ms/step - loss: 0.0030\n",
      "Epoch 31/100\n",
      "27/27 [==============================] - 2s 70ms/step - loss: 0.0025\n",
      "Epoch 32/100\n",
      "27/27 [==============================] - 2s 67ms/step - loss: 0.0023\n",
      "Epoch 33/100\n",
      "27/27 [==============================] - 2s 66ms/step - loss: 0.0040\n",
      "Epoch 34/100\n",
      "27/27 [==============================] - 2s 66ms/step - loss: 0.0043\n",
      "Epoch 35/100\n",
      "27/27 [==============================] - 2s 66ms/step - loss: 0.0036\n",
      "Epoch 36/100\n",
      "27/27 [==============================] - 2s 66ms/step - loss: 0.0036\n",
      "Epoch 37/100\n",
      "27/27 [==============================] - 2s 66ms/step - loss: 0.0031\n",
      "Epoch 38/100\n",
      "27/27 [==============================] - 2s 67ms/step - loss: 0.0043\n",
      "Epoch 39/100\n",
      "27/27 [==============================] - 2s 69ms/step - loss: 0.0033\n",
      "Epoch 40/100\n",
      "27/27 [==============================] - 2s 67ms/step - loss: 0.0032\n",
      "Epoch 41/100\n",
      "27/27 [==============================] - 2s 66ms/step - loss: 0.0041\n",
      "Epoch 42/100\n",
      "27/27 [==============================] - 2s 66ms/step - loss: 0.0059\n",
      "Epoch 43/100\n",
      "27/27 [==============================] - 2s 68ms/step - loss: 0.0028\n",
      "Epoch 44/100\n",
      "27/27 [==============================] - 2s 71ms/step - loss: 0.0024\n",
      "Epoch 45/100\n",
      "27/27 [==============================] - 2s 70ms/step - loss: 0.0023\n",
      "Epoch 46/100\n",
      "27/27 [==============================] - 2s 66ms/step - loss: 0.0019\n",
      "Epoch 47/100\n",
      "27/27 [==============================] - 2s 67ms/step - loss: 0.0020\n",
      "Epoch 48/100\n",
      "27/27 [==============================] - 2s 71ms/step - loss: 0.0017\n",
      "Epoch 49/100\n",
      "27/27 [==============================] - 2s 67ms/step - loss: 0.0037\n",
      "Epoch 50/100\n",
      "27/27 [==============================] - 2s 67ms/step - loss: 0.0029\n",
      "Epoch 51/100\n",
      "27/27 [==============================] - 2s 72ms/step - loss: 0.0030\n",
      "Epoch 52/100\n",
      "27/27 [==============================] - 2s 73ms/step - loss: 0.0019\n",
      "Epoch 53/100\n",
      "27/27 [==============================] - 2s 67ms/step - loss: 0.0027\n",
      "Epoch 54/100\n",
      "27/27 [==============================] - 2s 66ms/step - loss: 0.0030\n",
      "Epoch 55/100\n",
      "27/27 [==============================] - 2s 67ms/step - loss: 0.0027\n",
      "Epoch 56/100\n",
      "27/27 [==============================] - 2s 71ms/step - loss: 0.0028\n",
      "Epoch 57/100\n",
      "27/27 [==============================] - 2s 69ms/step - loss: 0.0018\n",
      "Epoch 58/100\n",
      "27/27 [==============================] - 2s 71ms/step - loss: 0.0019\n",
      "Epoch 59/100\n",
      "27/27 [==============================] - 2s 67ms/step - loss: 0.0028\n",
      "Epoch 60/100\n",
      "27/27 [==============================] - 2s 66ms/step - loss: 0.0017\n",
      "Epoch 61/100\n",
      "27/27 [==============================] - 2s 68ms/step - loss: 0.0017\n",
      "Epoch 62/100\n",
      "27/27 [==============================] - 2s 82ms/step - loss: 0.0017\n",
      "Epoch 63/100\n",
      "27/27 [==============================] - 2s 85ms/step - loss: 0.0016\n",
      "Epoch 64/100\n",
      "27/27 [==============================] - 2s 74ms/step - loss: 0.0019\n",
      "Epoch 65/100\n",
      "27/27 [==============================] - 2s 77ms/step - loss: 0.0019\n",
      "Epoch 66/100\n",
      "27/27 [==============================] - 2s 74ms/step - loss: 0.0026\n",
      "Epoch 67/100\n",
      "27/27 [==============================] - 2s 67ms/step - loss: 0.0017\n",
      "Epoch 68/100\n",
      "27/27 [==============================] - 2s 67ms/step - loss: 0.0020\n",
      "Epoch 69/100\n",
      "27/27 [==============================] - 2s 68ms/step - loss: 0.0019\n",
      "Epoch 70/100\n",
      "27/27 [==============================] - 2s 72ms/step - loss: 0.0021\n",
      "Epoch 71/100\n",
      "27/27 [==============================] - 2s 70ms/step - loss: 0.0034\n",
      "Epoch 72/100\n",
      "27/27 [==============================] - 2s 70ms/step - loss: 0.0022\n",
      "Epoch 73/100\n",
      "27/27 [==============================] - 2s 72ms/step - loss: 0.0018\n",
      "Epoch 74/100\n",
      "27/27 [==============================] - 2s 70ms/step - loss: 0.0017\n",
      "Epoch 75/100\n",
      "27/27 [==============================] - 2s 68ms/step - loss: 0.0035\n",
      "Epoch 76/100\n",
      "27/27 [==============================] - 2s 71ms/step - loss: 0.0036\n",
      "Epoch 77/100\n",
      "27/27 [==============================] - 2s 69ms/step - loss: 0.0041\n",
      "Epoch 78/100\n",
      "27/27 [==============================] - 2s 72ms/step - loss: 0.0049\n",
      "Epoch 79/100\n",
      "27/27 [==============================] - 2s 67ms/step - loss: 0.0035\n",
      "Epoch 80/100\n",
      "27/27 [==============================] - 2s 71ms/step - loss: 0.0023\n",
      "Epoch 81/100\n",
      "27/27 [==============================] - 2s 75ms/step - loss: 0.0018\n",
      "Epoch 82/100\n",
      "27/27 [==============================] - 2s 68ms/step - loss: 0.0017\n",
      "Epoch 83/100\n",
      "27/27 [==============================] - 2s 69ms/step - loss: 0.0019\n",
      "Epoch 84/100\n",
      "27/27 [==============================] - 2s 68ms/step - loss: 0.0033\n",
      "Epoch 85/100\n",
      "27/27 [==============================] - 2s 68ms/step - loss: 0.0017\n",
      "Epoch 86/100\n",
      "27/27 [==============================] - 2s 68ms/step - loss: 0.0020\n",
      "Epoch 87/100\n",
      "27/27 [==============================] - 2s 67ms/step - loss: 0.0020\n",
      "Epoch 88/100\n",
      "27/27 [==============================] - 2s 68ms/step - loss: 0.0015\n",
      "Epoch 89/100\n",
      "27/27 [==============================] - 2s 71ms/step - loss: 0.0018\n",
      "Epoch 90/100\n",
      "27/27 [==============================] - 2s 70ms/step - loss: 0.0033\n",
      "Epoch 91/100\n",
      "27/27 [==============================] - 2s 69ms/step - loss: 0.0025\n",
      "Epoch 92/100\n",
      "27/27 [==============================] - 2s 68ms/step - loss: 0.0021\n",
      "Epoch 93/100\n",
      "27/27 [==============================] - 2s 70ms/step - loss: 0.0018\n",
      "Epoch 94/100\n",
      "27/27 [==============================] - 2s 69ms/step - loss: 0.0014\n",
      "Epoch 95/100\n",
      "27/27 [==============================] - 2s 66ms/step - loss: 0.0014\n",
      "Epoch 96/100\n",
      "27/27 [==============================] - 2s 69ms/step - loss: 0.0027\n",
      "Epoch 97/100\n",
      "27/27 [==============================] - 2s 70ms/step - loss: 0.0020\n",
      "Epoch 98/100\n",
      "27/27 [==============================] - 2s 72ms/step - loss: 0.0020\n",
      "Epoch 99/100\n",
      "27/27 [==============================] - 2s 68ms/step - loss: 0.0015\n",
      "Epoch 100/100\n",
      "27/27 [==============================] - 2s 68ms/step - loss: 0.0013\n"
     ]
    },
    {
     "data": {
      "text/plain": [
       "<keras.callbacks.History at 0x2652b386a90>"
      ]
     },
     "execution_count": 80,
     "metadata": {},
     "output_type": "execute_result"
    }
   ],
   "source": [
    "model.fit(train_tsGenerator60, epochs=100)"
   ]
  },
  {
   "cell_type": "markdown",
   "id": "a3ac62c8",
   "metadata": {},
   "source": [
    "## Visualize Models Performance after Training ##"
   ]
  },
  {
   "cell_type": "code",
   "execution_count": 81,
   "id": "08357543",
   "metadata": {},
   "outputs": [
    {
     "data": {
      "text/plain": [
       "dict_keys(['loss'])"
      ]
     },
     "execution_count": 81,
     "metadata": {},
     "output_type": "execute_result"
    }
   ],
   "source": [
    "loss_history_keys = model.history.history.keys()\n",
    "loss_history_keys"
   ]
  },
  {
   "cell_type": "code",
   "execution_count": 82,
   "id": "d45ee208",
   "metadata": {},
   "outputs": [
    {
     "data": {
      "text/plain": [
       "<AxesSubplot: >"
      ]
     },
     "execution_count": 82,
     "metadata": {},
     "output_type": "execute_result"
    },
    {
     "data": {
      "image/png": "[encoded data removed]",
      "text/plain": [
       "<Figure size 640x480 with 1 Axes>"
      ]
     },
     "metadata": {},
     "output_type": "display_data"
    }
   ],
   "source": [
    "df_model_loss = pd.DataFrame(model.history.history)\n",
    "df_model_loss.plot()"
   ]
  },
  {
   "cell_type": "markdown",
   "id": "2b35e5cb",
   "metadata": {},
   "source": [
    "### Prediction for Testing: Using TimeseriesGenerator ###"
   ]
  },
  {
   "cell_type": "code",
   "execution_count": 83,
   "id": "19a12397",
   "metadata": {},
   "outputs": [],
   "source": [
    "batch_size1 = 1\n",
    "test_tsGenerator60 = TimeseriesGenerator(normalized_test, normalized_test, length=length60, batch_size=batch_size1)"
   ]
  },
  {
   "cell_type": "code",
   "execution_count": 84,
   "id": "4f145e85",
   "metadata": {},
   "outputs": [
    {
     "name": "stdout",
     "output_type": "stream",
     "text": [
      "228/228 [==============================] - 1s 5ms/step\n"
     ]
    }
   ],
   "source": [
    "normalized_prediction = model.predict(test_tsGenerator60) "
   ]
  },
  {
   "cell_type": "code",
   "execution_count": 85,
   "id": "ae8b03d6",
   "metadata": {},
   "outputs": [
    {
     "data": {
      "text/plain": [
       "array([[0.9113258 ],\n",
       "       [0.91855097],\n",
       "       [0.9269245 ],\n",
       "       [0.9357117 ],\n",
       "       [0.9451923 ],\n",
       "       [0.9553691 ],\n",
       "       [0.96890044],\n",
       "       [0.98503876],\n",
       "       [1.0031599 ],\n",
       "       [1.0231092 ],\n",
       "       [1.0447295 ],\n",
       "       [1.069588  ],\n",
       "       [1.0951849 ],\n",
       "       [1.1211716 ],\n",
       "       [1.1466681 ],\n",
       "       [1.1702312 ],\n",
       "       [1.188825  ],\n",
       "       [1.1950328 ],\n",
       "       [1.1928009 ],\n",
       "       [1.1848009 ],\n",
       "       [1.1721401 ],\n",
       "       [1.1561098 ],\n",
       "       [1.1406237 ],\n",
       "       [1.1284807 ],\n",
       "       [1.1205353 ],\n",
       "       [1.1177702 ],\n",
       "       [1.1199856 ],\n",
       "       [1.124361  ],\n",
       "       [1.1298323 ],\n",
       "       [1.1341648 ],\n",
       "       [1.1389966 ],\n",
       "       [1.1445149 ],\n",
       "       [1.14844   ],\n",
       "       [1.1500825 ],\n",
       "       [1.1462985 ],\n",
       "       [1.1377751 ],\n",
       "       [1.128226  ],\n",
       "       [1.119857  ],\n",
       "       [1.1108658 ],\n",
       "       [1.1022302 ],\n",
       "       [1.0920871 ],\n",
       "       [1.0806653 ],\n",
       "       [1.0698038 ],\n",
       "       [1.0579742 ],\n",
       "       [1.0462284 ],\n",
       "       [1.0336044 ],\n",
       "       [1.0229771 ],\n",
       "       [1.0174583 ],\n",
       "       [1.0185722 ],\n",
       "       [1.0261896 ],\n",
       "       [1.0385638 ],\n",
       "       [1.0537479 ],\n",
       "       [1.0695355 ],\n",
       "       [1.0839185 ],\n",
       "       [1.1005912 ],\n",
       "       [1.117481  ],\n",
       "       [1.1312901 ],\n",
       "       [1.1404947 ],\n",
       "       [1.1434556 ],\n",
       "       [1.1426222 ],\n",
       "       [1.1396389 ],\n",
       "       [1.137211  ],\n",
       "       [1.1330613 ],\n",
       "       [1.1281904 ],\n",
       "       [1.1223625 ],\n",
       "       [1.114457  ],\n",
       "       [1.1052617 ],\n",
       "       [1.0929699 ],\n",
       "       [1.078012  ],\n",
       "       [1.0612963 ],\n",
       "       [1.0456495 ],\n",
       "       [1.0264548 ],\n",
       "       [1.0059216 ],\n",
       "       [0.990206  ],\n",
       "       [0.9804068 ],\n",
       "       [0.9752698 ],\n",
       "       [0.9731893 ],\n",
       "       [0.97425306],\n",
       "       [0.97705364],\n",
       "       [0.98130554],\n",
       "       [0.98672396],\n",
       "       [0.99166197],\n",
       "       [0.99327135],\n",
       "       [0.9924309 ],\n",
       "       [0.99187046],\n",
       "       [0.9923157 ],\n",
       "       [0.991778  ],\n",
       "       [0.9891031 ],\n",
       "       [0.9826377 ],\n",
       "       [0.96999633],\n",
       "       [0.9550925 ],\n",
       "       [0.94069004],\n",
       "       [0.9310699 ],\n",
       "       [0.9265955 ],\n",
       "       [0.9271476 ],\n",
       "       [0.92998505],\n",
       "       [0.9336016 ],\n",
       "       [0.9353685 ],\n",
       "       [0.93593305],\n",
       "       [0.93731064],\n",
       "       [0.9388384 ],\n",
       "       [0.93796617],\n",
       "       [0.93310237],\n",
       "       [0.9269759 ],\n",
       "       [0.9228223 ],\n",
       "       [0.92239773],\n",
       "       [0.92644095],\n",
       "       [0.93433523],\n",
       "       [0.94693923],\n",
       "       [0.9631542 ],\n",
       "       [0.9818232 ],\n",
       "       [1.0013098 ],\n",
       "       [1.0225775 ],\n",
       "       [1.0447614 ],\n",
       "       [1.066484  ],\n",
       "       [1.086172  ],\n",
       "       [1.1032526 ],\n",
       "       [1.1192887 ],\n",
       "       [1.1322225 ],\n",
       "       [1.1400173 ],\n",
       "       [1.1434745 ],\n",
       "       [1.1421049 ],\n",
       "       [1.1344777 ],\n",
       "       [1.1229411 ],\n",
       "       [1.1111417 ],\n",
       "       [1.0991132 ],\n",
       "       [1.0884694 ],\n",
       "       [1.0806228 ],\n",
       "       [1.073748  ],\n",
       "       [1.0687993 ],\n",
       "       [1.0655552 ],\n",
       "       [1.0634978 ],\n",
       "       [1.0562222 ],\n",
       "       [1.0443423 ],\n",
       "       [1.0292282 ],\n",
       "       [1.0127875 ],\n",
       "       [0.99867314],\n",
       "       [0.9883002 ],\n",
       "       [0.98346215],\n",
       "       [0.98030126],\n",
       "       [0.97737694],\n",
       "       [0.97003216],\n",
       "       [0.95940375],\n",
       "       [0.9433847 ],\n",
       "       [0.9236496 ],\n",
       "       [0.90516263],\n",
       "       [0.88738525],\n",
       "       [0.87343013],\n",
       "       [0.8611354 ],\n",
       "       [0.8504106 ],\n",
       "       [0.83892643],\n",
       "       [0.8276264 ],\n",
       "       [0.81466734],\n",
       "       [0.8025968 ],\n",
       "       [0.7949836 ],\n",
       "       [0.7938668 ],\n",
       "       [0.79854304],\n",
       "       [0.80705816],\n",
       "       [0.81880236],\n",
       "       [0.8289174 ],\n",
       "       [0.8364976 ],\n",
       "       [0.8413752 ],\n",
       "       [0.8443562 ],\n",
       "       [0.8455993 ],\n",
       "       [0.8443337 ],\n",
       "       [0.8382525 ],\n",
       "       [0.82929677],\n",
       "       [0.821151  ],\n",
       "       [0.8116417 ],\n",
       "       [0.8019742 ],\n",
       "       [0.79618585],\n",
       "       [0.7944894 ],\n",
       "       [0.796078  ],\n",
       "       [0.8014028 ],\n",
       "       [0.80936414],\n",
       "       [0.81672513],\n",
       "       [0.8215747 ],\n",
       "       [0.8229679 ],\n",
       "       [0.821789  ],\n",
       "       [0.8198855 ],\n",
       "       [0.81782275],\n",
       "       [0.8180326 ],\n",
       "       [0.8214298 ],\n",
       "       [0.8249849 ],\n",
       "       [0.82744765],\n",
       "       [0.8291265 ],\n",
       "       [0.83033925],\n",
       "       [0.8315047 ],\n",
       "       [0.83276874],\n",
       "       [0.83486813],\n",
       "       [0.8379915 ],\n",
       "       [0.8444527 ],\n",
       "       [0.8540245 ],\n",
       "       [0.8652323 ],\n",
       "       [0.8756269 ],\n",
       "       [0.88625264],\n",
       "       [0.89739597],\n",
       "       [0.9099929 ],\n",
       "       [0.9235831 ],\n",
       "       [0.93770075],\n",
       "       [0.9521592 ],\n",
       "       [0.9663788 ],\n",
       "       [0.97694635],\n",
       "       [0.9836737 ],\n",
       "       [0.985842  ],\n",
       "       [0.9859549 ],\n",
       "       [0.9839316 ],\n",
       "       [0.9822632 ],\n",
       "       [0.9825708 ],\n",
       "       [0.9846023 ],\n",
       "       [0.9876196 ],\n",
       "       [0.99093527],\n",
       "       [0.9932288 ],\n",
       "       [0.9932391 ],\n",
       "       [0.9921549 ],\n",
       "       [0.990625  ],\n",
       "       [0.9888996 ],\n",
       "       [0.986     ],\n",
       "       [0.9815702 ],\n",
       "       [0.9749519 ],\n",
       "       [0.9665947 ],\n",
       "       [0.9577779 ],\n",
       "       [0.9483711 ],\n",
       "       [0.93982697],\n",
       "       [0.9342495 ],\n",
       "       [0.9324142 ],\n",
       "       [0.93489623],\n",
       "       [0.9410548 ]], dtype=float32)"
      ]
     },
     "execution_count": 85,
     "metadata": {},
     "output_type": "execute_result"
    }
   ],
   "source": [
    "normalized_prediction"
   ]
  },
  {
   "cell_type": "code",
   "execution_count": 86,
   "id": "85277847",
   "metadata": {},
   "outputs": [
    {
     "data": {
      "text/plain": [
       "228"
      ]
     },
     "execution_count": 86,
     "metadata": {},
     "output_type": "execute_result"
    }
   ],
   "source": [
    "len(normalized_prediction)"
   ]
  },
  {
   "cell_type": "code",
   "execution_count": 87,
   "id": "98e91c2c",
   "metadata": {},
   "outputs": [],
   "source": [
    "# convert normalized predictions back to the true values\n",
    "prediction = scaler.inverse_transform(normalized_prediction)"
   ]
  },
  {
   "cell_type": "code",
   "execution_count": 88,
   "id": "52cb3d4e",
   "metadata": {},
   "outputs": [],
   "source": [
    "prediction_index = np.arange(913, 1141, step=1)\n",
    "\n",
    "df_prediction = pd.DataFrame(data=prediction, index=prediction_index, columns=['Prediction'])"
   ]
  },
  {
   "cell_type": "code",
   "execution_count": 89,
   "id": "2effc0e4",
   "metadata": {},
   "outputs": [
    {
     "data": {
      "text/html": [
       "<div>\n",
       "<style scoped>\n",
       "    .dataframe tbody tr th:only-of-type {\n",
       "        vertical-align: middle;\n",
       "    }\n",
       "\n",
       "    .dataframe tbody tr th {\n",
       "        vertical-align: top;\n",
       "    }\n",
       "\n",
       "    .dataframe thead th {\n",
       "        text-align: right;\n",
       "    }\n",
       "</style>\n",
       "<table border=\"1\" class=\"dataframe\">\n",
       "  <thead>\n",
       "    <tr style=\"text-align: right;\">\n",
       "      <th></th>\n",
       "      <th>Prediction</th>\n",
       "    </tr>\n",
       "  </thead>\n",
       "  <tbody>\n",
       "    <tr>\n",
       "      <th>913</th>\n",
       "      <td>269.318909</td>\n",
       "    </tr>\n",
       "    <tr>\n",
       "      <th>914</th>\n",
       "      <td>271.359528</td>\n",
       "    </tr>\n",
       "    <tr>\n",
       "      <th>915</th>\n",
       "      <td>273.724487</td>\n",
       "    </tr>\n",
       "    <tr>\n",
       "      <th>916</th>\n",
       "      <td>276.206268</td>\n",
       "    </tr>\n",
       "    <tr>\n",
       "      <th>917</th>\n",
       "      <td>278.883881</td>\n",
       "    </tr>\n",
       "    <tr>\n",
       "      <th>...</th>\n",
       "      <td>...</td>\n",
       "    </tr>\n",
       "    <tr>\n",
       "      <th>1136</th>\n",
       "      <td>277.368561</td>\n",
       "    </tr>\n",
       "    <tr>\n",
       "      <th>1137</th>\n",
       "      <td>275.793304</td>\n",
       "    </tr>\n",
       "    <tr>\n",
       "      <th>1138</th>\n",
       "      <td>275.274933</td>\n",
       "    </tr>\n",
       "    <tr>\n",
       "      <th>1139</th>\n",
       "      <td>275.975952</td>\n",
       "    </tr>\n",
       "    <tr>\n",
       "      <th>1140</th>\n",
       "      <td>277.715332</td>\n",
       "    </tr>\n",
       "  </tbody>\n",
       "</table>\n",
       "<p>228 rows × 1 columns</p>\n",
       "</div>"
      ],
      "text/plain": [
       "      Prediction\n",
       "913   269.318909\n",
       "914   271.359528\n",
       "915   273.724487\n",
       "916   276.206268\n",
       "917   278.883881\n",
       "...          ...\n",
       "1136  277.368561\n",
       "1137  275.793304\n",
       "1138  275.274933\n",
       "1139  275.975952\n",
       "1140  277.715332\n",
       "\n",
       "[228 rows x 1 columns]"
      ]
     },
     "execution_count": 89,
     "metadata": {},
     "output_type": "execute_result"
    }
   ],
   "source": [
    "df_prediction"
   ]
  },
  {
   "cell_type": "code",
   "execution_count": 90,
   "id": "cdeb2f5f",
   "metadata": {},
   "outputs": [
    {
     "data": {
      "text/plain": [
       "<AxesSubplot: >"
      ]
     },
     "execution_count": 90,
     "metadata": {},
     "output_type": "execute_result"
    },
    {
     "data": {
      "image/png": "[encoded data removed]",
      "text/plain": [
       "<Figure size 800x1200 with 1 Axes>"
      ]
     },
     "metadata": {},
     "output_type": "display_data"
    }
   ],
   "source": [
    "ax = data_train.plot()\n",
    "df_prediction.plot(ax=ax, figsize=(8, 12))"
   ]
  },
  {
   "cell_type": "code",
   "execution_count": 91,
   "id": "54bd2c77",
   "metadata": {},
   "outputs": [
    {
     "data": {
      "text/plain": [
       "<AxesSubplot: >"
      ]
     },
     "execution_count": 91,
     "metadata": {},
     "output_type": "execute_result"
    },
    {
     "data": {
      "image/png": "[encoded data removed]",
      "text/plain": [
       "<Figure size 800x1200 with 1 Axes>"
      ]
     },
     "metadata": {},
     "output_type": "display_data"
    }
   ],
   "source": [
    "ax = df.plot()\n",
    "df_prediction.plot(ax=ax, figsize=(8, 12))"
   ]
  },
  {
   "cell_type": "markdown",
   "id": "c62a5032",
   "metadata": {},
   "source": [
    "# Time Series Forecasting with LSTM\n",
    "\n",
    "# Overview\n",
    "\n",
    "\n",
    "### Time Series forecasting:\n",
    "\n",
    "\n",
    "### --) Forecast into the \"Future\" or unknown range\n",
    "\n",
    "\n",
    "### --)Should employ all the available data\n",
    "\n",
    "\n",
    "### --)i.e., NOt spilt the data into training/testing"
   ]
  },
  {
   "cell_type": "code",
   "execution_count": 92,
   "id": "3db045eb",
   "metadata": {},
   "outputs": [],
   "source": [
    "#Still use Minmax Scaler to normalize the full input dataset\n",
    "\n",
    "full_scaler = MinMaxScaler()\n",
    "normalized_full_data = full_scaler.fit_transform(df)"
   ]
  },
  {
   "cell_type": "code",
   "execution_count": 93,
   "id": "c34ebede",
   "metadata": {},
   "outputs": [],
   "source": [
    "# create timeseries Generator for forecasting\n",
    "forecast_tsGenerator = TimeseriesGenerator(normalized_full_data, normalized_full_data, length=length60, batch_size=batch_size32)"
   ]
  },
  {
   "cell_type": "code",
   "execution_count": 94,
   "id": "5f34cc0f",
   "metadata": {},
   "outputs": [
    {
     "name": "stdout",
     "output_type": "stream",
     "text": [
      "1/1 [==============================] - 0s 384ms/step\n",
      "1/1 [==============================] - 0s 23ms/step\n",
      "1/1 [==============================] - 0s 24ms/step\n",
      "1/1 [==============================] - 0s 23ms/step\n",
      "1/1 [==============================] - 0s 22ms/step\n",
      "1/1 [==============================] - 0s 24ms/step\n",
      "1/1 [==============================] - 0s 23ms/step\n",
      "1/1 [==============================] - 0s 22ms/step\n",
      "1/1 [==============================] - 0s 21ms/step\n",
      "1/1 [==============================] - 0s 24ms/step\n",
      "1/1 [==============================] - 0s 23ms/step\n",
      "1/1 [==============================] - 0s 26ms/step\n",
      "1/1 [==============================] - 0s 33ms/step\n",
      "1/1 [==============================] - 0s 25ms/step\n",
      "1/1 [==============================] - 0s 35ms/step\n",
      "1/1 [==============================] - 0s 25ms/step\n",
      "1/1 [==============================] - 0s 29ms/step\n",
      "1/1 [==============================] - 0s 27ms/step\n",
      "1/1 [==============================] - 0s 27ms/step\n",
      "1/1 [==============================] - 0s 29ms/step\n",
      "1/1 [==============================] - 0s 26ms/step\n",
      "1/1 [==============================] - 0s 26ms/step\n",
      "1/1 [==============================] - 0s 29ms/step\n",
      "1/1 [==============================] - 0s 27ms/step\n",
      "1/1 [==============================] - 0s 29ms/step\n",
      "1/1 [==============================] - 0s 22ms/step\n",
      "1/1 [==============================] - 0s 27ms/step\n",
      "1/1 [==============================] - 0s 35ms/step\n",
      "1/1 [==============================] - 0s 52ms/step\n",
      "1/1 [==============================] - 0s 36ms/step\n",
      "1/1 [==============================] - 0s 35ms/step\n",
      "1/1 [==============================] - 0s 37ms/step\n",
      "1/1 [==============================] - 0s 32ms/step\n",
      "1/1 [==============================] - 0s 32ms/step\n",
      "1/1 [==============================] - 0s 26ms/step\n",
      "1/1 [==============================] - 0s 27ms/step\n",
      "1/1 [==============================] - 0s 27ms/step\n",
      "1/1 [==============================] - 0s 26ms/step\n",
      "1/1 [==============================] - 0s 26ms/step\n",
      "1/1 [==============================] - 0s 27ms/step\n",
      "1/1 [==============================] - 0s 28ms/step\n",
      "1/1 [==============================] - 0s 28ms/step\n",
      "1/1 [==============================] - 0s 26ms/step\n",
      "1/1 [==============================] - 0s 23ms/step\n",
      "1/1 [==============================] - 0s 25ms/step\n",
      "1/1 [==============================] - 0s 28ms/step\n",
      "1/1 [==============================] - 0s 24ms/step\n",
      "1/1 [==============================] - 0s 24ms/step\n",
      "1/1 [==============================] - 0s 24ms/step\n",
      "1/1 [==============================] - 0s 25ms/step\n",
      "1/1 [==============================] - 0s 23ms/step\n",
      "1/1 [==============================] - 0s 27ms/step\n",
      "1/1 [==============================] - 0s 27ms/step\n",
      "1/1 [==============================] - 0s 24ms/step\n",
      "1/1 [==============================] - 0s 27ms/step\n",
      "1/1 [==============================] - 0s 26ms/step\n",
      "1/1 [==============================] - 0s 24ms/step\n",
      "1/1 [==============================] - 0s 27ms/step\n",
      "1/1 [==============================] - 0s 23ms/step\n",
      "1/1 [==============================] - 0s 24ms/step\n",
      "1/1 [==============================] - 0s 24ms/step\n",
      "1/1 [==============================] - 0s 23ms/step\n",
      "1/1 [==============================] - 0s 24ms/step\n",
      "1/1 [==============================] - 0s 25ms/step\n",
      "1/1 [==============================] - 0s 22ms/step\n",
      "1/1 [==============================] - 0s 22ms/step\n",
      "1/1 [==============================] - 0s 23ms/step\n",
      "1/1 [==============================] - 0s 24ms/step\n",
      "1/1 [==============================] - 0s 23ms/step\n",
      "1/1 [==============================] - 0s 25ms/step\n",
      "1/1 [==============================] - 0s 23ms/step\n",
      "1/1 [==============================] - 0s 30ms/step\n",
      "1/1 [==============================] - 0s 21ms/step\n",
      "1/1 [==============================] - 0s 21ms/step\n",
      "1/1 [==============================] - 0s 21ms/step\n",
      "1/1 [==============================] - 0s 26ms/step\n",
      "1/1 [==============================] - 0s 20ms/step\n",
      "1/1 [==============================] - 0s 25ms/step\n",
      "1/1 [==============================] - 0s 22ms/step\n",
      "1/1 [==============================] - 0s 19ms/step\n",
      "1/1 [==============================] - 0s 17ms/step\n",
      "1/1 [==============================] - 0s 21ms/step\n",
      "1/1 [==============================] - 0s 21ms/step\n",
      "1/1 [==============================] - 0s 19ms/step\n",
      "1/1 [==============================] - 0s 19ms/step\n",
      "1/1 [==============================] - 0s 22ms/step\n",
      "1/1 [==============================] - 0s 18ms/step\n",
      "1/1 [==============================] - 0s 19ms/step\n",
      "1/1 [==============================] - 0s 19ms/step\n",
      "1/1 [==============================] - 0s 20ms/step\n",
      "1/1 [==============================] - 0s 18ms/step\n",
      "1/1 [==============================] - 0s 17ms/step\n",
      "1/1 [==============================] - 0s 17ms/step\n",
      "1/1 [==============================] - 0s 20ms/step\n",
      "1/1 [==============================] - 0s 19ms/step\n",
      "1/1 [==============================] - 0s 18ms/step\n",
      "1/1 [==============================] - 0s 21ms/step\n",
      "1/1 [==============================] - 0s 20ms/step\n",
      "1/1 [==============================] - 0s 19ms/step\n",
      "1/1 [==============================] - 0s 22ms/step\n",
      "1/1 [==============================] - 0s 19ms/step\n",
      "1/1 [==============================] - 0s 18ms/step\n",
      "1/1 [==============================] - 0s 20ms/step\n",
      "1/1 [==============================] - 0s 19ms/step\n",
      "1/1 [==============================] - 0s 20ms/step\n",
      "1/1 [==============================] - 0s 18ms/step\n",
      "1/1 [==============================] - 0s 18ms/step\n",
      "1/1 [==============================] - 0s 19ms/step\n",
      "1/1 [==============================] - 0s 18ms/step\n",
      "1/1 [==============================] - 0s 19ms/step\n",
      "1/1 [==============================] - 0s 17ms/step\n",
      "1/1 [==============================] - 0s 17ms/step\n",
      "1/1 [==============================] - 0s 16ms/step\n",
      "1/1 [==============================] - 0s 19ms/step\n",
      "1/1 [==============================] - 0s 18ms/step\n",
      "1/1 [==============================] - 0s 19ms/step\n",
      "1/1 [==============================] - 0s 18ms/step\n"
     ]
    }
   ],
   "source": [
    "forecast = []\n",
    "# Set periods with the time span of forecasting\n",
    "# Let's forecast for the next 117 business days (07/01/2019 - 12/15/2019)\n",
    "periods = 117\n",
    "\n",
    "first_eval_batch = normalized_full_data[-length60:]\n",
    "current_batch = first_eval_batch.reshape((1, length60, n_features))\n",
    "\n",
    "for i in range(periods):\n",
    "    \n",
    "    # get prediction 1 time stamp ahead([0] is for grabbing just the number instead of [array])\n",
    "    current_pred = model.predict(current_batch)[0]\n",
    "    \n",
    "    # store prediction\n",
    "    forecast.append(current_pred)\n",
    "    \n",
    "    # update batch to now include prediction and drop first value\n",
    "    current_batch = np.append(current_batch[:,1:,:], [[current_pred]],axis=1)"
   ]
  },
  {
   "cell_type": "markdown",
   "id": "952556b2",
   "metadata": {},
   "source": [
    "# Inverse to Transform Normalized Data Back into True Values"
   ]
  },
  {
   "cell_type": "code",
   "execution_count": 95,
   "id": "8b925acc",
   "metadata": {},
   "outputs": [
    {
     "data": {
      "text/plain": [
       "array([[305.16974056],\n",
       "       [308.20171844],\n",
       "       [311.53687749],\n",
       "       [315.0286924 ],\n",
       "       [318.56167012],\n",
       "       [322.05507461],\n",
       "       [325.45794468],\n",
       "       [328.74109863],\n",
       "       [331.89018287],\n",
       "       [334.89641917],\n",
       "       [337.7560827 ],\n",
       "       [340.47202047],\n",
       "       [343.04857413],\n",
       "       [345.49058359],\n",
       "       [347.80298362],\n",
       "       [349.99044805],\n",
       "       [352.05755579],\n",
       "       [354.00890949],\n",
       "       [355.8491355 ],\n",
       "       [357.58276529],\n",
       "       [359.21437779],\n",
       "       [360.74862308],\n",
       "       [362.189914  ],\n",
       "       [363.54268712],\n",
       "       [364.81145017],\n",
       "       [366.00026014],\n",
       "       [367.11336378],\n",
       "       [368.15467571],\n",
       "       [369.12811055],\n",
       "       [370.03727449],\n",
       "       [370.88589235],\n",
       "       [371.67733307],\n",
       "       [372.41494187],\n",
       "       [373.101803  ],\n",
       "       [373.74107187],\n",
       "       [374.33559547],\n",
       "       [374.88812591],\n",
       "       [375.40132038],\n",
       "       [375.87764627],\n",
       "       [376.31952353],\n",
       "       [376.72925347],\n",
       "       [377.10885273],\n",
       "       [377.46050399],\n",
       "       [377.78598662],\n",
       "       [378.08717491],\n",
       "       [378.36575331],\n",
       "       [378.62333513],\n",
       "       [378.86139131],\n",
       "       [379.08134535],\n",
       "       [379.28445468],\n",
       "       [379.47204789],\n",
       "       [379.6451926 ],\n",
       "       [379.80500388],\n",
       "       [379.95245447],\n",
       "       [380.08851708],\n",
       "       [380.21390345],\n",
       "       [380.32961005],\n",
       "       [380.43627744],\n",
       "       [380.53471227],\n",
       "       [380.6253416 ],\n",
       "       [380.70892461],\n",
       "       [380.78598326],\n",
       "       [380.85703949],\n",
       "       [380.92244919],\n",
       "       [380.98278175],\n",
       "       [381.03836931],\n",
       "       [381.08956776],\n",
       "       [381.13682787],\n",
       "       [381.18033943],\n",
       "       [381.22041088],\n",
       "       [381.25732691],\n",
       "       [381.29144339],\n",
       "       [381.32278405],\n",
       "       [381.35175222],\n",
       "       [381.37837162],\n",
       "       [381.40295067],\n",
       "       [381.42558428],\n",
       "       [381.44643851],\n",
       "       [381.465632  ],\n",
       "       [381.48335454],\n",
       "       [381.49970103],\n",
       "       [381.51474265],\n",
       "       [381.52862175],\n",
       "       [381.54138577],\n",
       "       [381.5532008 ],\n",
       "       [381.56401938],\n",
       "       [381.57405503],\n",
       "       [381.58328404],\n",
       "       [381.59175385],\n",
       "       [381.59963053],\n",
       "       [381.60684292],\n",
       "       [381.61346218],\n",
       "       [381.61960694],\n",
       "       [381.62525348],\n",
       "       [381.6304967 ],\n",
       "       [381.63531286],\n",
       "       [381.63970198],\n",
       "       [381.64378267],\n",
       "       [381.64755494],\n",
       "       [381.65097133],\n",
       "       [381.6541742 ],\n",
       "       [381.65713982],\n",
       "       [381.65986819],\n",
       "       [381.66233559],\n",
       "       [381.66466063],\n",
       "       [381.6667247 ],\n",
       "       [381.6687176 ],\n",
       "       [381.67054442],\n",
       "       [381.67220517],\n",
       "       [381.67369984],\n",
       "       [381.67507589],\n",
       "       [381.67640448],\n",
       "       [381.67763818],\n",
       "       [381.67868208],\n",
       "       [381.67972598],\n",
       "       [381.68065125],\n",
       "       [381.68150535]])"
      ]
     },
     "execution_count": 95,
     "metadata": {},
     "output_type": "execute_result"
    }
   ],
   "source": [
    "forecast = full_scaler.inverse_transform(forecast)\n",
    "\n",
    "forecast"
   ]
  },
  {
   "cell_type": "code",
   "execution_count": 96,
   "id": "506f400e",
   "metadata": {},
   "outputs": [
    {
     "data": {
      "text/html": [
       "<div>\n",
       "<style scoped>\n",
       "    .dataframe tbody tr th:only-of-type {\n",
       "        vertical-align: middle;\n",
       "    }\n",
       "\n",
       "    .dataframe tbody tr th {\n",
       "        vertical-align: top;\n",
       "    }\n",
       "\n",
       "    .dataframe thead th {\n",
       "        text-align: right;\n",
       "    }\n",
       "</style>\n",
       "<table border=\"1\" class=\"dataframe\">\n",
       "  <thead>\n",
       "    <tr style=\"text-align: right;\">\n",
       "      <th></th>\n",
       "      <th>Close</th>\n",
       "    </tr>\n",
       "  </thead>\n",
       "  <tbody>\n",
       "    <tr>\n",
       "      <th>0</th>\n",
       "      <td>22.223333</td>\n",
       "    </tr>\n",
       "    <tr>\n",
       "      <th>1</th>\n",
       "      <td>21.879999</td>\n",
       "    </tr>\n",
       "    <tr>\n",
       "      <th>2</th>\n",
       "      <td>22.153334</td>\n",
       "    </tr>\n",
       "    <tr>\n",
       "      <th>3</th>\n",
       "      <td>21.940001</td>\n",
       "    </tr>\n",
       "    <tr>\n",
       "      <th>4</th>\n",
       "      <td>21.811333</td>\n",
       "    </tr>\n",
       "    <tr>\n",
       "      <th>...</th>\n",
       "      <td>...</td>\n",
       "    </tr>\n",
       "    <tr>\n",
       "      <th>1136</th>\n",
       "      <td>283.700012</td>\n",
       "    </tr>\n",
       "    <tr>\n",
       "      <th>1137</th>\n",
       "      <td>289.260010</td>\n",
       "    </tr>\n",
       "    <tr>\n",
       "      <th>1138</th>\n",
       "      <td>299.679993</td>\n",
       "    </tr>\n",
       "    <tr>\n",
       "      <th>1139</th>\n",
       "      <td>304.420013</td>\n",
       "    </tr>\n",
       "    <tr>\n",
       "      <th>1140</th>\n",
       "      <td>292.130005</td>\n",
       "    </tr>\n",
       "  </tbody>\n",
       "</table>\n",
       "<p>1141 rows × 1 columns</p>\n",
       "</div>"
      ],
      "text/plain": [
       "           Close\n",
       "0      22.223333\n",
       "1      21.879999\n",
       "2      22.153334\n",
       "3      21.940001\n",
       "4      21.811333\n",
       "...          ...\n",
       "1136  283.700012\n",
       "1137  289.260010\n",
       "1138  299.679993\n",
       "1139  304.420013\n",
       "1140  292.130005\n",
       "\n",
       "[1141 rows x 1 columns]"
      ]
     },
     "execution_count": 96,
     "metadata": {},
     "output_type": "execute_result"
    }
   ],
   "source": [
    "df"
   ]
  },
  {
   "cell_type": "code",
   "execution_count": 127,
   "id": "5bc06859",
   "metadata": {},
   "outputs": [],
   "source": [
    "# calculate forecast index\n",
    "\n",
    "forecast_index = np.arange(1141, 1258, step=1)"
   ]
  },
  {
   "cell_type": "code",
   "execution_count": 128,
   "id": "1d05993e",
   "metadata": {},
   "outputs": [],
   "source": [
    "forecast_df=pd.DataFrame(data=forecast,index=forecast_index,columns=['Forecast'])"
   ]
  },
  {
   "cell_type": "code",
   "execution_count": 122,
   "id": "2a3461de",
   "metadata": {},
   "outputs": [
    {
     "data": {
      "text/html": [
       "<div>\n",
       "<style scoped>\n",
       "    .dataframe tbody tr th:only-of-type {\n",
       "        vertical-align: middle;\n",
       "    }\n",
       "\n",
       "    .dataframe tbody tr th {\n",
       "        vertical-align: top;\n",
       "    }\n",
       "\n",
       "    .dataframe thead th {\n",
       "        text-align: right;\n",
       "    }\n",
       "</style>\n",
       "<table border=\"1\" class=\"dataframe\">\n",
       "  <thead>\n",
       "    <tr style=\"text-align: right;\">\n",
       "      <th></th>\n",
       "      <th>Forecast</th>\n",
       "    </tr>\n",
       "  </thead>\n",
       "  <tbody>\n",
       "    <tr>\n",
       "      <th>1141</th>\n",
       "      <td>305.169741</td>\n",
       "    </tr>\n",
       "    <tr>\n",
       "      <th>1142</th>\n",
       "      <td>308.201718</td>\n",
       "    </tr>\n",
       "    <tr>\n",
       "      <th>1143</th>\n",
       "      <td>311.536877</td>\n",
       "    </tr>\n",
       "    <tr>\n",
       "      <th>1144</th>\n",
       "      <td>315.028692</td>\n",
       "    </tr>\n",
       "    <tr>\n",
       "      <th>1145</th>\n",
       "      <td>318.561670</td>\n",
       "    </tr>\n",
       "    <tr>\n",
       "      <th>...</th>\n",
       "      <td>...</td>\n",
       "    </tr>\n",
       "    <tr>\n",
       "      <th>1253</th>\n",
       "      <td>381.677638</td>\n",
       "    </tr>\n",
       "    <tr>\n",
       "      <th>1254</th>\n",
       "      <td>381.678682</td>\n",
       "    </tr>\n",
       "    <tr>\n",
       "      <th>1255</th>\n",
       "      <td>381.679726</td>\n",
       "    </tr>\n",
       "    <tr>\n",
       "      <th>1256</th>\n",
       "      <td>381.680651</td>\n",
       "    </tr>\n",
       "    <tr>\n",
       "      <th>1257</th>\n",
       "      <td>381.681505</td>\n",
       "    </tr>\n",
       "  </tbody>\n",
       "</table>\n",
       "<p>117 rows × 1 columns</p>\n",
       "</div>"
      ],
      "text/plain": [
       "        Forecast\n",
       "1141  305.169741\n",
       "1142  308.201718\n",
       "1143  311.536877\n",
       "1144  315.028692\n",
       "1145  318.561670\n",
       "...          ...\n",
       "1253  381.677638\n",
       "1254  381.678682\n",
       "1255  381.679726\n",
       "1256  381.680651\n",
       "1257  381.681505\n",
       "\n",
       "[117 rows x 1 columns]"
      ]
     },
     "execution_count": 122,
     "metadata": {},
     "output_type": "execute_result"
    }
   ],
   "source": [
    "forecast_df"
   ]
  },
  {
   "cell_type": "code",
   "execution_count": 103,
   "id": "b7cf1987",
   "metadata": {},
   "outputs": [
    {
     "data": {
      "text/plain": [
       "<AxesSubplot: >"
      ]
     },
     "execution_count": 103,
     "metadata": {},
     "output_type": "execute_result"
    },
    {
     "data": {
      "image/png": "[encoded data removed]",
      "text/plain": [
       "<Figure size 640x480 with 1 Axes>"
      ]
     },
     "metadata": {},
     "output_type": "display_data"
    },
    {
     "data": {
      "image/png": "[encoded data removed]",
      "text/plain": [
       "<Figure size 640x480 with 1 Axes>"
      ]
     },
     "metadata": {},
     "output_type": "display_data"
    }
   ],
   "source": [
    "df.plot()\n",
    "forecast_df.plot()"
   ]
  },
  {
   "cell_type": "code",
   "execution_count": 104,
   "id": "f2c030ab",
   "metadata": {},
   "outputs": [
    {
     "data": {
      "text/plain": [
       "<AxesSubplot: >"
      ]
     },
     "execution_count": 104,
     "metadata": {},
     "output_type": "execute_result"
    },
    {
     "data": {
      "image/png": "[encoded data removed]",
      "text/plain": [
       "<Figure size 1200x800 with 1 Axes>"
      ]
     },
     "metadata": {},
     "output_type": "display_data"
    }
   ],
   "source": [
    "ax=df.plot()\n",
    "forecast_df.plot(ax=ax, figsize=(12,8))"
   ]
  },
  {
   "cell_type": "code",
   "execution_count": 137,
   "id": "539a7ae1",
   "metadata": {},
   "outputs": [
    {
     "data": {
      "text/html": [
       "<div>\n",
       "<style scoped>\n",
       "    .dataframe tbody tr th:only-of-type {\n",
       "        vertical-align: middle;\n",
       "    }\n",
       "\n",
       "    .dataframe tbody tr th {\n",
       "        vertical-align: top;\n",
       "    }\n",
       "\n",
       "    .dataframe thead th {\n",
       "        text-align: right;\n",
       "    }\n",
       "</style>\n",
       "<table border=\"1\" class=\"dataframe\">\n",
       "  <thead>\n",
       "    <tr style=\"text-align: right;\">\n",
       "      <th></th>\n",
       "      <th>Close</th>\n",
       "    </tr>\n",
       "  </thead>\n",
       "  <tbody>\n",
       "    <tr>\n",
       "      <th>1136</th>\n",
       "      <td>283.700012</td>\n",
       "    </tr>\n",
       "    <tr>\n",
       "      <th>1137</th>\n",
       "      <td>289.260010</td>\n",
       "    </tr>\n",
       "    <tr>\n",
       "      <th>1138</th>\n",
       "      <td>299.679993</td>\n",
       "    </tr>\n",
       "    <tr>\n",
       "      <th>1139</th>\n",
       "      <td>304.420013</td>\n",
       "    </tr>\n",
       "    <tr>\n",
       "      <th>1140</th>\n",
       "      <td>292.130005</td>\n",
       "    </tr>\n",
       "  </tbody>\n",
       "</table>\n",
       "</div>"
      ],
      "text/plain": [
       "           Close\n",
       "1136  283.700012\n",
       "1137  289.260010\n",
       "1138  299.679993\n",
       "1139  304.420013\n",
       "1140  292.130005"
      ]
     },
     "execution_count": 137,
     "metadata": {},
     "output_type": "execute_result"
    }
   ],
   "source": [
    "df.tail()"
   ]
  },
  {
   "cell_type": "code",
   "execution_count": 149,
   "id": "51053021",
   "metadata": {},
   "outputs": [
    {
     "data": {
      "text/html": [
       "<div>\n",
       "<style scoped>\n",
       "    .dataframe tbody tr th:only-of-type {\n",
       "        vertical-align: middle;\n",
       "    }\n",
       "\n",
       "    .dataframe tbody tr th {\n",
       "        vertical-align: top;\n",
       "    }\n",
       "\n",
       "    .dataframe thead th {\n",
       "        text-align: right;\n",
       "    }\n",
       "</style>\n",
       "<table border=\"1\" class=\"dataframe\">\n",
       "  <thead>\n",
       "    <tr style=\"text-align: right;\">\n",
       "      <th></th>\n",
       "      <th>Close</th>\n",
       "    </tr>\n",
       "  </thead>\n",
       "  <tbody>\n",
       "    <tr>\n",
       "      <th>0</th>\n",
       "      <td>22.223333</td>\n",
       "    </tr>\n",
       "    <tr>\n",
       "      <th>1</th>\n",
       "      <td>21.879999</td>\n",
       "    </tr>\n",
       "    <tr>\n",
       "      <th>2</th>\n",
       "      <td>22.153334</td>\n",
       "    </tr>\n",
       "    <tr>\n",
       "      <th>3</th>\n",
       "      <td>21.940001</td>\n",
       "    </tr>\n",
       "    <tr>\n",
       "      <th>4</th>\n",
       "      <td>21.811333</td>\n",
       "    </tr>\n",
       "    <tr>\n",
       "      <th>...</th>\n",
       "      <td>...</td>\n",
       "    </tr>\n",
       "    <tr>\n",
       "      <th>1253</th>\n",
       "      <td>381.677638</td>\n",
       "    </tr>\n",
       "    <tr>\n",
       "      <th>1254</th>\n",
       "      <td>381.678682</td>\n",
       "    </tr>\n",
       "    <tr>\n",
       "      <th>1255</th>\n",
       "      <td>381.679726</td>\n",
       "    </tr>\n",
       "    <tr>\n",
       "      <th>1256</th>\n",
       "      <td>381.680651</td>\n",
       "    </tr>\n",
       "    <tr>\n",
       "      <th>1257</th>\n",
       "      <td>381.681505</td>\n",
       "    </tr>\n",
       "  </tbody>\n",
       "</table>\n",
       "<p>1258 rows × 1 columns</p>\n",
       "</div>"
      ],
      "text/plain": [
       "           Close\n",
       "0      22.223333\n",
       "1      21.879999\n",
       "2      22.153334\n",
       "3      21.940001\n",
       "4      21.811333\n",
       "...          ...\n",
       "1253  381.677638\n",
       "1254  381.678682\n",
       "1255  381.679726\n",
       "1256  381.680651\n",
       "1257  381.681505\n",
       "\n",
       "[1258 rows x 1 columns]"
      ]
     },
     "execution_count": 149,
     "metadata": {},
     "output_type": "execute_result"
    }
   ],
   "source": [
    "for idx in forecast_df.index:\n",
    "    df.loc[idx, 'Close'] = forecast_df.loc[idx, 'Forecast']\n",
    "\n",
    "df"
   ]
  },
  {
   "cell_type": "code",
   "execution_count": 183,
   "id": "12687e1f",
   "metadata": {},
   "outputs": [],
   "source": [
    "df_ALL_2022 = 'Downloads/TSLA1.csv'"
   ]
  },
  {
   "cell_type": "code",
   "execution_count": 184,
   "id": "a70dc7fd",
   "metadata": {},
   "outputs": [],
   "source": [
    "df_ALL_JUL_DEC_2022 = pd.read_csv(df_ALL_2022)"
   ]
  },
  {
   "cell_type": "code",
   "execution_count": 185,
   "id": "01d593cd",
   "metadata": {},
   "outputs": [
    {
     "data": {
      "text/plain": [
       "1258"
      ]
     },
     "execution_count": 185,
     "metadata": {},
     "output_type": "execute_result"
    }
   ],
   "source": [
    "len(df_ALL_JUL_DEC_2022)"
   ]
  },
  {
   "cell_type": "code",
   "execution_count": 186,
   "id": "75cc308a",
   "metadata": {},
   "outputs": [],
   "source": [
    "df_JUL_DEC_2022 = df_ALL_JUL_DEC_2022.iloc[:,4:5]"
   ]
  },
  {
   "cell_type": "code",
   "execution_count": 187,
   "id": "da9ea712",
   "metadata": {},
   "outputs": [
    {
     "data": {
      "text/html": [
       "<div>\n",
       "<style scoped>\n",
       "    .dataframe tbody tr th:only-of-type {\n",
       "        vertical-align: middle;\n",
       "    }\n",
       "\n",
       "    .dataframe tbody tr th {\n",
       "        vertical-align: top;\n",
       "    }\n",
       "\n",
       "    .dataframe thead th {\n",
       "        text-align: right;\n",
       "    }\n",
       "</style>\n",
       "<table border=\"1\" class=\"dataframe\">\n",
       "  <thead>\n",
       "    <tr style=\"text-align: right;\">\n",
       "      <th></th>\n",
       "      <th>Close</th>\n",
       "    </tr>\n",
       "  </thead>\n",
       "  <tbody>\n",
       "    <tr>\n",
       "      <th>0</th>\n",
       "      <td>22.223333</td>\n",
       "    </tr>\n",
       "    <tr>\n",
       "      <th>1</th>\n",
       "      <td>21.879999</td>\n",
       "    </tr>\n",
       "    <tr>\n",
       "      <th>2</th>\n",
       "      <td>22.153334</td>\n",
       "    </tr>\n",
       "    <tr>\n",
       "      <th>3</th>\n",
       "      <td>21.940001</td>\n",
       "    </tr>\n",
       "    <tr>\n",
       "      <th>4</th>\n",
       "      <td>21.811333</td>\n",
       "    </tr>\n",
       "    <tr>\n",
       "      <th>...</th>\n",
       "      <td>...</td>\n",
       "    </tr>\n",
       "    <tr>\n",
       "      <th>1253</th>\n",
       "      <td>196.880005</td>\n",
       "    </tr>\n",
       "    <tr>\n",
       "      <th>1254</th>\n",
       "      <td>207.630005</td>\n",
       "    </tr>\n",
       "    <tr>\n",
       "      <th>1255</th>\n",
       "      <td>205.710007</td>\n",
       "    </tr>\n",
       "    <tr>\n",
       "      <th>1256</th>\n",
       "      <td>202.770004</td>\n",
       "    </tr>\n",
       "    <tr>\n",
       "      <th>1257</th>\n",
       "      <td>190.899994</td>\n",
       "    </tr>\n",
       "  </tbody>\n",
       "</table>\n",
       "<p>1258 rows × 1 columns</p>\n",
       "</div>"
      ],
      "text/plain": [
       "           Close\n",
       "0      22.223333\n",
       "1      21.879999\n",
       "2      22.153334\n",
       "3      21.940001\n",
       "4      21.811333\n",
       "...          ...\n",
       "1253  196.880005\n",
       "1254  207.630005\n",
       "1255  205.710007\n",
       "1256  202.770004\n",
       "1257  190.899994\n",
       "\n",
       "[1258 rows x 1 columns]"
      ]
     },
     "execution_count": 187,
     "metadata": {},
     "output_type": "execute_result"
    }
   ],
   "source": [
    "df_JUL_DEC_2022"
   ]
  },
  {
   "cell_type": "code",
   "execution_count": 188,
   "id": "8b7d743e",
   "metadata": {},
   "outputs": [
    {
     "data": {
      "text/plain": [
       "<AxesSubplot: >"
      ]
     },
     "execution_count": 188,
     "metadata": {},
     "output_type": "execute_result"
    },
    {
     "data": {
      "image/png": "[encoded data removed]",
      "text/plain": [
       "<Figure size 640x480 with 1 Axes>"
      ]
     },
     "metadata": {},
     "output_type": "display_data"
    }
   ],
   "source": [
    "df_JUL_DEC_2022.plot()"
   ]
  },
  {
   "cell_type": "code",
   "execution_count": 189,
   "id": "7d3e48f2",
   "metadata": {},
   "outputs": [
    {
     "data": {
      "text/plain": [
       "array([305.16974056, 308.20171844, 311.53687749, 315.0286924 ,\n",
       "       318.56167012, 322.05507461, 325.45794468, 328.74109863,\n",
       "       331.89018287, 334.89641917, 337.7560827 , 340.47202047,\n",
       "       343.04857413, 345.49058359, 347.80298362, 349.99044805,\n",
       "       352.05755579, 354.00890949, 355.8491355 , 357.58276529,\n",
       "       359.21437779, 360.74862308, 362.189914  , 363.54268712,\n",
       "       364.81145017, 366.00026014, 367.11336378, 368.15467571,\n",
       "       369.12811055, 370.03727449, 370.88589235, 371.67733307,\n",
       "       372.41494187, 373.101803  , 373.74107187, 374.33559547,\n",
       "       374.88812591, 375.40132038, 375.87764627, 376.31952353,\n",
       "       376.72925347, 377.10885273, 377.46050399, 377.78598662,\n",
       "       378.08717491, 378.36575331, 378.62333513, 378.86139131,\n",
       "       379.08134535, 379.28445468, 379.47204789, 379.6451926 ,\n",
       "       379.80500388, 379.95245447, 380.08851708, 380.21390345,\n",
       "       380.32961005, 380.43627744, 380.53471227, 380.6253416 ,\n",
       "       380.70892461, 380.78598326, 380.85703949, 380.92244919,\n",
       "       380.98278175, 381.03836931, 381.08956776, 381.13682787,\n",
       "       381.18033943, 381.22041088, 381.25732691, 381.29144339,\n",
       "       381.32278405, 381.35175222, 381.37837162, 381.40295067,\n",
       "       381.42558428, 381.44643851, 381.465632  , 381.48335454,\n",
       "       381.49970103, 381.51474265, 381.52862175, 381.54138577,\n",
       "       381.5532008 , 381.56401938, 381.57405503, 381.58328404,\n",
       "       381.59175385, 381.59963053, 381.60684292, 381.61346218,\n",
       "       381.61960694, 381.62525348, 381.6304967 , 381.63531286,\n",
       "       381.63970198, 381.64378267, 381.64755494, 381.65097133,\n",
       "       381.6541742 , 381.65713982, 381.65986819, 381.66233559,\n",
       "       381.66466063, 381.6667247 , 381.6687176 , 381.67054442,\n",
       "       381.67220517, 381.67369984, 381.67507589, 381.67640448,\n",
       "       381.67763818, 381.67868208, 381.67972598, 381.68065125,\n",
       "       381.68150535])"
      ]
     },
     "execution_count": 189,
     "metadata": {},
     "output_type": "execute_result"
    }
   ],
   "source": [
    "forecast_df['Forecast'].values"
   ]
  },
  {
   "cell_type": "code",
   "execution_count": 190,
   "id": "a4ce4cd2",
   "metadata": {},
   "outputs": [],
   "source": [
    "df_JUL_DEC_2022['Forecast'] = df.values"
   ]
  },
  {
   "cell_type": "code",
   "execution_count": 191,
   "id": "fca7f1cd",
   "metadata": {},
   "outputs": [
    {
     "data": {
      "text/html": [
       "<div>\n",
       "<style scoped>\n",
       "    .dataframe tbody tr th:only-of-type {\n",
       "        vertical-align: middle;\n",
       "    }\n",
       "\n",
       "    .dataframe tbody tr th {\n",
       "        vertical-align: top;\n",
       "    }\n",
       "\n",
       "    .dataframe thead th {\n",
       "        text-align: right;\n",
       "    }\n",
       "</style>\n",
       "<table border=\"1\" class=\"dataframe\">\n",
       "  <thead>\n",
       "    <tr style=\"text-align: right;\">\n",
       "      <th></th>\n",
       "      <th>Close</th>\n",
       "      <th>Forecast</th>\n",
       "    </tr>\n",
       "  </thead>\n",
       "  <tbody>\n",
       "    <tr>\n",
       "      <th>0</th>\n",
       "      <td>22.223333</td>\n",
       "      <td>22.223333</td>\n",
       "    </tr>\n",
       "    <tr>\n",
       "      <th>1</th>\n",
       "      <td>21.879999</td>\n",
       "      <td>21.879999</td>\n",
       "    </tr>\n",
       "    <tr>\n",
       "      <th>2</th>\n",
       "      <td>22.153334</td>\n",
       "      <td>22.153334</td>\n",
       "    </tr>\n",
       "    <tr>\n",
       "      <th>3</th>\n",
       "      <td>21.940001</td>\n",
       "      <td>21.940001</td>\n",
       "    </tr>\n",
       "    <tr>\n",
       "      <th>4</th>\n",
       "      <td>21.811333</td>\n",
       "      <td>21.811333</td>\n",
       "    </tr>\n",
       "    <tr>\n",
       "      <th>...</th>\n",
       "      <td>...</td>\n",
       "      <td>...</td>\n",
       "    </tr>\n",
       "    <tr>\n",
       "      <th>1253</th>\n",
       "      <td>196.880005</td>\n",
       "      <td>381.677638</td>\n",
       "    </tr>\n",
       "    <tr>\n",
       "      <th>1254</th>\n",
       "      <td>207.630005</td>\n",
       "      <td>381.678682</td>\n",
       "    </tr>\n",
       "    <tr>\n",
       "      <th>1255</th>\n",
       "      <td>205.710007</td>\n",
       "      <td>381.679726</td>\n",
       "    </tr>\n",
       "    <tr>\n",
       "      <th>1256</th>\n",
       "      <td>202.770004</td>\n",
       "      <td>381.680651</td>\n",
       "    </tr>\n",
       "    <tr>\n",
       "      <th>1257</th>\n",
       "      <td>190.899994</td>\n",
       "      <td>381.681505</td>\n",
       "    </tr>\n",
       "  </tbody>\n",
       "</table>\n",
       "<p>1258 rows × 2 columns</p>\n",
       "</div>"
      ],
      "text/plain": [
       "           Close    Forecast\n",
       "0      22.223333   22.223333\n",
       "1      21.879999   21.879999\n",
       "2      22.153334   22.153334\n",
       "3      21.940001   21.940001\n",
       "4      21.811333   21.811333\n",
       "...          ...         ...\n",
       "1253  196.880005  381.677638\n",
       "1254  207.630005  381.678682\n",
       "1255  205.710007  381.679726\n",
       "1256  202.770004  381.680651\n",
       "1257  190.899994  381.681505\n",
       "\n",
       "[1258 rows x 2 columns]"
      ]
     },
     "execution_count": 191,
     "metadata": {},
     "output_type": "execute_result"
    }
   ],
   "source": [
    "df_JUL_DEC_2022"
   ]
  },
  {
   "cell_type": "code",
   "execution_count": 211,
   "id": "6d9f666f",
   "metadata": {},
   "outputs": [
    {
     "data": {
      "image/png": "[encoded data removed]",
      "text/plain": [
       "<Figure size 640x480 with 1 Axes>"
      ]
     },
     "metadata": {},
     "output_type": "display_data"
    }
   ],
   "source": [
    "plt.plot(df_JUL_DEC_2022, 'b', linewidth=2, alpha=0.4,)\n",
    "\n",
    "plt.xlabel('Time')\n",
    "plt.ylabel('Price')\n",
    "plt.title('TSLA Price')\n",
    "\n",
    "plt.tight_layout()"
   ]
  },
  {
   "cell_type": "code",
   "execution_count": null,
   "id": "23b718ae",
   "metadata": {},
   "outputs": [],
   "source": []
  }
 ],
 "metadata": {
  "kernelspec": {
   "display_name": "Python 3 (ipykernel)",
   "language": "python",
   "name": "python3"
  },
  "language_info": {
   "codemirror_mode": {
    "name": "ipython",
    "version": 3
   },
   "file_extension": ".py",
   "mimetype": "text/x-python",
   "name": "python",
   "nbconvert_exporter": "python",
   "pygments_lexer": "ipython3",
   "version": "3.9.16"
  }
 },
 "nbformat": 4,
 "nbformat_minor": 5
}
