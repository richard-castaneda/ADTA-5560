{
 "cells": [
  {
   "cell_type": "markdown",
   "id": "7ba29008",
   "metadata": {},
   "source": [
    "### Richard Castaneda LSTM Midterm ###"
   ]
  },
  {
   "cell_type": "code",
   "execution_count": 7,
   "id": "c73039ad",
   "metadata": {},
   "outputs": [],
   "source": [
    "# IMPORT BASIC lIBRARIES\n",
    "\n",
    "import pandas as pd\n",
    "import numpy as np\n",
    "%matplotlib inline\n",
    "import matplotlib.pyplot as plt"
   ]
  },
  {
   "cell_type": "code",
   "execution_count": 8,
   "id": "9616d44f",
   "metadata": {},
   "outputs": [],
   "source": [
    "# For timeseries RNN LSTM neural network\n",
    "\n",
    "from tensorflow.keras.models import Sequential\n",
    "from tensorflow.keras.layers import LSTM\n",
    "from tensorflow.keras.layers import Dropout\n",
    "from tensorflow.keras.layers import Dense"
   ]
  },
  {
   "cell_type": "code",
   "execution_count": 9,
   "id": "c9132083",
   "metadata": {},
   "outputs": [],
   "source": [
    "# IMPORT KERAS: TimeseriesGenerator\n",
    "#This class produce time series batches use on training/testing the model\n",
    "from tensorflow.keras.preprocessing.sequence import TimeseriesGenerator\n",
    "\n",
    "# IMPORT KERAS: MinMaxScaler\n",
    "# This class is used to pre process (scale) the data\n",
    "from sklearn.preprocessing import MinMaxScaler"
   ]
  },
  {
   "cell_type": "code",
   "execution_count": 10,
   "id": "3cc52176",
   "metadata": {},
   "outputs": [],
   "source": [
    "dfTSLA = 'Downloads/TSLA.csv'"
   ]
  },
  {
   "cell_type": "code",
   "execution_count": 11,
   "id": "b7ffb234",
   "metadata": {},
   "outputs": [],
   "source": [
    "df_ALL = pd.read_csv(dfTSLA)"
   ]
  },
  {
   "cell_type": "code",
   "execution_count": 12,
   "id": "84cf3ed1",
   "metadata": {},
   "outputs": [
    {
     "data": {
      "text/html": [
       "<div>\n",
       "<style scoped>\n",
       "    .dataframe tbody tr th:only-of-type {\n",
       "        vertical-align: middle;\n",
       "    }\n",
       "\n",
       "    .dataframe tbody tr th {\n",
       "        vertical-align: top;\n",
       "    }\n",
       "\n",
       "    .dataframe thead th {\n",
       "        text-align: right;\n",
       "    }\n",
       "</style>\n",
       "<table border=\"1\" class=\"dataframe\">\n",
       "  <thead>\n",
       "    <tr style=\"text-align: right;\">\n",
       "      <th></th>\n",
       "      <th>Date</th>\n",
       "      <th>Open</th>\n",
       "      <th>High</th>\n",
       "      <th>Low</th>\n",
       "      <th>Close</th>\n",
       "      <th>Adj Close</th>\n",
       "      <th>Volume</th>\n",
       "    </tr>\n",
       "  </thead>\n",
       "  <tbody>\n",
       "    <tr>\n",
       "      <th>0</th>\n",
       "      <td>3/5/2018</td>\n",
       "      <td>22.159332</td>\n",
       "      <td>22.516666</td>\n",
       "      <td>21.952667</td>\n",
       "      <td>22.223333</td>\n",
       "      <td>22.223333</td>\n",
       "      <td>57357000</td>\n",
       "    </tr>\n",
       "    <tr>\n",
       "      <th>1</th>\n",
       "      <td>3/6/2018</td>\n",
       "      <td>22.250000</td>\n",
       "      <td>22.424667</td>\n",
       "      <td>21.802000</td>\n",
       "      <td>21.879999</td>\n",
       "      <td>21.879999</td>\n",
       "      <td>64285500</td>\n",
       "    </tr>\n",
       "    <tr>\n",
       "      <th>2</th>\n",
       "      <td>3/7/2018</td>\n",
       "      <td>21.695999</td>\n",
       "      <td>22.166668</td>\n",
       "      <td>21.449333</td>\n",
       "      <td>22.153334</td>\n",
       "      <td>22.153334</td>\n",
       "      <td>75109500</td>\n",
       "    </tr>\n",
       "    <tr>\n",
       "      <th>3</th>\n",
       "      <td>3/8/2018</td>\n",
       "      <td>22.190666</td>\n",
       "      <td>22.219999</td>\n",
       "      <td>21.751333</td>\n",
       "      <td>21.940001</td>\n",
       "      <td>21.940001</td>\n",
       "      <td>53493000</td>\n",
       "    </tr>\n",
       "    <tr>\n",
       "      <th>4</th>\n",
       "      <td>3/9/2018</td>\n",
       "      <td>21.606667</td>\n",
       "      <td>21.899332</td>\n",
       "      <td>21.491333</td>\n",
       "      <td>21.811333</td>\n",
       "      <td>21.811333</td>\n",
       "      <td>82602000</td>\n",
       "    </tr>\n",
       "  </tbody>\n",
       "</table>\n",
       "</div>"
      ],
      "text/plain": [
       "       Date       Open       High        Low      Close  Adj Close    Volume\n",
       "0  3/5/2018  22.159332  22.516666  21.952667  22.223333  22.223333  57357000\n",
       "1  3/6/2018  22.250000  22.424667  21.802000  21.879999  21.879999  64285500\n",
       "2  3/7/2018  21.695999  22.166668  21.449333  22.153334  22.153334  75109500\n",
       "3  3/8/2018  22.190666  22.219999  21.751333  21.940001  21.940001  53493000\n",
       "4  3/9/2018  21.606667  21.899332  21.491333  21.811333  21.811333  82602000"
      ]
     },
     "execution_count": 12,
     "metadata": {},
     "output_type": "execute_result"
    }
   ],
   "source": [
    "df_ALL.head()"
   ]
  },
  {
   "cell_type": "code",
   "execution_count": 13,
   "id": "0be33861",
   "metadata": {},
   "outputs": [
    {
     "data": {
      "text/html": [
       "<div>\n",
       "<style scoped>\n",
       "    .dataframe tbody tr th:only-of-type {\n",
       "        vertical-align: middle;\n",
       "    }\n",
       "\n",
       "    .dataframe tbody tr th {\n",
       "        vertical-align: top;\n",
       "    }\n",
       "\n",
       "    .dataframe thead th {\n",
       "        text-align: right;\n",
       "    }\n",
       "</style>\n",
       "<table border=\"1\" class=\"dataframe\">\n",
       "  <thead>\n",
       "    <tr style=\"text-align: right;\">\n",
       "      <th></th>\n",
       "      <th>Date</th>\n",
       "      <th>Open</th>\n",
       "      <th>High</th>\n",
       "      <th>Low</th>\n",
       "      <th>Close</th>\n",
       "      <th>Adj Close</th>\n",
       "      <th>Volume</th>\n",
       "    </tr>\n",
       "  </thead>\n",
       "  <tbody>\n",
       "    <tr>\n",
       "      <th>1136</th>\n",
       "      <td>9/7/2022</td>\n",
       "      <td>273.100006</td>\n",
       "      <td>283.839996</td>\n",
       "      <td>272.269989</td>\n",
       "      <td>283.700012</td>\n",
       "      <td>283.700012</td>\n",
       "      <td>50028900</td>\n",
       "    </tr>\n",
       "    <tr>\n",
       "      <th>1137</th>\n",
       "      <td>9/8/2022</td>\n",
       "      <td>281.299988</td>\n",
       "      <td>289.500000</td>\n",
       "      <td>279.760010</td>\n",
       "      <td>289.260010</td>\n",
       "      <td>289.260010</td>\n",
       "      <td>53713100</td>\n",
       "    </tr>\n",
       "    <tr>\n",
       "      <th>1138</th>\n",
       "      <td>9/9/2022</td>\n",
       "      <td>291.670013</td>\n",
       "      <td>299.850006</td>\n",
       "      <td>291.250000</td>\n",
       "      <td>299.679993</td>\n",
       "      <td>299.679993</td>\n",
       "      <td>54338100</td>\n",
       "    </tr>\n",
       "    <tr>\n",
       "      <th>1139</th>\n",
       "      <td>9/12/2022</td>\n",
       "      <td>300.720001</td>\n",
       "      <td>305.489990</td>\n",
       "      <td>300.399994</td>\n",
       "      <td>304.420013</td>\n",
       "      <td>304.420013</td>\n",
       "      <td>48674600</td>\n",
       "    </tr>\n",
       "    <tr>\n",
       "      <th>1140</th>\n",
       "      <td>9/13/2022</td>\n",
       "      <td>292.899994</td>\n",
       "      <td>297.399994</td>\n",
       "      <td>290.399994</td>\n",
       "      <td>292.130005</td>\n",
       "      <td>292.130005</td>\n",
       "      <td>68229600</td>\n",
       "    </tr>\n",
       "  </tbody>\n",
       "</table>\n",
       "</div>"
      ],
      "text/plain": [
       "           Date        Open        High         Low       Close   Adj Close  \\\n",
       "1136   9/7/2022  273.100006  283.839996  272.269989  283.700012  283.700012   \n",
       "1137   9/8/2022  281.299988  289.500000  279.760010  289.260010  289.260010   \n",
       "1138   9/9/2022  291.670013  299.850006  291.250000  299.679993  299.679993   \n",
       "1139  9/12/2022  300.720001  305.489990  300.399994  304.420013  304.420013   \n",
       "1140  9/13/2022  292.899994  297.399994  290.399994  292.130005  292.130005   \n",
       "\n",
       "        Volume  \n",
       "1136  50028900  \n",
       "1137  53713100  \n",
       "1138  54338100  \n",
       "1139  48674600  \n",
       "1140  68229600  "
      ]
     },
     "execution_count": 13,
     "metadata": {},
     "output_type": "execute_result"
    }
   ],
   "source": [
    "df_ALL.tail()"
   ]
  },
  {
   "cell_type": "markdown",
   "id": "90713857",
   "metadata": {},
   "source": [
    "### Brief Exploratory Data Analyis EDA ###"
   ]
  },
  {
   "cell_type": "code",
   "execution_count": 14,
   "id": "5a2d656d",
   "metadata": {},
   "outputs": [
    {
     "data": {
      "text/plain": [
       "(1141, 7)"
      ]
     },
     "execution_count": 14,
     "metadata": {},
     "output_type": "execute_result"
    }
   ],
   "source": [
    "df_ALL.shape"
   ]
  },
  {
   "cell_type": "code",
   "execution_count": 15,
   "id": "5ac545a1",
   "metadata": {},
   "outputs": [
    {
     "data": {
      "text/plain": [
       "Date          object\n",
       "Open         float64\n",
       "High         float64\n",
       "Low          float64\n",
       "Close        float64\n",
       "Adj Close    float64\n",
       "Volume         int64\n",
       "dtype: object"
      ]
     },
     "execution_count": 15,
     "metadata": {},
     "output_type": "execute_result"
    }
   ],
   "source": [
    "df_ALL.dtypes"
   ]
  },
  {
   "cell_type": "code",
   "execution_count": 16,
   "id": "3b998698",
   "metadata": {},
   "outputs": [
    {
     "data": {
      "text/html": [
       "<div>\n",
       "<style scoped>\n",
       "    .dataframe tbody tr th:only-of-type {\n",
       "        vertical-align: middle;\n",
       "    }\n",
       "\n",
       "    .dataframe tbody tr th {\n",
       "        vertical-align: top;\n",
       "    }\n",
       "\n",
       "    .dataframe thead th {\n",
       "        text-align: right;\n",
       "    }\n",
       "</style>\n",
       "<table border=\"1\" class=\"dataframe\">\n",
       "  <thead>\n",
       "    <tr style=\"text-align: right;\">\n",
       "      <th></th>\n",
       "      <th>Open</th>\n",
       "      <th>High</th>\n",
       "      <th>Low</th>\n",
       "      <th>Close</th>\n",
       "      <th>Adj Close</th>\n",
       "      <th>Volume</th>\n",
       "    </tr>\n",
       "  </thead>\n",
       "  <tbody>\n",
       "    <tr>\n",
       "      <th>count</th>\n",
       "      <td>1141.000000</td>\n",
       "      <td>1141.000000</td>\n",
       "      <td>1141.000000</td>\n",
       "      <td>1141.000000</td>\n",
       "      <td>1141.000000</td>\n",
       "      <td>1.141000e+03</td>\n",
       "    </tr>\n",
       "    <tr>\n",
       "      <th>mean</th>\n",
       "      <td>130.863064</td>\n",
       "      <td>133.897266</td>\n",
       "      <td>127.567752</td>\n",
       "      <td>130.826040</td>\n",
       "      <td>130.826040</td>\n",
       "      <td>1.363922e+08</td>\n",
       "    </tr>\n",
       "    <tr>\n",
       "      <th>std</th>\n",
       "      <td>119.920816</td>\n",
       "      <td>122.640329</td>\n",
       "      <td>116.838017</td>\n",
       "      <td>119.767818</td>\n",
       "      <td>119.767818</td>\n",
       "      <td>9.309932e+07</td>\n",
       "    </tr>\n",
       "    <tr>\n",
       "      <th>min</th>\n",
       "      <td>12.073333</td>\n",
       "      <td>12.445333</td>\n",
       "      <td>11.799333</td>\n",
       "      <td>11.931333</td>\n",
       "      <td>11.931333</td>\n",
       "      <td>2.940180e+07</td>\n",
       "    </tr>\n",
       "    <tr>\n",
       "      <th>25%</th>\n",
       "      <td>20.489332</td>\n",
       "      <td>20.966667</td>\n",
       "      <td>20.070000</td>\n",
       "      <td>20.582666</td>\n",
       "      <td>20.582666</td>\n",
       "      <td>7.689750e+07</td>\n",
       "    </tr>\n",
       "    <tr>\n",
       "      <th>50%</th>\n",
       "      <td>61.566666</td>\n",
       "      <td>64.599335</td>\n",
       "      <td>60.610668</td>\n",
       "      <td>62.711334</td>\n",
       "      <td>62.711334</td>\n",
       "      <td>1.044990e+08</td>\n",
       "    </tr>\n",
       "    <tr>\n",
       "      <th>75%</th>\n",
       "      <td>237.570007</td>\n",
       "      <td>243.576660</td>\n",
       "      <td>233.626663</td>\n",
       "      <td>237.919998</td>\n",
       "      <td>237.919998</td>\n",
       "      <td>1.627245e+08</td>\n",
       "    </tr>\n",
       "    <tr>\n",
       "      <th>max</th>\n",
       "      <td>411.470001</td>\n",
       "      <td>414.496674</td>\n",
       "      <td>405.666656</td>\n",
       "      <td>409.970001</td>\n",
       "      <td>409.970001</td>\n",
       "      <td>9.140820e+08</td>\n",
       "    </tr>\n",
       "  </tbody>\n",
       "</table>\n",
       "</div>"
      ],
      "text/plain": [
       "              Open         High          Low        Close    Adj Close  \\\n",
       "count  1141.000000  1141.000000  1141.000000  1141.000000  1141.000000   \n",
       "mean    130.863064   133.897266   127.567752   130.826040   130.826040   \n",
       "std     119.920816   122.640329   116.838017   119.767818   119.767818   \n",
       "min      12.073333    12.445333    11.799333    11.931333    11.931333   \n",
       "25%      20.489332    20.966667    20.070000    20.582666    20.582666   \n",
       "50%      61.566666    64.599335    60.610668    62.711334    62.711334   \n",
       "75%     237.570007   243.576660   233.626663   237.919998   237.919998   \n",
       "max     411.470001   414.496674   405.666656   409.970001   409.970001   \n",
       "\n",
       "             Volume  \n",
       "count  1.141000e+03  \n",
       "mean   1.363922e+08  \n",
       "std    9.309932e+07  \n",
       "min    2.940180e+07  \n",
       "25%    7.689750e+07  \n",
       "50%    1.044990e+08  \n",
       "75%    1.627245e+08  \n",
       "max    9.140820e+08  "
      ]
     },
     "execution_count": 16,
     "metadata": {},
     "output_type": "execute_result"
    }
   ],
   "source": [
    "# Statistics Summary\n",
    "df_ALL.describe()"
   ]
  },
  {
   "cell_type": "code",
   "execution_count": 17,
   "id": "736e6214",
   "metadata": {},
   "outputs": [],
   "source": [
    "df = df_ALL.iloc[:,4:5]"
   ]
  },
  {
   "cell_type": "code",
   "execution_count": 18,
   "id": "2885aac5",
   "metadata": {},
   "outputs": [
    {
     "data": {
      "text/html": [
       "<div>\n",
       "<style scoped>\n",
       "    .dataframe tbody tr th:only-of-type {\n",
       "        vertical-align: middle;\n",
       "    }\n",
       "\n",
       "    .dataframe tbody tr th {\n",
       "        vertical-align: top;\n",
       "    }\n",
       "\n",
       "    .dataframe thead th {\n",
       "        text-align: right;\n",
       "    }\n",
       "</style>\n",
       "<table border=\"1\" class=\"dataframe\">\n",
       "  <thead>\n",
       "    <tr style=\"text-align: right;\">\n",
       "      <th></th>\n",
       "      <th>Close</th>\n",
       "    </tr>\n",
       "  </thead>\n",
       "  <tbody>\n",
       "    <tr>\n",
       "      <th>0</th>\n",
       "      <td>22.223333</td>\n",
       "    </tr>\n",
       "    <tr>\n",
       "      <th>1</th>\n",
       "      <td>21.879999</td>\n",
       "    </tr>\n",
       "    <tr>\n",
       "      <th>2</th>\n",
       "      <td>22.153334</td>\n",
       "    </tr>\n",
       "    <tr>\n",
       "      <th>3</th>\n",
       "      <td>21.940001</td>\n",
       "    </tr>\n",
       "    <tr>\n",
       "      <th>4</th>\n",
       "      <td>21.811333</td>\n",
       "    </tr>\n",
       "  </tbody>\n",
       "</table>\n",
       "</div>"
      ],
      "text/plain": [
       "       Close\n",
       "0  22.223333\n",
       "1  21.879999\n",
       "2  22.153334\n",
       "3  21.940001\n",
       "4  21.811333"
      ]
     },
     "execution_count": 18,
     "metadata": {},
     "output_type": "execute_result"
    }
   ],
   "source": [
    "df.head()"
   ]
  },
  {
   "cell_type": "code",
   "execution_count": 19,
   "id": "ec6d9aae",
   "metadata": {},
   "outputs": [
    {
     "data": {
      "text/plain": [
       "<AxesSubplot: >"
      ]
     },
     "execution_count": 19,
     "metadata": {},
     "output_type": "execute_result"
    },
    {
     "data": {
      "image/png": "[encoded data removed]",
      "text/plain": [
       "<Figure size 1200x800 with 1 Axes>"
      ]
     },
     "metadata": {},
     "output_type": "display_data"
    }
   ],
   "source": [
    "df.plot(figsize=(12,8))"
   ]
  },
  {
   "cell_type": "markdown",
   "id": "2cc9e4a9",
   "metadata": {},
   "source": [
    "### Set length of the input sequence  ###"
   ]
  },
  {
   "cell_type": "code",
   "execution_count": 20,
   "id": "7859031d",
   "metadata": {},
   "outputs": [],
   "source": [
    "# Set length of the input sequence \n",
    "#i.e time series steps that are used for future predictions\n",
    "#Currently us 100 historical data points\n",
    "length100 = 100"
   ]
  },
  {
   "cell_type": "code",
   "execution_count": 22,
   "id": "49fc973c",
   "metadata": {},
   "outputs": [
    {
     "data": {
      "text/plain": [
       "100"
      ]
     },
     "execution_count": 22,
     "metadata": {},
     "output_type": "execute_result"
    }
   ],
   "source": [
    "length100"
   ]
  },
  {
   "cell_type": "code",
   "execution_count": 24,
   "id": "9e38d5ff",
   "metadata": {},
   "outputs": [
    {
     "data": {
      "text/plain": [
       "1141"
      ]
     },
     "execution_count": 24,
     "metadata": {},
     "output_type": "execute_result"
    }
   ],
   "source": [
    "len(df)"
   ]
  },
  {
   "cell_type": "code",
   "execution_count": 36,
   "id": "ef4886f3",
   "metadata": {},
   "outputs": [],
   "source": [
    "# Set percentage \n",
    "test_percent = 0.3"
   ]
  },
  {
   "cell_type": "code",
   "execution_count": 37,
   "id": "b0a8a951",
   "metadata": {},
   "outputs": [
    {
     "data": {
      "text/plain": [
       "342.3"
      ]
     },
     "execution_count": 37,
     "metadata": {},
     "output_type": "execute_result"
    }
   ],
   "source": [
    "#Number of data points reserved for testing \n",
    "# 100 percent\n",
    "len(df)*test_percent"
   ]
  },
  {
   "cell_type": "code",
   "execution_count": 38,
   "id": "6679f1b8",
   "metadata": {},
   "outputs": [
    {
     "data": {
      "text/plain": [
       "342.0"
      ]
     },
     "execution_count": 38,
     "metadata": {},
     "output_type": "execute_result"
    }
   ],
   "source": [
    "# Need to find the length of testing datasets\n",
    "test_length = np.round(len(df)*test_percent)\n",
    "\n",
    "test_length"
   ]
  },
  {
   "cell_type": "code",
   "execution_count": 39,
   "id": "75c11e65",
   "metadata": {},
   "outputs": [
    {
     "data": {
      "text/plain": [
       "799"
      ]
     },
     "execution_count": 39,
     "metadata": {},
     "output_type": "execute_result"
    }
   ],
   "source": [
    "# Testing data set starts at this index\n",
    "split_index = int(len(df) - test_length)\n",
    "\n",
    "split_index"
   ]
  },
  {
   "cell_type": "code",
   "execution_count": 40,
   "id": "a8a09fd6",
   "metadata": {},
   "outputs": [],
   "source": [
    "# The testing data set starts at this index\n",
    "data_train = df.iloc[: split_index]\n",
    "\n",
    "# Testing dataset\n",
    "data_test = df.iloc[split_index - length100 :]"
   ]
  },
  {
   "cell_type": "code",
   "execution_count": 41,
   "id": "46c788c7",
   "metadata": {},
   "outputs": [
    {
     "data": {
      "text/html": [
       "<div>\n",
       "<style scoped>\n",
       "    .dataframe tbody tr th:only-of-type {\n",
       "        vertical-align: middle;\n",
       "    }\n",
       "\n",
       "    .dataframe tbody tr th {\n",
       "        vertical-align: top;\n",
       "    }\n",
       "\n",
       "    .dataframe thead th {\n",
       "        text-align: right;\n",
       "    }\n",
       "</style>\n",
       "<table border=\"1\" class=\"dataframe\">\n",
       "  <thead>\n",
       "    <tr style=\"text-align: right;\">\n",
       "      <th></th>\n",
       "      <th>Close</th>\n",
       "    </tr>\n",
       "  </thead>\n",
       "  <tbody>\n",
       "    <tr>\n",
       "      <th>0</th>\n",
       "      <td>22.223333</td>\n",
       "    </tr>\n",
       "    <tr>\n",
       "      <th>1</th>\n",
       "      <td>21.879999</td>\n",
       "    </tr>\n",
       "    <tr>\n",
       "      <th>2</th>\n",
       "      <td>22.153334</td>\n",
       "    </tr>\n",
       "    <tr>\n",
       "      <th>3</th>\n",
       "      <td>21.940001</td>\n",
       "    </tr>\n",
       "    <tr>\n",
       "      <th>4</th>\n",
       "      <td>21.811333</td>\n",
       "    </tr>\n",
       "  </tbody>\n",
       "</table>\n",
       "</div>"
      ],
      "text/plain": [
       "       Close\n",
       "0  22.223333\n",
       "1  21.879999\n",
       "2  22.153334\n",
       "3  21.940001\n",
       "4  21.811333"
      ]
     },
     "execution_count": 41,
     "metadata": {},
     "output_type": "execute_result"
    }
   ],
   "source": [
    "data_train.head(5)"
   ]
  },
  {
   "cell_type": "code",
   "execution_count": 42,
   "id": "26cdab74",
   "metadata": {},
   "outputs": [
    {
     "data": {
      "text/html": [
       "<div>\n",
       "<style scoped>\n",
       "    .dataframe tbody tr th:only-of-type {\n",
       "        vertical-align: middle;\n",
       "    }\n",
       "\n",
       "    .dataframe tbody tr th {\n",
       "        vertical-align: top;\n",
       "    }\n",
       "\n",
       "    .dataframe thead th {\n",
       "        text-align: right;\n",
       "    }\n",
       "</style>\n",
       "<table border=\"1\" class=\"dataframe\">\n",
       "  <thead>\n",
       "    <tr style=\"text-align: right;\">\n",
       "      <th></th>\n",
       "      <th>Close</th>\n",
       "    </tr>\n",
       "  </thead>\n",
       "  <tbody>\n",
       "    <tr>\n",
       "      <th>794</th>\n",
       "      <td>225.666672</td>\n",
       "    </tr>\n",
       "    <tr>\n",
       "      <th>795</th>\n",
       "      <td>236.479996</td>\n",
       "    </tr>\n",
       "    <tr>\n",
       "      <th>796</th>\n",
       "      <td>228.300003</td>\n",
       "    </tr>\n",
       "    <tr>\n",
       "      <th>797</th>\n",
       "      <td>224.533340</td>\n",
       "    </tr>\n",
       "    <tr>\n",
       "      <th>798</th>\n",
       "      <td>223.646667</td>\n",
       "    </tr>\n",
       "  </tbody>\n",
       "</table>\n",
       "</div>"
      ],
      "text/plain": [
       "          Close\n",
       "794  225.666672\n",
       "795  236.479996\n",
       "796  228.300003\n",
       "797  224.533340\n",
       "798  223.646667"
      ]
     },
     "execution_count": 42,
     "metadata": {},
     "output_type": "execute_result"
    }
   ],
   "source": [
    "data_train.tail()"
   ]
  },
  {
   "cell_type": "code",
   "execution_count": 43,
   "id": "60f30c81",
   "metadata": {},
   "outputs": [
    {
     "data": {
      "text/html": [
       "<div>\n",
       "<style scoped>\n",
       "    .dataframe tbody tr th:only-of-type {\n",
       "        vertical-align: middle;\n",
       "    }\n",
       "\n",
       "    .dataframe tbody tr th {\n",
       "        vertical-align: top;\n",
       "    }\n",
       "\n",
       "    .dataframe thead th {\n",
       "        text-align: right;\n",
       "    }\n",
       "</style>\n",
       "<table border=\"1\" class=\"dataframe\">\n",
       "  <thead>\n",
       "    <tr style=\"text-align: right;\">\n",
       "      <th></th>\n",
       "      <th>Close</th>\n",
       "    </tr>\n",
       "  </thead>\n",
       "  <tbody>\n",
       "    <tr>\n",
       "      <th>699</th>\n",
       "      <td>209.023331</td>\n",
       "    </tr>\n",
       "    <tr>\n",
       "      <th>700</th>\n",
       "      <td>203.330002</td>\n",
       "    </tr>\n",
       "    <tr>\n",
       "      <th>701</th>\n",
       "      <td>213.276672</td>\n",
       "    </tr>\n",
       "    <tr>\n",
       "      <th>702</th>\n",
       "      <td>211.083328</td>\n",
       "    </tr>\n",
       "    <tr>\n",
       "      <th>703</th>\n",
       "      <td>207.589996</td>\n",
       "    </tr>\n",
       "  </tbody>\n",
       "</table>\n",
       "</div>"
      ],
      "text/plain": [
       "          Close\n",
       "699  209.023331\n",
       "700  203.330002\n",
       "701  213.276672\n",
       "702  211.083328\n",
       "703  207.589996"
      ]
     },
     "execution_count": 43,
     "metadata": {},
     "output_type": "execute_result"
    }
   ],
   "source": [
    "data_test.head(5)"
   ]
  },
  {
   "cell_type": "code",
   "execution_count": 44,
   "id": "b7a2aa90",
   "metadata": {},
   "outputs": [
    {
     "data": {
      "text/html": [
       "<div>\n",
       "<style scoped>\n",
       "    .dataframe tbody tr th:only-of-type {\n",
       "        vertical-align: middle;\n",
       "    }\n",
       "\n",
       "    .dataframe tbody tr th {\n",
       "        vertical-align: top;\n",
       "    }\n",
       "\n",
       "    .dataframe thead th {\n",
       "        text-align: right;\n",
       "    }\n",
       "</style>\n",
       "<table border=\"1\" class=\"dataframe\">\n",
       "  <thead>\n",
       "    <tr style=\"text-align: right;\">\n",
       "      <th></th>\n",
       "      <th>Close</th>\n",
       "    </tr>\n",
       "  </thead>\n",
       "  <tbody>\n",
       "    <tr>\n",
       "      <th>1136</th>\n",
       "      <td>283.700012</td>\n",
       "    </tr>\n",
       "    <tr>\n",
       "      <th>1137</th>\n",
       "      <td>289.260010</td>\n",
       "    </tr>\n",
       "    <tr>\n",
       "      <th>1138</th>\n",
       "      <td>299.679993</td>\n",
       "    </tr>\n",
       "    <tr>\n",
       "      <th>1139</th>\n",
       "      <td>304.420013</td>\n",
       "    </tr>\n",
       "    <tr>\n",
       "      <th>1140</th>\n",
       "      <td>292.130005</td>\n",
       "    </tr>\n",
       "  </tbody>\n",
       "</table>\n",
       "</div>"
      ],
      "text/plain": [
       "           Close\n",
       "1136  283.700012\n",
       "1137  289.260010\n",
       "1138  299.679993\n",
       "1139  304.420013\n",
       "1140  292.130005"
      ]
     },
     "execution_count": 44,
     "metadata": {},
     "output_type": "execute_result"
    }
   ],
   "source": [
    "data_test.tail()"
   ]
  },
  {
   "cell_type": "markdown",
   "id": "5a87890b",
   "metadata": {},
   "source": [
    "### Normalize Data (Scale it into the range [0,1]) ###"
   ]
  },
  {
   "cell_type": "code",
   "execution_count": 45,
   "id": "b262471b",
   "metadata": {},
   "outputs": [],
   "source": [
    "# Create a MinMaxScaler to normalize the data\n",
    "scaler = MinMaxScaler()"
   ]
  },
  {
   "cell_type": "code",
   "execution_count": 46,
   "id": "45c43971",
   "metadata": {},
   "outputs": [
    {
     "data": {
      "text/html": [
       "<style>#sk-container-id-1 {color: black;background-color: white;}#sk-container-id-1 pre{padding: 0;}#sk-container-id-1 div.sk-toggleable {background-color: white;}#sk-container-id-1 label.sk-toggleable__label {cursor: pointer;display: block;width: 100%;margin-bottom: 0;padding: 0.3em;box-sizing: border-box;text-align: center;}#sk-container-id-1 label.sk-toggleable__label-arrow:before {content: \"▸\";float: left;margin-right: 0.25em;color: #696969;}#sk-container-id-1 label.sk-toggleable__label-arrow:hover:before {color: black;}#sk-container-id-1 div.sk-estimator:hover label.sk-toggleable__label-arrow:before {color: black;}#sk-container-id-1 div.sk-toggleable__content {max-height: 0;max-width: 0;overflow: hidden;text-align: left;background-color: #f0f8ff;}#sk-container-id-1 div.sk-toggleable__content pre {margin: 0.2em;color: black;border-radius: 0.25em;background-color: #f0f8ff;}#sk-container-id-1 input.sk-toggleable__control:checked~div.sk-toggleable__content {max-height: 200px;max-width: 100%;overflow: auto;}#sk-container-id-1 input.sk-toggleable__control:checked~label.sk-toggleable__label-arrow:before {content: \"▾\";}#sk-container-id-1 div.sk-estimator input.sk-toggleable__control:checked~label.sk-toggleable__label {background-color: #d4ebff;}#sk-container-id-1 div.sk-label input.sk-toggleable__control:checked~label.sk-toggleable__label {background-color: #d4ebff;}#sk-container-id-1 input.sk-hidden--visually {border: 0;clip: rect(1px 1px 1px 1px);clip: rect(1px, 1px, 1px, 1px);height: 1px;margin: -1px;overflow: hidden;padding: 0;position: absolute;width: 1px;}#sk-container-id-1 div.sk-estimator {font-family: monospace;background-color: #f0f8ff;border: 1px dotted black;border-radius: 0.25em;box-sizing: border-box;margin-bottom: 0.5em;}#sk-container-id-1 div.sk-estimator:hover {background-color: #d4ebff;}#sk-container-id-1 div.sk-parallel-item::after {content: \"\";width: 100%;border-bottom: 1px solid gray;flex-grow: 1;}#sk-container-id-1 div.sk-label:hover label.sk-toggleable__label {background-color: #d4ebff;}#sk-container-id-1 div.sk-serial::before {content: \"\";position: absolute;border-left: 1px solid gray;box-sizing: border-box;top: 0;bottom: 0;left: 50%;z-index: 0;}#sk-container-id-1 div.sk-serial {display: flex;flex-direction: column;align-items: center;background-color: white;padding-right: 0.2em;padding-left: 0.2em;position: relative;}#sk-container-id-1 div.sk-item {position: relative;z-index: 1;}#sk-container-id-1 div.sk-parallel {display: flex;align-items: stretch;justify-content: center;background-color: white;position: relative;}#sk-container-id-1 div.sk-item::before, #sk-container-id-1 div.sk-parallel-item::before {content: \"\";position: absolute;border-left: 1px solid gray;box-sizing: border-box;top: 0;bottom: 0;left: 50%;z-index: -1;}#sk-container-id-1 div.sk-parallel-item {display: flex;flex-direction: column;z-index: 1;position: relative;background-color: white;}#sk-container-id-1 div.sk-parallel-item:first-child::after {align-self: flex-end;width: 50%;}#sk-container-id-1 div.sk-parallel-item:last-child::after {align-self: flex-start;width: 50%;}#sk-container-id-1 div.sk-parallel-item:only-child::after {width: 0;}#sk-container-id-1 div.sk-dashed-wrapped {border: 1px dashed gray;margin: 0 0.4em 0.5em 0.4em;box-sizing: border-box;padding-bottom: 0.4em;background-color: white;}#sk-container-id-1 div.sk-label label {font-family: monospace;font-weight: bold;display: inline-block;line-height: 1.2em;}#sk-container-id-1 div.sk-label-container {text-align: center;}#sk-container-id-1 div.sk-container {/* jupyter's `normalize.less` sets `[hidden] { display: none; }` but bootstrap.min.css set `[hidden] { display: none !important; }` so we also need the `!important` here to be able to override the default hidden behavior on the sphinx rendered scikit-learn.org. See: https://github.com/scikit-learn/scikit-learn/issues/21755 */display: inline-block !important;position: relative;}#sk-container-id-1 div.sk-text-repr-fallback {display: none;}</style><div id=\"sk-container-id-1\" class=\"sk-top-container\"><div class=\"sk-text-repr-fallback\"><pre>MinMaxScaler()</pre><b>In a Jupyter environment, please rerun this cell to show the HTML representation or trust the notebook. <br />On GitHub, the HTML representation is unable to render, please try loading this page with nbviewer.org.</b></div><div class=\"sk-container\" hidden><div class=\"sk-item\"><div class=\"sk-estimator sk-toggleable\"><input class=\"sk-toggleable__control sk-hidden--visually\" id=\"sk-estimator-id-1\" type=\"checkbox\" checked><label for=\"sk-estimator-id-1\" class=\"sk-toggleable__label sk-toggleable__label-arrow\">MinMaxScaler</label><div class=\"sk-toggleable__content\"><pre>MinMaxScaler()</pre></div></div></div></div></div>"
      ],
      "text/plain": [
       "MinMaxScaler()"
      ]
     },
     "execution_count": 46,
     "metadata": {},
     "output_type": "execute_result"
    }
   ],
   "source": [
    "# ONLY scale the traing data - Not scale the testing data\n",
    "\n",
    "scaler.fit(data_train)"
   ]
  },
  {
   "cell_type": "code",
   "execution_count": 47,
   "id": "e6199450",
   "metadata": {},
   "outputs": [],
   "source": [
    "normalized_train = scaler.transform(data_train)\n",
    "\n",
    "normalized_test = scaler.transform(data_test)"
   ]
  },
  {
   "cell_type": "markdown",
   "id": "8ca9c0e2",
   "metadata": {},
   "source": [
    "### Create TimeseriesGenerator for Training ###"
   ]
  },
  {
   "cell_type": "code",
   "execution_count": 48,
   "id": "e07bc4eb",
   "metadata": {},
   "outputs": [],
   "source": [
    "# TimeseriesGenerator : Generate time series batches for traing/testing\n",
    "#Set the length of the input sequence as above\n",
    "#length60\n",
    "batch_size64 = 64\n",
    "\n",
    "#Create a TimeSeriesGenerator for training: train_tsGenerator\n",
    "# TS (inputs, outpus, length, batch_size)\n",
    "train_tsGenerator100 = TimeseriesGenerator(normalized_train, normalized_train, length=length100, batch_size=batch_size64)"
   ]
  },
  {
   "cell_type": "code",
   "execution_count": 49,
   "id": "3703bd93",
   "metadata": {},
   "outputs": [
    {
     "data": {
      "text/plain": [
       "799"
      ]
     },
     "execution_count": 49,
     "metadata": {},
     "output_type": "execute_result"
    }
   ],
   "source": [
    "len(normalized_train)"
   ]
  },
  {
   "cell_type": "code",
   "execution_count": 51,
   "id": "1b05ea52",
   "metadata": {},
   "outputs": [
    {
     "data": {
      "text/plain": [
       "11"
      ]
     },
     "execution_count": 51,
     "metadata": {},
     "output_type": "execute_result"
    }
   ],
   "source": [
    "len(train_tsGenerator100)"
   ]
  },
  {
   "cell_type": "code",
   "execution_count": 52,
   "id": "e88a29c9",
   "metadata": {},
   "outputs": [],
   "source": [
    "#What does the first batch look like?\n",
    "X,y = train_tsGenerator100[0]"
   ]
  },
  {
   "cell_type": "code",
   "execution_count": 53,
   "id": "0b58a03c",
   "metadata": {},
   "outputs": [],
   "source": [
    "# print(X)"
   ]
  },
  {
   "cell_type": "code",
   "execution_count": 54,
   "id": "5f15c92b",
   "metadata": {},
   "outputs": [],
   "source": [
    "# print(y)"
   ]
  },
  {
   "cell_type": "markdown",
   "id": "bac21c05",
   "metadata": {},
   "source": [
    "# Build, Train, and Test Model #"
   ]
  },
  {
   "cell_type": "markdown",
   "id": "a346974a",
   "metadata": {},
   "source": [
    "### Build LTSM Model ###"
   ]
  },
  {
   "cell_type": "code",
   "execution_count": 55,
   "id": "a7880dcc",
   "metadata": {},
   "outputs": [],
   "source": [
    "# Set number of features\n",
    "\n",
    "# Only using one feature: Close price\n",
    "n_features = 1"
   ]
  },
  {
   "cell_type": "code",
   "execution_count": 57,
   "id": "054f0e6d",
   "metadata": {},
   "outputs": [],
   "source": [
    "# define model\n",
    "model = Sequential()\n",
    "\n",
    "# Add on LSTM layer\n",
    "# This layer has 100 LSTM cells\n",
    "# Activation fuctions: relu\n",
    "model.add(LSTM(100, activation='relu', return_sequences=True, input_shape=(length100, n_features)))\n",
    "\n",
    "# Dropout layer\n",
    "model.add(Dropout(0.25))\n",
    "\n",
    "model.add(LSTM(units=100, activation='relu', return_sequences=True))\n",
    "\n",
    "model.add(Dropout(0.25))\n",
    "\n",
    "model.add(LSTM(units=100, activation='relu'))\n",
    "\n",
    "model.add(Dense(1))"
   ]
  },
  {
   "cell_type": "markdown",
   "id": "6d77992a",
   "metadata": {},
   "source": [
    "### Compile Model ###"
   ]
  },
  {
   "cell_type": "code",
   "execution_count": 58,
   "id": "094f7e4f",
   "metadata": {},
   "outputs": [
    {
     "name": "stdout",
     "output_type": "stream",
     "text": [
      "Model: \"sequential_1\"\n",
      "_________________________________________________________________\n",
      " Layer (type)                Output Shape              Param #   \n",
      "=================================================================\n",
      " lstm (LSTM)                 (None, 100, 100)          40800     \n",
      "                                                                 \n",
      " dropout (Dropout)           (None, 100, 100)          0         \n",
      "                                                                 \n",
      " lstm_1 (LSTM)               (None, 100, 100)          80400     \n",
      "                                                                 \n",
      " dropout_1 (Dropout)         (None, 100, 100)          0         \n",
      "                                                                 \n",
      " lstm_2 (LSTM)               (None, 100)               80400     \n",
      "                                                                 \n",
      " dense (Dense)               (None, 1)                 101       \n",
      "                                                                 \n",
      "=================================================================\n",
      "Total params: 201,701\n",
      "Trainable params: 201,701\n",
      "Non-trainable params: 0\n",
      "_________________________________________________________________\n"
     ]
    }
   ],
   "source": [
    "model.compile(optimizer='adam', loss='mse')\n",
    "model.summary()"
   ]
  },
  {
   "cell_type": "code",
   "execution_count": 60,
   "id": "2f7b8b34",
   "metadata": {},
   "outputs": [
    {
     "name": "stdout",
     "output_type": "stream",
     "text": [
      "Epoch 1/50\n",
      "11/11 [==============================] - 6s 328ms/step - loss: 0.0818\n",
      "Epoch 2/50\n",
      "11/11 [==============================] - 2s 202ms/step - loss: 0.0326\n",
      "Epoch 3/50\n",
      "11/11 [==============================] - 11s 945ms/step - loss: 0.0304\n",
      "Epoch 4/50\n",
      "11/11 [==============================] - 5s 462ms/step - loss: 0.0365\n",
      "Epoch 5/50\n",
      "11/11 [==============================] - 7s 524ms/step - loss: 0.0647\n",
      "Epoch 6/50\n",
      "11/11 [==============================] - 5s 517ms/step - loss: 0.0620\n",
      "Epoch 7/50\n",
      "11/11 [==============================] - 7s 699ms/step - loss: 0.0321\n",
      "Epoch 8/50\n",
      "11/11 [==============================] - 5s 447ms/step - loss: 0.0367\n",
      "Epoch 9/50\n",
      "11/11 [==============================] - 4s 397ms/step - loss: 0.0173\n",
      "Epoch 10/50\n",
      "11/11 [==============================] - 6s 555ms/step - loss: 0.0394\n",
      "Epoch 11/50\n",
      "11/11 [==============================] - 5s 417ms/step - loss: 0.0212\n",
      "Epoch 12/50\n",
      "11/11 [==============================] - 4s 346ms/step - loss: 0.0032\n",
      "Epoch 13/50\n",
      "11/11 [==============================] - 8s 760ms/step - loss: 0.0044\n",
      "Epoch 14/50\n",
      "11/11 [==============================] - 6s 496ms/step - loss: 0.0034\n",
      "Epoch 15/50\n",
      "11/11 [==============================] - 5s 405ms/step - loss: 0.0026\n",
      "Epoch 16/50\n",
      "11/11 [==============================] - 9s 764ms/step - loss: 0.0024\n",
      "Epoch 17/50\n",
      "11/11 [==============================] - 5s 489ms/step - loss: 0.0024\n",
      "Epoch 18/50\n",
      "11/11 [==============================] - 6s 573ms/step - loss: 0.0021\n",
      "Epoch 19/50\n",
      "11/11 [==============================] - 6s 541ms/step - loss: 0.0023\n",
      "Epoch 20/50\n",
      "11/11 [==============================] - 11s 940ms/step - loss: 0.0023\n",
      "Epoch 21/50\n",
      "11/11 [==============================] - 5s 493ms/step - loss: 0.0022\n",
      "Epoch 22/50\n",
      "11/11 [==============================] - 6s 577ms/step - loss: 0.0020\n",
      "Epoch 23/50\n",
      "11/11 [==============================] - 13s 1s/step - loss: 0.0025\n",
      "Epoch 24/50\n",
      "11/11 [==============================] - 4s 402ms/step - loss: 0.0025\n",
      "Epoch 25/50\n",
      "11/11 [==============================] - 9s 623ms/step - loss: 0.0026\n",
      "Epoch 26/50\n",
      "11/11 [==============================] - 10s 819ms/step - loss: 0.0018\n",
      "Epoch 27/50\n",
      "11/11 [==============================] - 8s 706ms/step - loss: 0.0024\n",
      "Epoch 28/50\n",
      "11/11 [==============================] - 8s 656ms/step - loss: 0.0023\n",
      "Epoch 29/50\n",
      "11/11 [==============================] - 5s 470ms/step - loss: 0.0024\n",
      "Epoch 30/50\n",
      "11/11 [==============================] - 7s 667ms/step - loss: 0.0024\n",
      "Epoch 31/50\n",
      "11/11 [==============================] - 9s 813ms/step - loss: 0.0021\n",
      "Epoch 32/50\n",
      "11/11 [==============================] - 8s 758ms/step - loss: 0.0019\n",
      "Epoch 33/50\n",
      "11/11 [==============================] - 9s 879ms/step - loss: 0.0021\n",
      "Epoch 34/50\n",
      "11/11 [==============================] - 6s 601ms/step - loss: 0.0020\n",
      "Epoch 35/50\n",
      "11/11 [==============================] - 9s 888ms/step - loss: 0.0019\n",
      "Epoch 36/50\n",
      "11/11 [==============================] - 7s 650ms/step - loss: 0.0023\n",
      "Epoch 37/50\n",
      "11/11 [==============================] - 9s 896ms/step - loss: 0.0021\n",
      "Epoch 38/50\n",
      "11/11 [==============================] - 11s 1s/step - loss: 0.0021\n",
      "Epoch 39/50\n",
      "11/11 [==============================] - 6s 525ms/step - loss: 0.0022\n",
      "Epoch 40/50\n",
      "11/11 [==============================] - 6s 559ms/step - loss: 0.0022\n",
      "Epoch 41/50\n",
      "11/11 [==============================] - 8s 646ms/step - loss: 0.0027\n",
      "Epoch 42/50\n",
      "11/11 [==============================] - 6s 604ms/step - loss: 0.0025\n",
      "Epoch 43/50\n",
      "11/11 [==============================] - 9s 800ms/step - loss: 0.0023\n",
      "Epoch 44/50\n",
      "11/11 [==============================] - 7s 662ms/step - loss: 0.0020\n",
      "Epoch 45/50\n",
      "11/11 [==============================] - 8s 666ms/step - loss: 0.0018\n",
      "Epoch 46/50\n",
      "11/11 [==============================] - 10s 946ms/step - loss: 0.0022\n",
      "Epoch 47/50\n",
      "11/11 [==============================] - 8s 749ms/step - loss: 0.0017\n",
      "Epoch 48/50\n",
      "11/11 [==============================] - 7s 678ms/step - loss: 0.0021\n",
      "Epoch 49/50\n",
      "11/11 [==============================] - 9s 850ms/step - loss: 0.0019\n",
      "Epoch 50/50\n",
      "11/11 [==============================] - 7s 672ms/step - loss: 0.0017\n"
     ]
    },
    {
     "data": {
      "text/plain": [
       "<keras.callbacks.History at 0x1cdfee5fe20>"
      ]
     },
     "execution_count": 60,
     "metadata": {},
     "output_type": "execute_result"
    }
   ],
   "source": [
    "model.fit(train_tsGenerator100, epochs=50)"
   ]
  },
  {
   "cell_type": "markdown",
   "id": "a3ac62c8",
   "metadata": {},
   "source": [
    "## Visualize Models Performance after Training ##"
   ]
  },
  {
   "cell_type": "code",
   "execution_count": 61,
   "id": "08357543",
   "metadata": {},
   "outputs": [
    {
     "data": {
      "text/plain": [
       "dict_keys(['loss'])"
      ]
     },
     "execution_count": 61,
     "metadata": {},
     "output_type": "execute_result"
    }
   ],
   "source": [
    "loss_history_keys = model.history.history.keys()\n",
    "loss_history_keys"
   ]
  },
  {
   "cell_type": "code",
   "execution_count": 62,
   "id": "d45ee208",
   "metadata": {},
   "outputs": [
    {
     "data": {
      "text/plain": [
       "<AxesSubplot: >"
      ]
     },
     "execution_count": 62,
     "metadata": {},
     "output_type": "execute_result"
    },
    {
     "data": {
      "image/png": "[encoded data removed]",
      "text/plain": [
       "<Figure size 640x480 with 1 Axes>"
      ]
     },
     "metadata": {},
     "output_type": "display_data"
    }
   ],
   "source": [
    "df_model_loss = pd.DataFrame(model.history.history)\n",
    "df_model_loss.plot()"
   ]
  },
  {
   "cell_type": "markdown",
   "id": "2b35e5cb",
   "metadata": {},
   "source": [
    "### Prediction for Testing: Using TimeseriesGenerator ###"
   ]
  },
  {
   "cell_type": "code",
   "execution_count": 64,
   "id": "19a12397",
   "metadata": {},
   "outputs": [],
   "source": [
    "batch_size1 = 1\n",
    "test_tsGenerator100 = TimeseriesGenerator(normalized_test, normalized_test, length=length100, batch_size=batch_size1)"
   ]
  },
  {
   "cell_type": "code",
   "execution_count": 66,
   "id": "4f145e85",
   "metadata": {},
   "outputs": [
    {
     "name": "stdout",
     "output_type": "stream",
     "text": [
      "342/342 [==============================] - 5s 14ms/step\n"
     ]
    }
   ],
   "source": [
    "normalized_prediction = model.predict(test_tsGenerator100) "
   ]
  },
  {
   "cell_type": "code",
   "execution_count": 67,
   "id": "ae8b03d6",
   "metadata": {},
   "outputs": [
    {
     "data": {
      "text/plain": [
       "array([[0.7495284 ],\n",
       "       [0.74433464],\n",
       "       [0.73880744],\n",
       "       [0.73251206],\n",
       "       [0.7252723 ],\n",
       "       [0.71676874],\n",
       "       [0.70683867],\n",
       "       [0.69606495],\n",
       "       [0.6847803 ],\n",
       "       [0.67343765],\n",
       "       [0.6622119 ],\n",
       "       [0.65178406],\n",
       "       [0.6424474 ],\n",
       "       [0.63482493],\n",
       "       [0.6290955 ],\n",
       "       [0.62547237],\n",
       "       [0.6240601 ],\n",
       "       [0.62455213],\n",
       "       [0.626541  ],\n",
       "       [0.62928647],\n",
       "       [0.63174254],\n",
       "       [0.63384575],\n",
       "       [0.63565385],\n",
       "       [0.63717824],\n",
       "       [0.63835883],\n",
       "       [0.6393965 ],\n",
       "       [0.64038193],\n",
       "       [0.64148897],\n",
       "       [0.6424547 ],\n",
       "       [0.6432605 ],\n",
       "       [0.6440986 ],\n",
       "       [0.6451546 ],\n",
       "       [0.6464327 ],\n",
       "       [0.6479408 ],\n",
       "       [0.65018845],\n",
       "       [0.6536596 ],\n",
       "       [0.658246  ],\n",
       "       [0.663973  ],\n",
       "       [0.670472  ],\n",
       "       [0.6773481 ],\n",
       "       [0.68421483],\n",
       "       [0.69078106],\n",
       "       [0.69648623],\n",
       "       [0.70081323],\n",
       "       [0.7037532 ],\n",
       "       [0.7054851 ],\n",
       "       [0.70671827],\n",
       "       [0.7075258 ],\n",
       "       [0.7077399 ],\n",
       "       [0.70731044],\n",
       "       [0.706185  ],\n",
       "       [0.70448023],\n",
       "       [0.702601  ],\n",
       "       [0.70069754],\n",
       "       [0.6987811 ],\n",
       "       [0.69679314],\n",
       "       [0.69499916],\n",
       "       [0.693297  ],\n",
       "       [0.6917052 ],\n",
       "       [0.6907674 ],\n",
       "       [0.6908256 ],\n",
       "       [0.69229287],\n",
       "       [0.6951591 ],\n",
       "       [0.69922304],\n",
       "       [0.7042303 ],\n",
       "       [0.70959324],\n",
       "       [0.71514463],\n",
       "       [0.72060496],\n",
       "       [0.7257254 ],\n",
       "       [0.7305817 ],\n",
       "       [0.73506343],\n",
       "       [0.73855615],\n",
       "       [0.7404885 ],\n",
       "       [0.74116176],\n",
       "       [0.740569  ],\n",
       "       [0.7390143 ],\n",
       "       [0.737239  ],\n",
       "       [0.73568153],\n",
       "       [0.73460877],\n",
       "       [0.7339453 ],\n",
       "       [0.7338038 ],\n",
       "       [0.73447883],\n",
       "       [0.73606306],\n",
       "       [0.73843306],\n",
       "       [0.7413644 ],\n",
       "       [0.7446469 ],\n",
       "       [0.7483984 ],\n",
       "       [0.75254935],\n",
       "       [0.7569646 ],\n",
       "       [0.76115763],\n",
       "       [0.7649778 ],\n",
       "       [0.7683476 ],\n",
       "       [0.77141577],\n",
       "       [0.7742497 ],\n",
       "       [0.77690667],\n",
       "       [0.77889   ],\n",
       "       [0.7801987 ],\n",
       "       [0.7810903 ],\n",
       "       [0.78174216],\n",
       "       [0.7826114 ],\n",
       "       [0.784145  ],\n",
       "       [0.786205  ],\n",
       "       [0.7887058 ],\n",
       "       [0.791401  ],\n",
       "       [0.7940992 ],\n",
       "       [0.7967634 ],\n",
       "       [0.7993091 ],\n",
       "       [0.8017028 ],\n",
       "       [0.8040886 ],\n",
       "       [0.8063457 ],\n",
       "       [0.8085137 ],\n",
       "       [0.81081164],\n",
       "       [0.8133674 ],\n",
       "       [0.81628746],\n",
       "       [0.81994534],\n",
       "       [0.824808  ],\n",
       "       [0.83074236],\n",
       "       [0.8374886 ],\n",
       "       [0.84518796],\n",
       "       [0.853896  ],\n",
       "       [0.86519814],\n",
       "       [0.8791674 ],\n",
       "       [0.8956253 ],\n",
       "       [0.9145013 ],\n",
       "       [0.93570256],\n",
       "       [0.9599082 ],\n",
       "       [0.9861329 ],\n",
       "       [1.0139865 ],\n",
       "       [1.0428541 ],\n",
       "       [1.071724  ],\n",
       "       [1.0986437 ],\n",
       "       [1.1199045 ],\n",
       "       [1.1350161 ],\n",
       "       [1.144041  ],\n",
       "       [1.1470574 ],\n",
       "       [1.1445005 ],\n",
       "       [1.1381612 ],\n",
       "       [1.1300629 ],\n",
       "       [1.1216342 ],\n",
       "       [1.1145234 ],\n",
       "       [1.1097871 ],\n",
       "       [1.1067816 ],\n",
       "       [1.1052514 ],\n",
       "       [1.1042279 ],\n",
       "       [1.1042916 ],\n",
       "       [1.1056061 ],\n",
       "       [1.1071109 ],\n",
       "       [1.1081377 ],\n",
       "       [1.1070873 ],\n",
       "       [1.1034808 ],\n",
       "       [1.0982703 ],\n",
       "       [1.09245   ],\n",
       "       [1.0854433 ],\n",
       "       [1.0776294 ],\n",
       "       [1.0684593 ],\n",
       "       [1.057955  ],\n",
       "       [1.0468105 ],\n",
       "       [1.0347108 ],\n",
       "       [1.0220376 ],\n",
       "       [1.0086678 ],\n",
       "       [0.9956224 ],\n",
       "       [0.98478633],\n",
       "       [0.97791237],\n",
       "       [0.97586477],\n",
       "       [0.97841686],\n",
       "       [0.98484373],\n",
       "       [0.99392015],\n",
       "       [1.0043322 ],\n",
       "       [1.0175494 ],\n",
       "       [1.0326889 ],\n",
       "       [1.0478241 ],\n",
       "       [1.0614072 ],\n",
       "       [1.0719478 ],\n",
       "       [1.0795643 ],\n",
       "       [1.0846012 ],\n",
       "       [1.0882497 ],\n",
       "       [1.0897253 ],\n",
       "       [1.0893918 ],\n",
       "       [1.0872564 ],\n",
       "       [1.0829732 ],\n",
       "       [1.0767968 ],\n",
       "       [1.0682181 ],\n",
       "       [1.0572904 ],\n",
       "       [1.0443344 ],\n",
       "       [1.0303569 ],\n",
       "       [1.0141703 ],\n",
       "       [0.99629104],\n",
       "       [0.97908825],\n",
       "       [0.9636873 ],\n",
       "       [0.9502579 ],\n",
       "       [0.9386626 ],\n",
       "       [0.92939776],\n",
       "       [0.9222396 ],\n",
       "       [0.9172313 ],\n",
       "       [0.91436833],\n",
       "       [0.9129344 ],\n",
       "       [0.9116846 ],\n",
       "       [0.910351  ],\n",
       "       [0.90963286],\n",
       "       [0.90976346],\n",
       "       [0.9099333 ],\n",
       "       [0.90947664],\n",
       "       [0.90754694],\n",
       "       [0.90294385],\n",
       "       [0.8962531 ],\n",
       "       [0.8882531 ],\n",
       "       [0.8806817 ],\n",
       "       [0.8742918 ],\n",
       "       [0.8697148 ],\n",
       "       [0.8663948 ],\n",
       "       [0.8640039 ],\n",
       "       [0.8617162 ],\n",
       "       [0.8595389 ],\n",
       "       [0.8580652 ],\n",
       "       [0.85712266],\n",
       "       [0.8558717 ],\n",
       "       [0.8534946 ],\n",
       "       [0.85043555],\n",
       "       [0.84766   ],\n",
       "       [0.84615594],\n",
       "       [0.8468361 ],\n",
       "       [0.8501122 ],\n",
       "       [0.85699356],\n",
       "       [0.86743313],\n",
       "       [0.8810524 ],\n",
       "       [0.89699906],\n",
       "       [0.91555494],\n",
       "       [0.9362975 ],\n",
       "       [0.95836586],\n",
       "       [0.9805888 ],\n",
       "       [1.002154  ],\n",
       "       [1.0233837 ],\n",
       "       [1.0430906 ],\n",
       "       [1.0597731 ],\n",
       "       [1.0730494 ],\n",
       "       [1.0822895 ],\n",
       "       [1.0866563 ],\n",
       "       [1.0865748 ],\n",
       "       [1.0834432 ],\n",
       "       [1.0776203 ],\n",
       "       [1.0701604 ],\n",
       "       [1.0623121 ],\n",
       "       [1.0538826 ],\n",
       "       [1.0456765 ],\n",
       "       [1.0380582 ],\n",
       "       [1.0311391 ],\n",
       "       [1.0227673 ],\n",
       "       [1.0125363 ],\n",
       "       [1.0005608 ],\n",
       "       [0.9872106 ],\n",
       "       [0.9736632 ],\n",
       "       [0.96081674],\n",
       "       [0.95001864],\n",
       "       [0.94038516],\n",
       "       [0.93151075],\n",
       "       [0.9218231 ],\n",
       "       [0.9111806 ],\n",
       "       [0.8985833 ],\n",
       "       [0.8839969 ],\n",
       "       [0.86867964],\n",
       "       [0.85274523],\n",
       "       [0.837362  ],\n",
       "       [0.8223346 ],\n",
       "       [0.8078599 ],\n",
       "       [0.793411  ],\n",
       "       [0.77922523],\n",
       "       [0.76479167],\n",
       "       [0.75073177],\n",
       "       [0.7383702 ],\n",
       "       [0.72917956],\n",
       "       [0.7235964 ],\n",
       "       [0.7212151 ],\n",
       "       [0.72208613],\n",
       "       [0.72458774],\n",
       "       [0.72795486],\n",
       "       [0.7316568 ],\n",
       "       [0.7354784 ],\n",
       "       [0.739124  ],\n",
       "       [0.7420302 ],\n",
       "       [0.7431145 ],\n",
       "       [0.74237245],\n",
       "       [0.7406635 ],\n",
       "       [0.7374817 ],\n",
       "       [0.7330821 ],\n",
       "       [0.7288576 ],\n",
       "       [0.7254455 ],\n",
       "       [0.72308964],\n",
       "       [0.72235787],\n",
       "       [0.7232739 ],\n",
       "       [0.72502446],\n",
       "       [0.7268917 ],\n",
       "       [0.7282646 ],\n",
       "       [0.72903025],\n",
       "       [0.7294899 ],\n",
       "       [0.7297398 ],\n",
       "       [0.7305036 ],\n",
       "       [0.7323371 ],\n",
       "       [0.73451996],\n",
       "       [0.7366058 ],\n",
       "       [0.7385541 ],\n",
       "       [0.7403777 ],\n",
       "       [0.74215347],\n",
       "       [0.74391603],\n",
       "       [0.7459048 ],\n",
       "       [0.74826056],\n",
       "       [0.7521811 ],\n",
       "       [0.75795186],\n",
       "       [0.76520824],\n",
       "       [0.77299213],\n",
       "       [0.78147477],\n",
       "       [0.79075843],\n",
       "       [0.80145824],\n",
       "       [0.8134773 ],\n",
       "       [0.8265842 ],\n",
       "       [0.84064955],\n",
       "       [0.8552913 ],\n",
       "       [0.86891735],\n",
       "       [0.8808298 ],\n",
       "       [0.89029247],\n",
       "       [0.89769334],\n",
       "       [0.90289164],\n",
       "       [0.9067515 ],\n",
       "       [0.91023046],\n",
       "       [0.9136063 ],\n",
       "       [0.91685146],\n",
       "       [0.9198586 ],\n",
       "       [0.92222005],\n",
       "       [0.9234349 ],\n",
       "       [0.9237476 ],\n",
       "       [0.9233795 ],\n",
       "       [0.9224714 ],\n",
       "       [0.9207555 ],\n",
       "       [0.91809016],\n",
       "       [0.9142028 ],\n",
       "       [0.9090967 ],\n",
       "       [0.90310025],\n",
       "       [0.89621496],\n",
       "       [0.8889228 ],\n",
       "       [0.8820987 ],\n",
       "       [0.87648225],\n",
       "       [0.8729093 ],\n",
       "       [0.8718079 ]], dtype=float32)"
      ]
     },
     "execution_count": 67,
     "metadata": {},
     "output_type": "execute_result"
    }
   ],
   "source": [
    "normalized_prediction"
   ]
  },
  {
   "cell_type": "code",
   "execution_count": 68,
   "id": "85277847",
   "metadata": {},
   "outputs": [
    {
     "data": {
      "text/plain": [
       "342"
      ]
     },
     "execution_count": 68,
     "metadata": {},
     "output_type": "execute_result"
    }
   ],
   "source": [
    "len(normalized_prediction)"
   ]
  },
  {
   "cell_type": "code",
   "execution_count": 69,
   "id": "98e91c2c",
   "metadata": {},
   "outputs": [],
   "source": [
    "# convert normalized predictions back to the true values\n",
    "prediction = scaler.inverse_transform(normalized_prediction)"
   ]
  },
  {
   "cell_type": "code",
   "execution_count": 72,
   "id": "52cb3d4e",
   "metadata": {},
   "outputs": [],
   "source": [
    "prediction_index = np.arange(799, 1141, step=1)\n",
    "\n",
    "df_prediction = pd.DataFrame(data=prediction, index=prediction_index, columns=['Prediction'])"
   ]
  },
  {
   "cell_type": "code",
   "execution_count": 73,
   "id": "2effc0e4",
   "metadata": {},
   "outputs": [
    {
     "data": {
      "text/html": [
       "<div>\n",
       "<style scoped>\n",
       "    .dataframe tbody tr th:only-of-type {\n",
       "        vertical-align: middle;\n",
       "    }\n",
       "\n",
       "    .dataframe tbody tr th {\n",
       "        vertical-align: top;\n",
       "    }\n",
       "\n",
       "    .dataframe thead th {\n",
       "        text-align: right;\n",
       "    }\n",
       "</style>\n",
       "<table border=\"1\" class=\"dataframe\">\n",
       "  <thead>\n",
       "    <tr style=\"text-align: right;\">\n",
       "      <th></th>\n",
       "      <th>Prediction</th>\n",
       "    </tr>\n",
       "  </thead>\n",
       "  <tbody>\n",
       "    <tr>\n",
       "      <th>799</th>\n",
       "      <td>223.622147</td>\n",
       "    </tr>\n",
       "    <tr>\n",
       "      <th>800</th>\n",
       "      <td>222.155258</td>\n",
       "    </tr>\n",
       "    <tr>\n",
       "      <th>801</th>\n",
       "      <td>220.594208</td>\n",
       "    </tr>\n",
       "    <tr>\n",
       "      <th>802</th>\n",
       "      <td>218.816177</td>\n",
       "    </tr>\n",
       "    <tr>\n",
       "      <th>803</th>\n",
       "      <td>216.771439</td>\n",
       "    </tr>\n",
       "    <tr>\n",
       "      <th>...</th>\n",
       "      <td>...</td>\n",
       "    </tr>\n",
       "    <tr>\n",
       "      <th>1136</th>\n",
       "      <td>262.991577</td>\n",
       "    </tr>\n",
       "    <tr>\n",
       "      <th>1137</th>\n",
       "      <td>261.064240</td>\n",
       "    </tr>\n",
       "    <tr>\n",
       "      <th>1138</th>\n",
       "      <td>259.477966</td>\n",
       "    </tr>\n",
       "    <tr>\n",
       "      <th>1139</th>\n",
       "      <td>258.468872</td>\n",
       "    </tr>\n",
       "    <tr>\n",
       "      <th>1140</th>\n",
       "      <td>258.157776</td>\n",
       "    </tr>\n",
       "  </tbody>\n",
       "</table>\n",
       "<p>342 rows × 1 columns</p>\n",
       "</div>"
      ],
      "text/plain": [
       "      Prediction\n",
       "799   223.622147\n",
       "800   222.155258\n",
       "801   220.594208\n",
       "802   218.816177\n",
       "803   216.771439\n",
       "...          ...\n",
       "1136  262.991577\n",
       "1137  261.064240\n",
       "1138  259.477966\n",
       "1139  258.468872\n",
       "1140  258.157776\n",
       "\n",
       "[342 rows x 1 columns]"
      ]
     },
     "execution_count": 73,
     "metadata": {},
     "output_type": "execute_result"
    }
   ],
   "source": [
    "df_prediction"
   ]
  },
  {
   "cell_type": "code",
   "execution_count": 74,
   "id": "cdeb2f5f",
   "metadata": {},
   "outputs": [
    {
     "data": {
      "text/plain": [
       "<AxesSubplot: >"
      ]
     },
     "execution_count": 74,
     "metadata": {},
     "output_type": "execute_result"
    },
    {
     "data": {
      "image/png": "[encoded data removed]",
      "text/plain": [
       "<Figure size 800x1200 with 1 Axes>"
      ]
     },
     "metadata": {},
     "output_type": "display_data"
    }
   ],
   "source": [
    "ax = data_train.plot()\n",
    "df_prediction.plot(ax=ax, figsize=(8, 12))"
   ]
  },
  {
   "cell_type": "code",
   "execution_count": 75,
   "id": "54bd2c77",
   "metadata": {},
   "outputs": [
    {
     "data": {
      "text/plain": [
       "<AxesSubplot: >"
      ]
     },
     "execution_count": 75,
     "metadata": {},
     "output_type": "execute_result"
    },
    {
     "data": {
      "image/png": "[encoded data removed]",
      "text/plain": [
       "<Figure size 800x1200 with 1 Axes>"
      ]
     },
     "metadata": {},
     "output_type": "display_data"
    }
   ],
   "source": [
    "ax = df.plot()\n",
    "df_prediction.plot(ax=ax, figsize=(8, 12))"
   ]
  },
  {
   "cell_type": "markdown",
   "id": "c62a5032",
   "metadata": {},
   "source": [
    "# Time Series Forecasting with LSTM\n",
    "\n",
    "# Overview\n",
    "\n",
    "\n",
    "### Time Series forecasting:\n",
    "\n",
    "\n",
    "### --) Forecast into the \"Future\" or unknown range\n",
    "\n",
    "\n",
    "### --)Should employ all the available data\n",
    "\n",
    "\n",
    "### --)i.e., NOt spilt the data into training/testing"
   ]
  },
  {
   "cell_type": "code",
   "execution_count": 76,
   "id": "3db045eb",
   "metadata": {},
   "outputs": [],
   "source": [
    "#Still use Minmax Scaler to normalize the full input dataset\n",
    "\n",
    "full_scaler = MinMaxScaler()\n",
    "normalized_full_data = full_scaler.fit_transform(df)"
   ]
  },
  {
   "cell_type": "code",
   "execution_count": 78,
   "id": "c34ebede",
   "metadata": {},
   "outputs": [],
   "source": [
    "# create timeseries Generator for forecasting\n",
    "forecast_tsGenerator = TimeseriesGenerator(normalized_full_data, normalized_full_data, length=length100, batch_size=batch_size64)"
   ]
  },
  {
   "cell_type": "code",
   "execution_count": 82,
   "id": "5f34cc0f",
   "metadata": {},
   "outputs": [
    {
     "name": "stdout",
     "output_type": "stream",
     "text": [
      "1/1 [==============================] - 0s 27ms/step\n",
      "1/1 [==============================] - 0s 31ms/step\n",
      "1/1 [==============================] - 0s 30ms/step\n",
      "1/1 [==============================] - 0s 31ms/step\n",
      "1/1 [==============================] - 0s 30ms/step\n",
      "1/1 [==============================] - 0s 29ms/step\n",
      "1/1 [==============================] - 0s 30ms/step\n",
      "1/1 [==============================] - 0s 29ms/step\n",
      "1/1 [==============================] - 0s 29ms/step\n",
      "1/1 [==============================] - 0s 30ms/step\n",
      "1/1 [==============================] - 0s 28ms/step\n",
      "1/1 [==============================] - 0s 30ms/step\n",
      "1/1 [==============================] - 0s 35ms/step\n",
      "1/1 [==============================] - 0s 35ms/step\n",
      "1/1 [==============================] - 0s 30ms/step\n",
      "1/1 [==============================] - 0s 30ms/step\n",
      "1/1 [==============================] - 0s 30ms/step\n",
      "1/1 [==============================] - 0s 30ms/step\n",
      "1/1 [==============================] - 0s 31ms/step\n",
      "1/1 [==============================] - 0s 29ms/step\n",
      "1/1 [==============================] - 0s 29ms/step\n",
      "1/1 [==============================] - 0s 31ms/step\n",
      "1/1 [==============================] - 0s 30ms/step\n",
      "1/1 [==============================] - 0s 30ms/step\n",
      "1/1 [==============================] - 0s 30ms/step\n",
      "1/1 [==============================] - 0s 30ms/step\n",
      "1/1 [==============================] - 0s 29ms/step\n",
      "1/1 [==============================] - 0s 29ms/step\n",
      "1/1 [==============================] - 0s 31ms/step\n",
      "1/1 [==============================] - 0s 29ms/step\n",
      "1/1 [==============================] - 0s 29ms/step\n",
      "1/1 [==============================] - 0s 30ms/step\n",
      "1/1 [==============================] - 0s 29ms/step\n",
      "1/1 [==============================] - 0s 30ms/step\n",
      "1/1 [==============================] - 0s 30ms/step\n",
      "1/1 [==============================] - 0s 29ms/step\n",
      "1/1 [==============================] - 0s 30ms/step\n",
      "1/1 [==============================] - 0s 30ms/step\n",
      "1/1 [==============================] - 0s 30ms/step\n",
      "1/1 [==============================] - 0s 30ms/step\n",
      "1/1 [==============================] - 0s 30ms/step\n",
      "1/1 [==============================] - 0s 30ms/step\n",
      "1/1 [==============================] - 0s 30ms/step\n",
      "1/1 [==============================] - 0s 30ms/step\n",
      "1/1 [==============================] - 0s 35ms/step\n",
      "1/1 [==============================] - 0s 32ms/step\n",
      "1/1 [==============================] - 0s 30ms/step\n",
      "1/1 [==============================] - 0s 36ms/step\n",
      "1/1 [==============================] - 0s 33ms/step\n",
      "1/1 [==============================] - 0s 34ms/step\n",
      "1/1 [==============================] - 0s 32ms/step\n",
      "1/1 [==============================] - 0s 33ms/step\n",
      "1/1 [==============================] - 0s 33ms/step\n",
      "1/1 [==============================] - 0s 33ms/step\n",
      "1/1 [==============================] - 0s 32ms/step\n",
      "1/1 [==============================] - 0s 31ms/step\n",
      "1/1 [==============================] - 0s 33ms/step\n",
      "1/1 [==============================] - 0s 33ms/step\n",
      "1/1 [==============================] - 0s 33ms/step\n",
      "1/1 [==============================] - 0s 32ms/step\n",
      "1/1 [==============================] - 0s 32ms/step\n",
      "1/1 [==============================] - 0s 35ms/step\n",
      "1/1 [==============================] - 0s 34ms/step\n",
      "1/1 [==============================] - 0s 32ms/step\n",
      "1/1 [==============================] - 0s 30ms/step\n",
      "1/1 [==============================] - 0s 30ms/step\n",
      "1/1 [==============================] - 0s 32ms/step\n",
      "1/1 [==============================] - 0s 32ms/step\n",
      "1/1 [==============================] - 0s 31ms/step\n",
      "1/1 [==============================] - 0s 29ms/step\n",
      "1/1 [==============================] - 0s 34ms/step\n",
      "1/1 [==============================] - 0s 31ms/step\n",
      "1/1 [==============================] - 0s 33ms/step\n",
      "1/1 [==============================] - 0s 29ms/step\n",
      "1/1 [==============================] - 0s 29ms/step\n",
      "1/1 [==============================] - 0s 33ms/step\n",
      "1/1 [==============================] - 0s 32ms/step\n",
      "1/1 [==============================] - 0s 33ms/step\n",
      "1/1 [==============================] - 0s 31ms/step\n",
      "1/1 [==============================] - 0s 30ms/step\n",
      "1/1 [==============================] - 0s 30ms/step\n",
      "1/1 [==============================] - 0s 31ms/step\n",
      "1/1 [==============================] - 0s 29ms/step\n",
      "1/1 [==============================] - 0s 30ms/step\n",
      "1/1 [==============================] - 0s 30ms/step\n",
      "1/1 [==============================] - 0s 32ms/step\n",
      "1/1 [==============================] - 0s 31ms/step\n",
      "1/1 [==============================] - 0s 30ms/step\n",
      "1/1 [==============================] - 0s 29ms/step\n",
      "1/1 [==============================] - 0s 28ms/step\n",
      "1/1 [==============================] - 0s 30ms/step\n",
      "1/1 [==============================] - 0s 30ms/step\n",
      "1/1 [==============================] - 0s 30ms/step\n",
      "1/1 [==============================] - 0s 30ms/step\n",
      "1/1 [==============================] - 0s 30ms/step\n",
      "1/1 [==============================] - 0s 30ms/step\n",
      "1/1 [==============================] - 0s 31ms/step\n",
      "1/1 [==============================] - 0s 32ms/step\n",
      "1/1 [==============================] - 0s 29ms/step\n",
      "1/1 [==============================] - 0s 29ms/step\n",
      "1/1 [==============================] - 0s 29ms/step\n",
      "1/1 [==============================] - 0s 30ms/step\n",
      "1/1 [==============================] - 0s 31ms/step\n",
      "1/1 [==============================] - 0s 29ms/step\n",
      "1/1 [==============================] - 0s 31ms/step\n",
      "1/1 [==============================] - 0s 30ms/step\n",
      "1/1 [==============================] - 0s 25ms/step\n",
      "1/1 [==============================] - 0s 32ms/step\n",
      "1/1 [==============================] - 0s 35ms/step\n",
      "1/1 [==============================] - 0s 32ms/step\n",
      "1/1 [==============================] - 0s 33ms/step\n",
      "1/1 [==============================] - 0s 33ms/step\n",
      "1/1 [==============================] - 0s 32ms/step\n",
      "1/1 [==============================] - 0s 31ms/step\n",
      "1/1 [==============================] - 0s 31ms/step\n",
      "1/1 [==============================] - 0s 32ms/step\n",
      "1/1 [==============================] - 0s 33ms/step\n"
     ]
    }
   ],
   "source": [
    "forecast = []\n",
    "# Set periods with the time span of forecasting\n",
    "# Let's forecast for the next 117 business days (03/05/2022 - 12/15/2022)\n",
    "periods = 117\n",
    "\n",
    "first_eval_batch = normalized_full_data[-length100:]\n",
    "current_batch = first_eval_batch.reshape((1, length100, n_features))\n",
    "\n",
    "for i in range(periods):\n",
    "    \n",
    "    # get prediction 1 time stamp ahead([0] is for grabbing just the number instead of [array])\n",
    "    current_pred = model.predict(current_batch)[0]\n",
    "    \n",
    "    # store prediction\n",
    "    forecast.append(current_pred)\n",
    "    \n",
    "    # update batch to now include prediction and drop first value\n",
    "    current_batch = np.append(current_batch[:,1:,:], [[current_pred]],axis=1)"
   ]
  },
  {
   "cell_type": "markdown",
   "id": "952556b2",
   "metadata": {},
   "source": [
    "# Inverse to Transform Normalized Data Back into True Values"
   ]
  },
  {
   "cell_type": "code",
   "execution_count": 83,
   "id": "8b925acc",
   "metadata": {},
   "outputs": [
    {
     "data": {
      "text/plain": [
       "array([[271.53112557],\n",
       "       [271.74090161],\n",
       "       [271.79022578],\n",
       "       [271.57980917],\n",
       "       [271.08825186],\n",
       "       [270.34143778],\n",
       "       [269.38691173],\n",
       "       [268.27781761],\n",
       "       [267.06378801],\n",
       "       [265.78657887],\n",
       "       [264.47871709],\n",
       "       [263.1640937 ],\n",
       "       [261.85891284],\n",
       "       [260.57368466],\n",
       "       [259.31441158],\n",
       "       [258.0843202 ],\n",
       "       [256.8843595 ],\n",
       "       [255.7145295 ],\n",
       "       [254.57423706],\n",
       "       [253.46239085],\n",
       "       [252.37820793],\n",
       "       [251.32059695],\n",
       "       [250.28875128],\n",
       "       [249.28205406],\n",
       "       [248.29972236],\n",
       "       [247.34132914],\n",
       "       [246.40632873],\n",
       "       [245.49419917],\n",
       "       [244.60458459],\n",
       "       [243.73710539],\n",
       "       [242.89119218],\n",
       "       [242.06644163],\n",
       "       [241.26237923],\n",
       "       [240.47864912],\n",
       "       [239.71472934],\n",
       "       [238.97014541],\n",
       "       [238.24454143],\n",
       "       [237.53727684],\n",
       "       [236.84813812],\n",
       "       [236.17646097],\n",
       "       [235.52203185],\n",
       "       [234.88416275],\n",
       "       [234.2626876 ],\n",
       "       [233.65698954],\n",
       "       [233.06676015],\n",
       "       [232.49161983],\n",
       "       [231.93107035],\n",
       "       [231.38492192],\n",
       "       [230.85260514],\n",
       "       [230.33388276],\n",
       "       [229.82835146],\n",
       "       [229.33565535],\n",
       "       [228.85553347],\n",
       "       [228.38760621],\n",
       "       [227.93161261],\n",
       "       [227.48714933],\n",
       "       [227.05397913],\n",
       "       [226.63179358],\n",
       "       [226.22030799],\n",
       "       [225.81923765],\n",
       "       [225.4283216 ],\n",
       "       [225.04727512],\n",
       "       [224.67590842],\n",
       "       [224.31391308],\n",
       "       [223.96105185],\n",
       "       [223.61706375],\n",
       "       [223.28183016],\n",
       "       [222.95501893],\n",
       "       [222.6363928 ],\n",
       "       [222.32592806],\n",
       "       [222.02329256],\n",
       "       [221.72824904],\n",
       "       [221.44063143],\n",
       "       [221.1603211 ],\n",
       "       [220.88700964],\n",
       "       [220.62055469],\n",
       "       [220.36083762],\n",
       "       [220.1070518 ],\n",
       "       [219.85855663],\n",
       "       [219.61542331],\n",
       "       [219.3774383 ],\n",
       "       [219.14464906],\n",
       "       [218.91684206],\n",
       "       [218.69399357],\n",
       "       [218.4759138 ],\n",
       "       [218.26255529],\n",
       "       [218.05375198],\n",
       "       [217.84933778],\n",
       "       [217.6493127 ],\n",
       "       [217.45348693],\n",
       "       [217.26174186],\n",
       "       [217.07403003],\n",
       "       [216.89020909],\n",
       "       [216.71027904],\n",
       "       [216.53397891],\n",
       "       [216.3614036 ],\n",
       "       [216.19233958],\n",
       "       [216.02678686],\n",
       "       [215.86457935],\n",
       "       [215.70578824],\n",
       "       [215.55017627],\n",
       "       [215.39776717],\n",
       "       [215.24851349],\n",
       "       [215.10227287],\n",
       "       [214.9590216 ],\n",
       "       [214.81873595],\n",
       "       [214.68122612],\n",
       "       [214.54656329],\n",
       "       [214.41467627],\n",
       "       [214.28547018],\n",
       "       [214.15882638],\n",
       "       [214.03483977],\n",
       "       [213.91334428],\n",
       "       [213.79429247],\n",
       "       [213.6776606 ],\n",
       "       [213.56342494],\n",
       "       [213.45149061]])"
      ]
     },
     "execution_count": 83,
     "metadata": {},
     "output_type": "execute_result"
    }
   ],
   "source": [
    "forecast = full_scaler.inverse_transform(forecast)\n",
    "\n",
    "forecast"
   ]
  },
  {
   "cell_type": "code",
   "execution_count": 84,
   "id": "506f400e",
   "metadata": {},
   "outputs": [
    {
     "data": {
      "text/html": [
       "<div>\n",
       "<style scoped>\n",
       "    .dataframe tbody tr th:only-of-type {\n",
       "        vertical-align: middle;\n",
       "    }\n",
       "\n",
       "    .dataframe tbody tr th {\n",
       "        vertical-align: top;\n",
       "    }\n",
       "\n",
       "    .dataframe thead th {\n",
       "        text-align: right;\n",
       "    }\n",
       "</style>\n",
       "<table border=\"1\" class=\"dataframe\">\n",
       "  <thead>\n",
       "    <tr style=\"text-align: right;\">\n",
       "      <th></th>\n",
       "      <th>Close</th>\n",
       "    </tr>\n",
       "  </thead>\n",
       "  <tbody>\n",
       "    <tr>\n",
       "      <th>0</th>\n",
       "      <td>22.223333</td>\n",
       "    </tr>\n",
       "    <tr>\n",
       "      <th>1</th>\n",
       "      <td>21.879999</td>\n",
       "    </tr>\n",
       "    <tr>\n",
       "      <th>2</th>\n",
       "      <td>22.153334</td>\n",
       "    </tr>\n",
       "    <tr>\n",
       "      <th>3</th>\n",
       "      <td>21.940001</td>\n",
       "    </tr>\n",
       "    <tr>\n",
       "      <th>4</th>\n",
       "      <td>21.811333</td>\n",
       "    </tr>\n",
       "    <tr>\n",
       "      <th>...</th>\n",
       "      <td>...</td>\n",
       "    </tr>\n",
       "    <tr>\n",
       "      <th>1136</th>\n",
       "      <td>283.700012</td>\n",
       "    </tr>\n",
       "    <tr>\n",
       "      <th>1137</th>\n",
       "      <td>289.260010</td>\n",
       "    </tr>\n",
       "    <tr>\n",
       "      <th>1138</th>\n",
       "      <td>299.679993</td>\n",
       "    </tr>\n",
       "    <tr>\n",
       "      <th>1139</th>\n",
       "      <td>304.420013</td>\n",
       "    </tr>\n",
       "    <tr>\n",
       "      <th>1140</th>\n",
       "      <td>292.130005</td>\n",
       "    </tr>\n",
       "  </tbody>\n",
       "</table>\n",
       "<p>1141 rows × 1 columns</p>\n",
       "</div>"
      ],
      "text/plain": [
       "           Close\n",
       "0      22.223333\n",
       "1      21.879999\n",
       "2      22.153334\n",
       "3      21.940001\n",
       "4      21.811333\n",
       "...          ...\n",
       "1136  283.700012\n",
       "1137  289.260010\n",
       "1138  299.679993\n",
       "1139  304.420013\n",
       "1140  292.130005\n",
       "\n",
       "[1141 rows x 1 columns]"
      ]
     },
     "execution_count": 84,
     "metadata": {},
     "output_type": "execute_result"
    }
   ],
   "source": [
    "df"
   ]
  },
  {
   "cell_type": "code",
   "execution_count": 85,
   "id": "5bc06859",
   "metadata": {},
   "outputs": [],
   "source": [
    "# calculate forecast index\n",
    "\n",
    "forecast_index = np.arange(1141, 1258, step=1)"
   ]
  },
  {
   "cell_type": "code",
   "execution_count": 86,
   "id": "1d05993e",
   "metadata": {},
   "outputs": [],
   "source": [
    "forecast_df=pd.DataFrame(data=forecast,index=forecast_index,columns=['Forecast'])"
   ]
  },
  {
   "cell_type": "code",
   "execution_count": 87,
   "id": "2a3461de",
   "metadata": {},
   "outputs": [
    {
     "data": {
      "text/html": [
       "<div>\n",
       "<style scoped>\n",
       "    .dataframe tbody tr th:only-of-type {\n",
       "        vertical-align: middle;\n",
       "    }\n",
       "\n",
       "    .dataframe tbody tr th {\n",
       "        vertical-align: top;\n",
       "    }\n",
       "\n",
       "    .dataframe thead th {\n",
       "        text-align: right;\n",
       "    }\n",
       "</style>\n",
       "<table border=\"1\" class=\"dataframe\">\n",
       "  <thead>\n",
       "    <tr style=\"text-align: right;\">\n",
       "      <th></th>\n",
       "      <th>Forecast</th>\n",
       "    </tr>\n",
       "  </thead>\n",
       "  <tbody>\n",
       "    <tr>\n",
       "      <th>1141</th>\n",
       "      <td>271.531126</td>\n",
       "    </tr>\n",
       "    <tr>\n",
       "      <th>1142</th>\n",
       "      <td>271.740902</td>\n",
       "    </tr>\n",
       "    <tr>\n",
       "      <th>1143</th>\n",
       "      <td>271.790226</td>\n",
       "    </tr>\n",
       "    <tr>\n",
       "      <th>1144</th>\n",
       "      <td>271.579809</td>\n",
       "    </tr>\n",
       "    <tr>\n",
       "      <th>1145</th>\n",
       "      <td>271.088252</td>\n",
       "    </tr>\n",
       "    <tr>\n",
       "      <th>...</th>\n",
       "      <td>...</td>\n",
       "    </tr>\n",
       "    <tr>\n",
       "      <th>1253</th>\n",
       "      <td>213.913344</td>\n",
       "    </tr>\n",
       "    <tr>\n",
       "      <th>1254</th>\n",
       "      <td>213.794292</td>\n",
       "    </tr>\n",
       "    <tr>\n",
       "      <th>1255</th>\n",
       "      <td>213.677661</td>\n",
       "    </tr>\n",
       "    <tr>\n",
       "      <th>1256</th>\n",
       "      <td>213.563425</td>\n",
       "    </tr>\n",
       "    <tr>\n",
       "      <th>1257</th>\n",
       "      <td>213.451491</td>\n",
       "    </tr>\n",
       "  </tbody>\n",
       "</table>\n",
       "<p>117 rows × 1 columns</p>\n",
       "</div>"
      ],
      "text/plain": [
       "        Forecast\n",
       "1141  271.531126\n",
       "1142  271.740902\n",
       "1143  271.790226\n",
       "1144  271.579809\n",
       "1145  271.088252\n",
       "...          ...\n",
       "1253  213.913344\n",
       "1254  213.794292\n",
       "1255  213.677661\n",
       "1256  213.563425\n",
       "1257  213.451491\n",
       "\n",
       "[117 rows x 1 columns]"
      ]
     },
     "execution_count": 87,
     "metadata": {},
     "output_type": "execute_result"
    }
   ],
   "source": [
    "forecast_df"
   ]
  },
  {
   "cell_type": "code",
   "execution_count": 88,
   "id": "b7cf1987",
   "metadata": {},
   "outputs": [
    {
     "data": {
      "text/plain": [
       "<AxesSubplot: >"
      ]
     },
     "execution_count": 88,
     "metadata": {},
     "output_type": "execute_result"
    },
    {
     "data": {
      "image/png": "[encoded data removed]",
      "text/plain": [
       "<Figure size 640x480 with 1 Axes>"
      ]
     },
     "metadata": {},
     "output_type": "display_data"
    },
    {
     "data": {
      "image/png": "[encoded data removed]",
      "text/plain": [
       "<Figure size 640x480 with 1 Axes>"
      ]
     },
     "metadata": {},
     "output_type": "display_data"
    }
   ],
   "source": [
    "df.plot()\n",
    "forecast_df.plot()"
   ]
  },
  {
   "cell_type": "code",
   "execution_count": 89,
   "id": "f2c030ab",
   "metadata": {},
   "outputs": [
    {
     "data": {
      "text/plain": [
       "<AxesSubplot: >"
      ]
     },
     "execution_count": 89,
     "metadata": {},
     "output_type": "execute_result"
    },
    {
     "data": {
      "image/png": "[encoded data removed]",
      "text/plain": [
       "<Figure size 1200x800 with 1 Axes>"
      ]
     },
     "metadata": {},
     "output_type": "display_data"
    }
   ],
   "source": [
    "ax=df.plot()\n",
    "forecast_df.plot(ax=ax, figsize=(12,8))"
   ]
  },
  {
   "cell_type": "code",
   "execution_count": 90,
   "id": "539a7ae1",
   "metadata": {},
   "outputs": [
    {
     "data": {
      "text/html": [
       "<div>\n",
       "<style scoped>\n",
       "    .dataframe tbody tr th:only-of-type {\n",
       "        vertical-align: middle;\n",
       "    }\n",
       "\n",
       "    .dataframe tbody tr th {\n",
       "        vertical-align: top;\n",
       "    }\n",
       "\n",
       "    .dataframe thead th {\n",
       "        text-align: right;\n",
       "    }\n",
       "</style>\n",
       "<table border=\"1\" class=\"dataframe\">\n",
       "  <thead>\n",
       "    <tr style=\"text-align: right;\">\n",
       "      <th></th>\n",
       "      <th>Close</th>\n",
       "    </tr>\n",
       "  </thead>\n",
       "  <tbody>\n",
       "    <tr>\n",
       "      <th>1136</th>\n",
       "      <td>283.700012</td>\n",
       "    </tr>\n",
       "    <tr>\n",
       "      <th>1137</th>\n",
       "      <td>289.260010</td>\n",
       "    </tr>\n",
       "    <tr>\n",
       "      <th>1138</th>\n",
       "      <td>299.679993</td>\n",
       "    </tr>\n",
       "    <tr>\n",
       "      <th>1139</th>\n",
       "      <td>304.420013</td>\n",
       "    </tr>\n",
       "    <tr>\n",
       "      <th>1140</th>\n",
       "      <td>292.130005</td>\n",
       "    </tr>\n",
       "  </tbody>\n",
       "</table>\n",
       "</div>"
      ],
      "text/plain": [
       "           Close\n",
       "1136  283.700012\n",
       "1137  289.260010\n",
       "1138  299.679993\n",
       "1139  304.420013\n",
       "1140  292.130005"
      ]
     },
     "execution_count": 90,
     "metadata": {},
     "output_type": "execute_result"
    }
   ],
   "source": [
    "df.tail()"
   ]
  },
  {
   "cell_type": "code",
   "execution_count": 91,
   "id": "51053021",
   "metadata": {},
   "outputs": [
    {
     "data": {
      "text/html": [
       "<div>\n",
       "<style scoped>\n",
       "    .dataframe tbody tr th:only-of-type {\n",
       "        vertical-align: middle;\n",
       "    }\n",
       "\n",
       "    .dataframe tbody tr th {\n",
       "        vertical-align: top;\n",
       "    }\n",
       "\n",
       "    .dataframe thead th {\n",
       "        text-align: right;\n",
       "    }\n",
       "</style>\n",
       "<table border=\"1\" class=\"dataframe\">\n",
       "  <thead>\n",
       "    <tr style=\"text-align: right;\">\n",
       "      <th></th>\n",
       "      <th>Close</th>\n",
       "    </tr>\n",
       "  </thead>\n",
       "  <tbody>\n",
       "    <tr>\n",
       "      <th>0</th>\n",
       "      <td>22.223333</td>\n",
       "    </tr>\n",
       "    <tr>\n",
       "      <th>1</th>\n",
       "      <td>21.879999</td>\n",
       "    </tr>\n",
       "    <tr>\n",
       "      <th>2</th>\n",
       "      <td>22.153334</td>\n",
       "    </tr>\n",
       "    <tr>\n",
       "      <th>3</th>\n",
       "      <td>21.940001</td>\n",
       "    </tr>\n",
       "    <tr>\n",
       "      <th>4</th>\n",
       "      <td>21.811333</td>\n",
       "    </tr>\n",
       "    <tr>\n",
       "      <th>...</th>\n",
       "      <td>...</td>\n",
       "    </tr>\n",
       "    <tr>\n",
       "      <th>1253</th>\n",
       "      <td>213.913344</td>\n",
       "    </tr>\n",
       "    <tr>\n",
       "      <th>1254</th>\n",
       "      <td>213.794292</td>\n",
       "    </tr>\n",
       "    <tr>\n",
       "      <th>1255</th>\n",
       "      <td>213.677661</td>\n",
       "    </tr>\n",
       "    <tr>\n",
       "      <th>1256</th>\n",
       "      <td>213.563425</td>\n",
       "    </tr>\n",
       "    <tr>\n",
       "      <th>1257</th>\n",
       "      <td>213.451491</td>\n",
       "    </tr>\n",
       "  </tbody>\n",
       "</table>\n",
       "<p>1258 rows × 1 columns</p>\n",
       "</div>"
      ],
      "text/plain": [
       "           Close\n",
       "0      22.223333\n",
       "1      21.879999\n",
       "2      22.153334\n",
       "3      21.940001\n",
       "4      21.811333\n",
       "...          ...\n",
       "1253  213.913344\n",
       "1254  213.794292\n",
       "1255  213.677661\n",
       "1256  213.563425\n",
       "1257  213.451491\n",
       "\n",
       "[1258 rows x 1 columns]"
      ]
     },
     "execution_count": 91,
     "metadata": {},
     "output_type": "execute_result"
    }
   ],
   "source": [
    "for idx in forecast_df.index:\n",
    "    df.loc[idx, 'Close'] = forecast_df.loc[idx, 'Forecast']\n",
    "\n",
    "df"
   ]
  },
  {
   "cell_type": "code",
   "execution_count": 92,
   "id": "12687e1f",
   "metadata": {},
   "outputs": [],
   "source": [
    "df_ALL_2022 = 'Downloads/TSLA1.csv'"
   ]
  },
  {
   "cell_type": "code",
   "execution_count": 93,
   "id": "a70dc7fd",
   "metadata": {},
   "outputs": [],
   "source": [
    "df_ALL_JUL_DEC_2022 = pd.read_csv(df_ALL_2022)"
   ]
  },
  {
   "cell_type": "code",
   "execution_count": 94,
   "id": "01d593cd",
   "metadata": {},
   "outputs": [
    {
     "data": {
      "text/plain": [
       "1258"
      ]
     },
     "execution_count": 94,
     "metadata": {},
     "output_type": "execute_result"
    }
   ],
   "source": [
    "len(df_ALL_JUL_DEC_2022)"
   ]
  },
  {
   "cell_type": "code",
   "execution_count": 95,
   "id": "75cc308a",
   "metadata": {},
   "outputs": [],
   "source": [
    "df_JUL_DEC_2022 = df_ALL_JUL_DEC_2022.iloc[:,4:5]"
   ]
  },
  {
   "cell_type": "code",
   "execution_count": 96,
   "id": "da9ea712",
   "metadata": {},
   "outputs": [
    {
     "data": {
      "text/html": [
       "<div>\n",
       "<style scoped>\n",
       "    .dataframe tbody tr th:only-of-type {\n",
       "        vertical-align: middle;\n",
       "    }\n",
       "\n",
       "    .dataframe tbody tr th {\n",
       "        vertical-align: top;\n",
       "    }\n",
       "\n",
       "    .dataframe thead th {\n",
       "        text-align: right;\n",
       "    }\n",
       "</style>\n",
       "<table border=\"1\" class=\"dataframe\">\n",
       "  <thead>\n",
       "    <tr style=\"text-align: right;\">\n",
       "      <th></th>\n",
       "      <th>Close</th>\n",
       "    </tr>\n",
       "  </thead>\n",
       "  <tbody>\n",
       "    <tr>\n",
       "      <th>0</th>\n",
       "      <td>22.223333</td>\n",
       "    </tr>\n",
       "    <tr>\n",
       "      <th>1</th>\n",
       "      <td>21.879999</td>\n",
       "    </tr>\n",
       "    <tr>\n",
       "      <th>2</th>\n",
       "      <td>22.153334</td>\n",
       "    </tr>\n",
       "    <tr>\n",
       "      <th>3</th>\n",
       "      <td>21.940001</td>\n",
       "    </tr>\n",
       "    <tr>\n",
       "      <th>4</th>\n",
       "      <td>21.811333</td>\n",
       "    </tr>\n",
       "    <tr>\n",
       "      <th>...</th>\n",
       "      <td>...</td>\n",
       "    </tr>\n",
       "    <tr>\n",
       "      <th>1253</th>\n",
       "      <td>196.880005</td>\n",
       "    </tr>\n",
       "    <tr>\n",
       "      <th>1254</th>\n",
       "      <td>207.630005</td>\n",
       "    </tr>\n",
       "    <tr>\n",
       "      <th>1255</th>\n",
       "      <td>205.710007</td>\n",
       "    </tr>\n",
       "    <tr>\n",
       "      <th>1256</th>\n",
       "      <td>202.770004</td>\n",
       "    </tr>\n",
       "    <tr>\n",
       "      <th>1257</th>\n",
       "      <td>190.899994</td>\n",
       "    </tr>\n",
       "  </tbody>\n",
       "</table>\n",
       "<p>1258 rows × 1 columns</p>\n",
       "</div>"
      ],
      "text/plain": [
       "           Close\n",
       "0      22.223333\n",
       "1      21.879999\n",
       "2      22.153334\n",
       "3      21.940001\n",
       "4      21.811333\n",
       "...          ...\n",
       "1253  196.880005\n",
       "1254  207.630005\n",
       "1255  205.710007\n",
       "1256  202.770004\n",
       "1257  190.899994\n",
       "\n",
       "[1258 rows x 1 columns]"
      ]
     },
     "execution_count": 96,
     "metadata": {},
     "output_type": "execute_result"
    }
   ],
   "source": [
    "df_JUL_DEC_2022"
   ]
  },
  {
   "cell_type": "code",
   "execution_count": 97,
   "id": "8b7d743e",
   "metadata": {},
   "outputs": [
    {
     "data": {
      "text/plain": [
       "<AxesSubplot: >"
      ]
     },
     "execution_count": 97,
     "metadata": {},
     "output_type": "execute_result"
    },
    {
     "data": {
      "image/png": "[encoded data removed]",
      "text/plain": [
       "<Figure size 640x480 with 1 Axes>"
      ]
     },
     "metadata": {},
     "output_type": "display_data"
    }
   ],
   "source": [
    "df_JUL_DEC_2022.plot()"
   ]
  },
  {
   "cell_type": "code",
   "execution_count": 98,
   "id": "7d3e48f2",
   "metadata": {},
   "outputs": [
    {
     "data": {
      "text/plain": [
       "array([271.53112557, 271.74090161, 271.79022578, 271.57980917,\n",
       "       271.08825186, 270.34143778, 269.38691173, 268.27781761,\n",
       "       267.06378801, 265.78657887, 264.47871709, 263.1640937 ,\n",
       "       261.85891284, 260.57368466, 259.31441158, 258.0843202 ,\n",
       "       256.8843595 , 255.7145295 , 254.57423706, 253.46239085,\n",
       "       252.37820793, 251.32059695, 250.28875128, 249.28205406,\n",
       "       248.29972236, 247.34132914, 246.40632873, 245.49419917,\n",
       "       244.60458459, 243.73710539, 242.89119218, 242.06644163,\n",
       "       241.26237923, 240.47864912, 239.71472934, 238.97014541,\n",
       "       238.24454143, 237.53727684, 236.84813812, 236.17646097,\n",
       "       235.52203185, 234.88416275, 234.2626876 , 233.65698954,\n",
       "       233.06676015, 232.49161983, 231.93107035, 231.38492192,\n",
       "       230.85260514, 230.33388276, 229.82835146, 229.33565535,\n",
       "       228.85553347, 228.38760621, 227.93161261, 227.48714933,\n",
       "       227.05397913, 226.63179358, 226.22030799, 225.81923765,\n",
       "       225.4283216 , 225.04727512, 224.67590842, 224.31391308,\n",
       "       223.96105185, 223.61706375, 223.28183016, 222.95501893,\n",
       "       222.6363928 , 222.32592806, 222.02329256, 221.72824904,\n",
       "       221.44063143, 221.1603211 , 220.88700964, 220.62055469,\n",
       "       220.36083762, 220.1070518 , 219.85855663, 219.61542331,\n",
       "       219.3774383 , 219.14464906, 218.91684206, 218.69399357,\n",
       "       218.4759138 , 218.26255529, 218.05375198, 217.84933778,\n",
       "       217.6493127 , 217.45348693, 217.26174186, 217.07403003,\n",
       "       216.89020909, 216.71027904, 216.53397891, 216.3614036 ,\n",
       "       216.19233958, 216.02678686, 215.86457935, 215.70578824,\n",
       "       215.55017627, 215.39776717, 215.24851349, 215.10227287,\n",
       "       214.9590216 , 214.81873595, 214.68122612, 214.54656329,\n",
       "       214.41467627, 214.28547018, 214.15882638, 214.03483977,\n",
       "       213.91334428, 213.79429247, 213.6776606 , 213.56342494,\n",
       "       213.45149061])"
      ]
     },
     "execution_count": 98,
     "metadata": {},
     "output_type": "execute_result"
    }
   ],
   "source": [
    "forecast_df['Forecast'].values"
   ]
  },
  {
   "cell_type": "code",
   "execution_count": 99,
   "id": "a4ce4cd2",
   "metadata": {},
   "outputs": [],
   "source": [
    "df_JUL_DEC_2022['Forecast'] = df.values"
   ]
  },
  {
   "cell_type": "code",
   "execution_count": 100,
   "id": "fca7f1cd",
   "metadata": {},
   "outputs": [
    {
     "data": {
      "text/html": [
       "<div>\n",
       "<style scoped>\n",
       "    .dataframe tbody tr th:only-of-type {\n",
       "        vertical-align: middle;\n",
       "    }\n",
       "\n",
       "    .dataframe tbody tr th {\n",
       "        vertical-align: top;\n",
       "    }\n",
       "\n",
       "    .dataframe thead th {\n",
       "        text-align: right;\n",
       "    }\n",
       "</style>\n",
       "<table border=\"1\" class=\"dataframe\">\n",
       "  <thead>\n",
       "    <tr style=\"text-align: right;\">\n",
       "      <th></th>\n",
       "      <th>Close</th>\n",
       "      <th>Forecast</th>\n",
       "    </tr>\n",
       "  </thead>\n",
       "  <tbody>\n",
       "    <tr>\n",
       "      <th>0</th>\n",
       "      <td>22.223333</td>\n",
       "      <td>22.223333</td>\n",
       "    </tr>\n",
       "    <tr>\n",
       "      <th>1</th>\n",
       "      <td>21.879999</td>\n",
       "      <td>21.879999</td>\n",
       "    </tr>\n",
       "    <tr>\n",
       "      <th>2</th>\n",
       "      <td>22.153334</td>\n",
       "      <td>22.153334</td>\n",
       "    </tr>\n",
       "    <tr>\n",
       "      <th>3</th>\n",
       "      <td>21.940001</td>\n",
       "      <td>21.940001</td>\n",
       "    </tr>\n",
       "    <tr>\n",
       "      <th>4</th>\n",
       "      <td>21.811333</td>\n",
       "      <td>21.811333</td>\n",
       "    </tr>\n",
       "    <tr>\n",
       "      <th>...</th>\n",
       "      <td>...</td>\n",
       "      <td>...</td>\n",
       "    </tr>\n",
       "    <tr>\n",
       "      <th>1253</th>\n",
       "      <td>196.880005</td>\n",
       "      <td>213.913344</td>\n",
       "    </tr>\n",
       "    <tr>\n",
       "      <th>1254</th>\n",
       "      <td>207.630005</td>\n",
       "      <td>213.794292</td>\n",
       "    </tr>\n",
       "    <tr>\n",
       "      <th>1255</th>\n",
       "      <td>205.710007</td>\n",
       "      <td>213.677661</td>\n",
       "    </tr>\n",
       "    <tr>\n",
       "      <th>1256</th>\n",
       "      <td>202.770004</td>\n",
       "      <td>213.563425</td>\n",
       "    </tr>\n",
       "    <tr>\n",
       "      <th>1257</th>\n",
       "      <td>190.899994</td>\n",
       "      <td>213.451491</td>\n",
       "    </tr>\n",
       "  </tbody>\n",
       "</table>\n",
       "<p>1258 rows × 2 columns</p>\n",
       "</div>"
      ],
      "text/plain": [
       "           Close    Forecast\n",
       "0      22.223333   22.223333\n",
       "1      21.879999   21.879999\n",
       "2      22.153334   22.153334\n",
       "3      21.940001   21.940001\n",
       "4      21.811333   21.811333\n",
       "...          ...         ...\n",
       "1253  196.880005  213.913344\n",
       "1254  207.630005  213.794292\n",
       "1255  205.710007  213.677661\n",
       "1256  202.770004  213.563425\n",
       "1257  190.899994  213.451491\n",
       "\n",
       "[1258 rows x 2 columns]"
      ]
     },
     "execution_count": 100,
     "metadata": {},
     "output_type": "execute_result"
    }
   ],
   "source": [
    "df_JUL_DEC_2022"
   ]
  },
  {
   "cell_type": "code",
   "execution_count": 101,
   "id": "6d9f666f",
   "metadata": {},
   "outputs": [
    {
     "data": {
      "image/png": "[encoded data removed]",
      "text/plain": [
       "<Figure size 640x480 with 1 Axes>"
      ]
     },
     "metadata": {},
     "output_type": "display_data"
    }
   ],
   "source": [
    "plt.plot(df_JUL_DEC_2022, 'b', linewidth=2, alpha=0.4,)\n",
    "\n",
    "plt.xlabel('Time')\n",
    "plt.ylabel('Price')\n",
    "plt.title('TSLA Price')\n",
    "\n",
    "plt.tight_layout()"
   ]
  },
  {
   "cell_type": "code",
   "execution_count": null,
   "id": "23b718ae",
   "metadata": {},
   "outputs": [],
   "source": []
  }
 ],
 "metadata": {
  "kernelspec": {
   "display_name": "Python 3 (ipykernel)",
   "language": "python",
   "name": "python3"
  },
  "language_info": {
   "codemirror_mode": {
    "name": "ipython",
    "version": 3
   },
   "file_extension": ".py",
   "mimetype": "text/x-python",
   "name": "python",
   "nbconvert_exporter": "python",
   "pygments_lexer": "ipython3",
   "version": "3.9.16"
  }
 },
 "nbformat": 4,
 "nbformat_minor": 5
}
